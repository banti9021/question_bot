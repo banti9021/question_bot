{
 "cells": [
  {
   "cell_type": "code",
   "execution_count": 1,
   "metadata": {},
   "outputs": [],
   "source": [
    "import pinecone"
   ]
  },
  {
   "cell_type": "code",
   "execution_count": 2,
   "metadata": {},
   "outputs": [
    {
     "name": "stdout",
     "output_type": "stream",
     "text": [
      "Requirement already satisfied: jupyter in c:\\users\\realme\\anaconda3\\envs\\vivek2110\\lib\\site-packages (1.0.0)\n",
      "Requirement already satisfied: ipywidgets in c:\\users\\realme\\anaconda3\\envs\\vivek2110\\lib\\site-packages (8.1.3)\n",
      "Requirement already satisfied: notebook in c:\\users\\realme\\anaconda3\\envs\\vivek2110\\lib\\site-packages (from jupyter) (7.2.1)\n",
      "Requirement already satisfied: qtconsole in c:\\users\\realme\\anaconda3\\envs\\vivek2110\\lib\\site-packages (from jupyter) (5.5.2)\n",
      "Requirement already satisfied: jupyter-console in c:\\users\\realme\\anaconda3\\envs\\vivek2110\\lib\\site-packages (from jupyter) (6.6.3)\n",
      "Requirement already satisfied: nbconvert in c:\\users\\realme\\anaconda3\\envs\\vivek2110\\lib\\site-packages (from jupyter) (7.16.4)\n",
      "Requirement already satisfied: ipykernel in c:\\users\\realme\\anaconda3\\envs\\vivek2110\\lib\\site-packages (from jupyter) (6.29.5)\n",
      "Requirement already satisfied: comm>=0.1.3 in c:\\users\\realme\\anaconda3\\envs\\vivek2110\\lib\\site-packages (from ipywidgets) (0.2.2)\n",
      "Requirement already satisfied: ipython>=6.1.0 in c:\\users\\realme\\anaconda3\\envs\\vivek2110\\lib\\site-packages (from ipywidgets) (8.12.2)\n",
      "Requirement already satisfied: traitlets>=4.3.1 in c:\\users\\realme\\anaconda3\\envs\\vivek2110\\lib\\site-packages (from ipywidgets) (5.14.3)\n",
      "Requirement already satisfied: widgetsnbextension~=4.0.11 in c:\\users\\realme\\anaconda3\\envs\\vivek2110\\lib\\site-packages (from ipywidgets) (4.0.11)\n",
      "Requirement already satisfied: jupyterlab-widgets~=3.0.11 in c:\\users\\realme\\anaconda3\\envs\\vivek2110\\lib\\site-packages (from ipywidgets) (3.0.11)\n",
      "Requirement already satisfied: backcall in c:\\users\\realme\\anaconda3\\envs\\vivek2110\\lib\\site-packages (from ipython>=6.1.0->ipywidgets) (0.2.0)\n",
      "Requirement already satisfied: decorator in c:\\users\\realme\\anaconda3\\envs\\vivek2110\\lib\\site-packages (from ipython>=6.1.0->ipywidgets) (5.1.1)\n",
      "Requirement already satisfied: jedi>=0.16 in c:\\users\\realme\\anaconda3\\envs\\vivek2110\\lib\\site-packages (from ipython>=6.1.0->ipywidgets) (0.19.1)\n",
      "Requirement already satisfied: matplotlib-inline in c:\\users\\realme\\anaconda3\\envs\\vivek2110\\lib\\site-packages (from ipython>=6.1.0->ipywidgets) (0.1.7)\n",
      "Requirement already satisfied: pickleshare in c:\\users\\realme\\anaconda3\\envs\\vivek2110\\lib\\site-packages (from ipython>=6.1.0->ipywidgets) (0.7.5)\n",
      "Requirement already satisfied: prompt-toolkit!=3.0.37,<3.1.0,>=3.0.30 in c:\\users\\realme\\anaconda3\\envs\\vivek2110\\lib\\site-packages (from ipython>=6.1.0->ipywidgets) (3.0.47)\n",
      "Requirement already satisfied: pygments>=2.4.0 in c:\\users\\realme\\anaconda3\\envs\\vivek2110\\lib\\site-packages (from ipython>=6.1.0->ipywidgets) (2.18.0)\n",
      "Requirement already satisfied: stack-data in c:\\users\\realme\\anaconda3\\envs\\vivek2110\\lib\\site-packages (from ipython>=6.1.0->ipywidgets) (0.6.2)\n",
      "Requirement already satisfied: typing-extensions in c:\\users\\realme\\anaconda3\\envs\\vivek2110\\lib\\site-packages (from ipython>=6.1.0->ipywidgets) (4.12.2)\n",
      "Requirement already satisfied: colorama in c:\\users\\realme\\anaconda3\\envs\\vivek2110\\lib\\site-packages (from ipython>=6.1.0->ipywidgets) (0.4.6)\n",
      "Requirement already satisfied: debugpy>=1.6.5 in c:\\users\\realme\\anaconda3\\envs\\vivek2110\\lib\\site-packages (from ipykernel->jupyter) (1.8.2)\n",
      "Requirement already satisfied: jupyter-client>=6.1.12 in c:\\users\\realme\\anaconda3\\envs\\vivek2110\\lib\\site-packages (from ipykernel->jupyter) (8.6.2)\n",
      "Requirement already satisfied: jupyter-core!=5.0.*,>=4.12 in c:\\users\\realme\\anaconda3\\envs\\vivek2110\\lib\\site-packages (from ipykernel->jupyter) (5.7.2)\n",
      "Requirement already satisfied: nest-asyncio in c:\\users\\realme\\anaconda3\\envs\\vivek2110\\lib\\site-packages (from ipykernel->jupyter) (1.6.0)\n",
      "Requirement already satisfied: packaging in c:\\users\\realme\\anaconda3\\envs\\vivek2110\\lib\\site-packages (from ipykernel->jupyter) (24.1)\n",
      "Requirement already satisfied: psutil in c:\\users\\realme\\anaconda3\\envs\\vivek2110\\lib\\site-packages (from ipykernel->jupyter) (6.0.0)\n",
      "Requirement already satisfied: pyzmq>=24 in c:\\users\\realme\\anaconda3\\envs\\vivek2110\\lib\\site-packages (from ipykernel->jupyter) (26.0.3)\n",
      "Requirement already satisfied: tornado>=6.1 in c:\\users\\realme\\anaconda3\\envs\\vivek2110\\lib\\site-packages (from ipykernel->jupyter) (6.4.1)\n",
      "Requirement already satisfied: beautifulsoup4 in c:\\users\\realme\\anaconda3\\envs\\vivek2110\\lib\\site-packages (from nbconvert->jupyter) (4.12.3)\n",
      "Requirement already satisfied: bleach!=5.0.0 in c:\\users\\realme\\anaconda3\\envs\\vivek2110\\lib\\site-packages (from nbconvert->jupyter) (6.1.0)\n",
      "Requirement already satisfied: defusedxml in c:\\users\\realme\\anaconda3\\envs\\vivek2110\\lib\\site-packages (from nbconvert->jupyter) (0.7.1)\n",
      "Requirement already satisfied: importlib-metadata>=3.6 in c:\\users\\realme\\anaconda3\\envs\\vivek2110\\lib\\site-packages (from nbconvert->jupyter) (8.1.0)\n",
      "Requirement already satisfied: jinja2>=3.0 in c:\\users\\realme\\anaconda3\\envs\\vivek2110\\lib\\site-packages (from nbconvert->jupyter) (3.1.4)\n",
      "Requirement already satisfied: jupyterlab-pygments in c:\\users\\realme\\anaconda3\\envs\\vivek2110\\lib\\site-packages (from nbconvert->jupyter) (0.3.0)\n",
      "Requirement already satisfied: markupsafe>=2.0 in c:\\users\\realme\\anaconda3\\envs\\vivek2110\\lib\\site-packages (from nbconvert->jupyter) (2.1.5)\n",
      "Requirement already satisfied: mistune<4,>=2.0.3 in c:\\users\\realme\\anaconda3\\envs\\vivek2110\\lib\\site-packages (from nbconvert->jupyter) (3.0.2)\n",
      "Requirement already satisfied: nbclient>=0.5.0 in c:\\users\\realme\\anaconda3\\envs\\vivek2110\\lib\\site-packages (from nbconvert->jupyter) (0.10.0)\n",
      "Requirement already satisfied: nbformat>=5.7 in c:\\users\\realme\\anaconda3\\envs\\vivek2110\\lib\\site-packages (from nbconvert->jupyter) (5.10.4)\n",
      "Requirement already satisfied: pandocfilters>=1.4.1 in c:\\users\\realme\\anaconda3\\envs\\vivek2110\\lib\\site-packages (from nbconvert->jupyter) (1.5.1)\n",
      "Requirement already satisfied: tinycss2 in c:\\users\\realme\\anaconda3\\envs\\vivek2110\\lib\\site-packages (from nbconvert->jupyter) (1.3.0)\n",
      "Requirement already satisfied: jupyter-server<3,>=2.4.0 in c:\\users\\realme\\anaconda3\\envs\\vivek2110\\lib\\site-packages (from notebook->jupyter) (2.14.2)\n",
      "Requirement already satisfied: jupyterlab-server<3,>=2.27.1 in c:\\users\\realme\\anaconda3\\envs\\vivek2110\\lib\\site-packages (from notebook->jupyter) (2.27.3)\n",
      "Requirement already satisfied: jupyterlab<4.3,>=4.2.0 in c:\\users\\realme\\anaconda3\\envs\\vivek2110\\lib\\site-packages (from notebook->jupyter) (4.2.4)\n",
      "Requirement already satisfied: notebook-shim<0.3,>=0.2 in c:\\users\\realme\\anaconda3\\envs\\vivek2110\\lib\\site-packages (from notebook->jupyter) (0.2.4)\n",
      "Requirement already satisfied: qtpy>=2.4.0 in c:\\users\\realme\\anaconda3\\envs\\vivek2110\\lib\\site-packages (from qtconsole->jupyter) (2.4.1)\n",
      "Requirement already satisfied: six>=1.9.0 in c:\\users\\realme\\anaconda3\\envs\\vivek2110\\lib\\site-packages (from bleach!=5.0.0->nbconvert->jupyter) (1.16.0)\n",
      "Requirement already satisfied: webencodings in c:\\users\\realme\\anaconda3\\envs\\vivek2110\\lib\\site-packages (from bleach!=5.0.0->nbconvert->jupyter) (0.5.1)\n",
      "Requirement already satisfied: zipp>=0.5 in c:\\users\\realme\\anaconda3\\envs\\vivek2110\\lib\\site-packages (from importlib-metadata>=3.6->nbconvert->jupyter) (3.19.2)\n",
      "Requirement already satisfied: parso<0.9.0,>=0.8.3 in c:\\users\\realme\\anaconda3\\envs\\vivek2110\\lib\\site-packages (from jedi>=0.16->ipython>=6.1.0->ipywidgets) (0.8.4)\n",
      "Requirement already satisfied: python-dateutil>=2.8.2 in c:\\users\\realme\\anaconda3\\envs\\vivek2110\\lib\\site-packages (from jupyter-client>=6.1.12->ipykernel->jupyter) (2.9.0)\n",
      "Requirement already satisfied: platformdirs>=2.5 in c:\\users\\realme\\anaconda3\\envs\\vivek2110\\lib\\site-packages (from jupyter-core!=5.0.*,>=4.12->ipykernel->jupyter) (4.2.2)\n",
      "Requirement already satisfied: pywin32>=300 in c:\\users\\realme\\anaconda3\\envs\\vivek2110\\lib\\site-packages (from jupyter-core!=5.0.*,>=4.12->ipykernel->jupyter) (306)\n",
      "Requirement already satisfied: anyio>=3.1.0 in c:\\users\\realme\\anaconda3\\envs\\vivek2110\\lib\\site-packages (from jupyter-server<3,>=2.4.0->notebook->jupyter) (4.4.0)\n",
      "Requirement already satisfied: argon2-cffi>=21.1 in c:\\users\\realme\\anaconda3\\envs\\vivek2110\\lib\\site-packages (from jupyter-server<3,>=2.4.0->notebook->jupyter) (23.1.0)\n",
      "Requirement already satisfied: jupyter-events>=0.9.0 in c:\\users\\realme\\anaconda3\\envs\\vivek2110\\lib\\site-packages (from jupyter-server<3,>=2.4.0->notebook->jupyter) (0.10.0)\n",
      "Requirement already satisfied: jupyter-server-terminals>=0.4.4 in c:\\users\\realme\\anaconda3\\envs\\vivek2110\\lib\\site-packages (from jupyter-server<3,>=2.4.0->notebook->jupyter) (0.5.3)\n",
      "Requirement already satisfied: overrides>=5.0 in c:\\users\\realme\\anaconda3\\envs\\vivek2110\\lib\\site-packages (from jupyter-server<3,>=2.4.0->notebook->jupyter) (7.7.0)\n",
      "Requirement already satisfied: prometheus-client>=0.9 in c:\\users\\realme\\anaconda3\\envs\\vivek2110\\lib\\site-packages (from jupyter-server<3,>=2.4.0->notebook->jupyter) (0.20.0)\n",
      "Requirement already satisfied: pywinpty>=2.0.1 in c:\\users\\realme\\anaconda3\\envs\\vivek2110\\lib\\site-packages (from jupyter-server<3,>=2.4.0->notebook->jupyter) (2.0.13)\n",
      "Requirement already satisfied: send2trash>=1.8.2 in c:\\users\\realme\\anaconda3\\envs\\vivek2110\\lib\\site-packages (from jupyter-server<3,>=2.4.0->notebook->jupyter) (1.8.3)\n",
      "Requirement already satisfied: terminado>=0.8.3 in c:\\users\\realme\\anaconda3\\envs\\vivek2110\\lib\\site-packages (from jupyter-server<3,>=2.4.0->notebook->jupyter) (0.18.1)\n",
      "Requirement already satisfied: websocket-client>=1.7 in c:\\users\\realme\\anaconda3\\envs\\vivek2110\\lib\\site-packages (from jupyter-server<3,>=2.4.0->notebook->jupyter) (1.8.0)\n",
      "Requirement already satisfied: async-lru>=1.0.0 in c:\\users\\realme\\anaconda3\\envs\\vivek2110\\lib\\site-packages (from jupyterlab<4.3,>=4.2.0->notebook->jupyter) (2.0.4)\n",
      "Requirement already satisfied: httpx>=0.25.0 in c:\\users\\realme\\anaconda3\\envs\\vivek2110\\lib\\site-packages (from jupyterlab<4.3,>=4.2.0->notebook->jupyter) (0.27.0)\n",
      "Requirement already satisfied: importlib-resources>=1.4 in c:\\users\\realme\\anaconda3\\envs\\vivek2110\\lib\\site-packages (from jupyterlab<4.3,>=4.2.0->notebook->jupyter) (6.4.0)\n",
      "Requirement already satisfied: jupyter-lsp>=2.0.0 in c:\\users\\realme\\anaconda3\\envs\\vivek2110\\lib\\site-packages (from jupyterlab<4.3,>=4.2.0->notebook->jupyter) (2.2.5)\n",
      "Requirement already satisfied: setuptools>=40.1.0 in c:\\users\\realme\\anaconda3\\envs\\vivek2110\\lib\\site-packages (from jupyterlab<4.3,>=4.2.0->notebook->jupyter) (69.5.1)\n",
      "Requirement already satisfied: tomli>=1.2.2 in c:\\users\\realme\\anaconda3\\envs\\vivek2110\\lib\\site-packages (from jupyterlab<4.3,>=4.2.0->notebook->jupyter) (2.0.1)\n",
      "Requirement already satisfied: babel>=2.10 in c:\\users\\realme\\anaconda3\\envs\\vivek2110\\lib\\site-packages (from jupyterlab-server<3,>=2.27.1->notebook->jupyter) (2.15.0)\n",
      "Requirement already satisfied: json5>=0.9.0 in c:\\users\\realme\\anaconda3\\envs\\vivek2110\\lib\\site-packages (from jupyterlab-server<3,>=2.27.1->notebook->jupyter) (0.9.25)\n",
      "Requirement already satisfied: jsonschema>=4.18.0 in c:\\users\\realme\\anaconda3\\envs\\vivek2110\\lib\\site-packages (from jupyterlab-server<3,>=2.27.1->notebook->jupyter) (4.23.0)\n",
      "Requirement already satisfied: requests>=2.31 in c:\\users\\realme\\anaconda3\\envs\\vivek2110\\lib\\site-packages (from jupyterlab-server<3,>=2.27.1->notebook->jupyter) (2.32.3)\n",
      "Requirement already satisfied: fastjsonschema>=2.15 in c:\\users\\realme\\anaconda3\\envs\\vivek2110\\lib\\site-packages (from nbformat>=5.7->nbconvert->jupyter) (2.20.0)\n",
      "Requirement already satisfied: wcwidth in c:\\users\\realme\\anaconda3\\envs\\vivek2110\\lib\\site-packages (from prompt-toolkit!=3.0.37,<3.1.0,>=3.0.30->ipython>=6.1.0->ipywidgets) (0.2.13)\n",
      "Requirement already satisfied: soupsieve>1.2 in c:\\users\\realme\\anaconda3\\envs\\vivek2110\\lib\\site-packages (from beautifulsoup4->nbconvert->jupyter) (2.5)\n",
      "Requirement already satisfied: executing>=1.2.0 in c:\\users\\realme\\anaconda3\\envs\\vivek2110\\lib\\site-packages (from stack-data->ipython>=6.1.0->ipywidgets) (2.0.1)\n",
      "Requirement already satisfied: asttokens>=2.1.0 in c:\\users\\realme\\anaconda3\\envs\\vivek2110\\lib\\site-packages (from stack-data->ipython>=6.1.0->ipywidgets) (2.4.1)\n",
      "Requirement already satisfied: pure-eval in c:\\users\\realme\\anaconda3\\envs\\vivek2110\\lib\\site-packages (from stack-data->ipython>=6.1.0->ipywidgets) (0.2.3)\n",
      "Requirement already satisfied: idna>=2.8 in c:\\users\\realme\\anaconda3\\envs\\vivek2110\\lib\\site-packages (from anyio>=3.1.0->jupyter-server<3,>=2.4.0->notebook->jupyter) (3.7)\n",
      "Requirement already satisfied: sniffio>=1.1 in c:\\users\\realme\\anaconda3\\envs\\vivek2110\\lib\\site-packages (from anyio>=3.1.0->jupyter-server<3,>=2.4.0->notebook->jupyter) (1.3.1)\n",
      "Requirement already satisfied: exceptiongroup>=1.0.2 in c:\\users\\realme\\anaconda3\\envs\\vivek2110\\lib\\site-packages (from anyio>=3.1.0->jupyter-server<3,>=2.4.0->notebook->jupyter) (1.2.2)\n",
      "Requirement already satisfied: argon2-cffi-bindings in c:\\users\\realme\\anaconda3\\envs\\vivek2110\\lib\\site-packages (from argon2-cffi>=21.1->jupyter-server<3,>=2.4.0->notebook->jupyter) (21.2.0)\n",
      "Requirement already satisfied: pytz>=2015.7 in c:\\users\\realme\\anaconda3\\envs\\vivek2110\\lib\\site-packages (from babel>=2.10->jupyterlab-server<3,>=2.27.1->notebook->jupyter) (2024.1)\n",
      "Requirement already satisfied: certifi in c:\\users\\realme\\anaconda3\\envs\\vivek2110\\lib\\site-packages (from httpx>=0.25.0->jupyterlab<4.3,>=4.2.0->notebook->jupyter) (2024.7.4)\n",
      "Requirement already satisfied: httpcore==1.* in c:\\users\\realme\\anaconda3\\envs\\vivek2110\\lib\\site-packages (from httpx>=0.25.0->jupyterlab<4.3,>=4.2.0->notebook->jupyter) (1.0.5)\n",
      "Requirement already satisfied: h11<0.15,>=0.13 in c:\\users\\realme\\anaconda3\\envs\\vivek2110\\lib\\site-packages (from httpcore==1.*->httpx>=0.25.0->jupyterlab<4.3,>=4.2.0->notebook->jupyter) (0.14.0)\n",
      "Requirement already satisfied: attrs>=22.2.0 in c:\\users\\realme\\anaconda3\\envs\\vivek2110\\lib\\site-packages (from jsonschema>=4.18.0->jupyterlab-server<3,>=2.27.1->notebook->jupyter) (23.2.0)\n",
      "Requirement already satisfied: jsonschema-specifications>=2023.03.6 in c:\\users\\realme\\anaconda3\\envs\\vivek2110\\lib\\site-packages (from jsonschema>=4.18.0->jupyterlab-server<3,>=2.27.1->notebook->jupyter) (2023.12.1)\n",
      "Requirement already satisfied: pkgutil-resolve-name>=1.3.10 in c:\\users\\realme\\anaconda3\\envs\\vivek2110\\lib\\site-packages (from jsonschema>=4.18.0->jupyterlab-server<3,>=2.27.1->notebook->jupyter) (1.3.10)\n",
      "Requirement already satisfied: referencing>=0.28.4 in c:\\users\\realme\\anaconda3\\envs\\vivek2110\\lib\\site-packages (from jsonschema>=4.18.0->jupyterlab-server<3,>=2.27.1->notebook->jupyter) (0.35.1)\n",
      "Requirement already satisfied: rpds-py>=0.7.1 in c:\\users\\realme\\anaconda3\\envs\\vivek2110\\lib\\site-packages (from jsonschema>=4.18.0->jupyterlab-server<3,>=2.27.1->notebook->jupyter) (0.19.1)\n",
      "Requirement already satisfied: python-json-logger>=2.0.4 in c:\\users\\realme\\anaconda3\\envs\\vivek2110\\lib\\site-packages (from jupyter-events>=0.9.0->jupyter-server<3,>=2.4.0->notebook->jupyter) (2.0.7)\n",
      "Requirement already satisfied: pyyaml>=5.3 in c:\\users\\realme\\anaconda3\\envs\\vivek2110\\lib\\site-packages (from jupyter-events>=0.9.0->jupyter-server<3,>=2.4.0->notebook->jupyter) (6.0.1)\n",
      "Requirement already satisfied: rfc3339-validator in c:\\users\\realme\\anaconda3\\envs\\vivek2110\\lib\\site-packages (from jupyter-events>=0.9.0->jupyter-server<3,>=2.4.0->notebook->jupyter) (0.1.4)\n",
      "Requirement already satisfied: rfc3986-validator>=0.1.1 in c:\\users\\realme\\anaconda3\\envs\\vivek2110\\lib\\site-packages (from jupyter-events>=0.9.0->jupyter-server<3,>=2.4.0->notebook->jupyter) (0.1.1)\n",
      "Requirement already satisfied: charset-normalizer<4,>=2 in c:\\users\\realme\\anaconda3\\envs\\vivek2110\\lib\\site-packages (from requests>=2.31->jupyterlab-server<3,>=2.27.1->notebook->jupyter) (3.3.2)\n",
      "Requirement already satisfied: urllib3<3,>=1.21.1 in c:\\users\\realme\\anaconda3\\envs\\vivek2110\\lib\\site-packages (from requests>=2.31->jupyterlab-server<3,>=2.27.1->notebook->jupyter) (1.26.19)\n",
      "Requirement already satisfied: fqdn in c:\\users\\realme\\anaconda3\\envs\\vivek2110\\lib\\site-packages (from jsonschema[format-nongpl]>=4.18.0->jupyter-events>=0.9.0->jupyter-server<3,>=2.4.0->notebook->jupyter) (1.5.1)\n",
      "Requirement already satisfied: isoduration in c:\\users\\realme\\anaconda3\\envs\\vivek2110\\lib\\site-packages (from jsonschema[format-nongpl]>=4.18.0->jupyter-events>=0.9.0->jupyter-server<3,>=2.4.0->notebook->jupyter) (20.11.0)\n",
      "Requirement already satisfied: jsonpointer>1.13 in c:\\users\\realme\\anaconda3\\envs\\vivek2110\\lib\\site-packages (from jsonschema[format-nongpl]>=4.18.0->jupyter-events>=0.9.0->jupyter-server<3,>=2.4.0->notebook->jupyter) (3.0.0)\n",
      "Requirement already satisfied: uri-template in c:\\users\\realme\\anaconda3\\envs\\vivek2110\\lib\\site-packages (from jsonschema[format-nongpl]>=4.18.0->jupyter-events>=0.9.0->jupyter-server<3,>=2.4.0->notebook->jupyter) (1.3.0)\n",
      "Requirement already satisfied: webcolors>=24.6.0 in c:\\users\\realme\\anaconda3\\envs\\vivek2110\\lib\\site-packages (from jsonschema[format-nongpl]>=4.18.0->jupyter-events>=0.9.0->jupyter-server<3,>=2.4.0->notebook->jupyter) (24.6.0)\n",
      "Requirement already satisfied: cffi>=1.0.1 in c:\\users\\realme\\anaconda3\\envs\\vivek2110\\lib\\site-packages (from argon2-cffi-bindings->argon2-cffi>=21.1->jupyter-server<3,>=2.4.0->notebook->jupyter) (1.16.0)\n",
      "Requirement already satisfied: pycparser in c:\\users\\realme\\anaconda3\\envs\\vivek2110\\lib\\site-packages (from cffi>=1.0.1->argon2-cffi-bindings->argon2-cffi>=21.1->jupyter-server<3,>=2.4.0->notebook->jupyter) (2.22)\n",
      "Requirement already satisfied: arrow>=0.15.0 in c:\\users\\realme\\anaconda3\\envs\\vivek2110\\lib\\site-packages (from isoduration->jsonschema[format-nongpl]>=4.18.0->jupyter-events>=0.9.0->jupyter-server<3,>=2.4.0->notebook->jupyter) (1.3.0)\n",
      "Requirement already satisfied: types-python-dateutil>=2.8.10 in c:\\users\\realme\\anaconda3\\envs\\vivek2110\\lib\\site-packages (from arrow>=0.15.0->isoduration->jsonschema[format-nongpl]>=4.18.0->jupyter-events>=0.9.0->jupyter-server<3,>=2.4.0->notebook->jupyter) (2.9.0.20240316)\n"
     ]
    }
   ],
   "source": [
    "!pip install --upgrade jupyter ipywidgets\n",
    "\n"
   ]
  },
  {
   "cell_type": "code",
   "execution_count": 3,
   "metadata": {},
   "outputs": [],
   "source": [
    "from langchain import PromptTemplate\n",
    "from langchain.chains import RetrievalQA\n",
    "from langchain.embeddings import HuggingFaceEmbeddings\n",
    "from langchain.vectorstores import Pinecone\n",
    "import pinecone\n",
    "from langchain.document_loaders import PyPDFLoader, DirectoryLoader\n",
    "from langchain.text_splitter import RecursiveCharacterTextSplitter\n",
    "from langchain.prompts import PromptTemplate\n",
    "from langchain.llms import CTransformers"
   ]
  },
  {
   "cell_type": "code",
   "execution_count": 4,
   "metadata": {},
   "outputs": [],
   "source": [
    "PINECONE_API_KEY = \"4d6fb2ad-d4c6-48df-8346-7cc0b3027f18\"\n",
    "PINECONE_API_ENV = \"gcp-starter\""
   ]
  },
  {
   "cell_type": "code",
   "execution_count": 5,
   "metadata": {},
   "outputs": [],
   "source": [
    "#Extract data from the PDF\n",
    "def load_pdf(data):\n",
    "    loader = DirectoryLoader(data,\n",
    "                    glob=\"*.pdf\",\n",
    "                    loader_cls=PyPDFLoader)\n",
    "    \n",
    "    documents = loader.load()\n",
    "\n",
    "    return documents"
   ]
  },
  {
   "cell_type": "code",
   "execution_count": 6,
   "metadata": {},
   "outputs": [
    {
     "name": "stderr",
     "output_type": "stream",
     "text": [
      "Multiple definitions in dictionary at byte 0x7a for key /Subtype\n",
      "Multiple definitions in dictionary at byte 0x247 for key /Subtype\n",
      "Multiple definitions in dictionary at byte 0x8acf for key /Subtype\n",
      "Multiple definitions in dictionary at byte 0x7a for key /Subtype\n",
      "Multiple definitions in dictionary at byte 0x3a6 for key /Subtype\n",
      "Multiple definitions in dictionary at byte 0x7a for key /Subtype\n",
      "Multiple definitions in dictionary at byte 0x342 for key /Subtype\n",
      "Multiple definitions in dictionary at byte 0x7a for key /Subtype\n",
      "Multiple definitions in dictionary at byte 0x3a6 for key /Subtype\n",
      "Multiple definitions in dictionary at byte 0x7a for key /Subtype\n",
      "Multiple definitions in dictionary at byte 0x342 for key /Subtype\n",
      "Multiple definitions in dictionary at byte 0x7a for key /Subtype\n",
      "Multiple definitions in dictionary at byte 0x3a6 for key /Subtype\n",
      "Multiple definitions in dictionary at byte 0x7a for key /Subtype\n",
      "Multiple definitions in dictionary at byte 0x342 for key /Subtype\n",
      "Multiple definitions in dictionary at byte 0x7a for key /Subtype\n",
      "Multiple definitions in dictionary at byte 0x3a6 for key /Subtype\n"
     ]
    }
   ],
   "source": [
    "extracted_data = load_pdf(\"E:\\question_bot\\data/\")"
   ]
  },
  {
   "cell_type": "code",
   "execution_count": 7,
   "metadata": {},
   "outputs": [
    {
     "data": {
      "text/plain": [
       "[Document(metadata={'source': 'E:\\\\question_bot\\\\data\\\\Chatbot_in_business.pdf', 'page': 0}, page_content=' \\n \\nThis is an open access paper under the license  \\n \\n I C E M I T  \\n1st International Scientific Conference on Economy, Management \\nand Informa tion Technologies – ICEMIT 2023  \\n \\n \\nChatbot in business  \\n \\nMilan Puvačaa\\uf02a, Ivan Kunacb \\n \\na Ofir d.o.o., Osijek, Croatia  \\nb A. G. Matoš Elementary School, Tovarnik, Croatia  \\n \\nA r t i c l e   i n f o   A b s t r a c t  \\n \\nReview paper  \\n \\nDOI:  \\nhttps://doi.org/10.46793/ICEMIT23.219P       \\n \\nUDC/ UDK:  \\n070.3 :004.8    \\nThe cost of today\\'s employee education is ex tensive, but also dynamic due to the global \\nchallenges of business that encompasses each activity. The special expression of the \\naforementioned is outlined in the elements of customer support provided to visitors or \\npotential clients through the websites o f companies or other institutions. In order to \\nsomewhat bridge the gap of new training and training of customer support, companies \\nare forced to seek new models of communication with users and resolve their inquiries \\nas soon as possible. As a solution, the  implementation of chatbots in websites is imposed \\nas the first phase of communication with users and the resolution of simple queries by \\nusers.  Full business automation is a constant focus of corporations precisely because \\nof the global market and increasingly demanding clients. The last year has been marked \\nby the increasing availability of artificial intelligence, advanced computing, or big data \\nprocessing. The orientation of this technology towards customer satisfaction, and \\nthrough the use of ad vantages of chatbot as a \"first line\" of conversation with visitors \\nenables unprecedented functionality.  Through research of available literature and \\npublicly available examples of good practice, the advantages, and disadvantages of \\nimplementing chatbots a s a substitute for customer support will be observed.  \\nKeywords : modern business, chatbot, information and communication technology, \\ndigitization  \\n \\n1. Introduction   \\n \\nIn the current landscape of the global market, rapid and swift transformations are reshaping both corporate and personal \\nspheres. This dynamic environment  leaves minimal margin for errors or lack of readiness in responding to the fluid and \\nevolving conditions. As a result, the imperative to adapt to these changes swiftly and adeptly is paramount for success. \\nCompanies across all sectors are facing the impac t of global crises and challenges (post -Covid, inflation, war situation in \\nUkraine), necessitating strategic responses to maintain resilience and competitiveness. Cost optimization and efficient \\nresource allocation, particularly concerning human capital, h ave become imperative to ensure sustained operations and \\ngrowth. Moreover, the recruitment and retention of skilled employees present additional complexities in this dynamic \\nlandscape.   \\n \\nAmidst these challenges, enterprises must continuously innovate, embr ace digital transformation, and cultivate a \\ncorporate culture that fosters adaptability and agility. Utilizing technology, data -driven insights, and market intelligence \\nis essential to predict customer needs, react to emerging trends, and stay competitive.  Embracing sustainability practices \\nand incorporating ESG (Environmental, Social and Governance) considerations can also enhance a company\\'s reputation \\nand attractiveness to investors and consumers in an increasingly conscious market.   \\n \\nIn this ever -changi ng global market, strategic decision -making, proactive risk management, and a relentless commitment \\nto excellence are essential for organizations to navigate uncertainties and thrive in the face of multifaceted challenges.  \\nMentioned digital approach is definitely here to stay and with new AI (artificial intelligence) benefits is getting more and \\nmore available to any company. Special care is considered in terms of human related work and switching repetitive tasks \\nto information technology. Gl obal popularity of Chat GPT (OpenAI, L.L.C., 2023.) pushed such technology even faster \\nand made thinking about practical implementations on highest rank in numerous businesses.  \\n \\n\\uf02aCorresponding author  \\nE-mail address:  milan@ofir.hr  \\n'),\n",
       " Document(metadata={'source': 'E:\\\\question_bot\\\\data\\\\Chatbot_in_business.pdf', 'page': 1}, page_content='Milan Puva ča, Ivan Kunac   \\n1st International Scientific Conference on Economy, Management and Information Technologies – ICEMIT 2023  220 An exemplary IT solution, widely recognized for its potential to enhance employee productivity, is the implementation \\nof a chatbot. By automating routine tasks and providing efficient customer support, chatbots can liberate valuable time \\nfor employees, enabling them to focus on more strategic and value -added activities.  It is quite noticeable how chatbot \\npopularity is growing in previous years as shown in Figure 1. The increased availability and utilization of chatbots can \\nbe primarily attributed to their heightened adaptability and simplified implementation processes. F urthermore, a \\nsignificant reduction in the costs associated with their development and deployment has played a pivotal role in their \\nwidespread adoption. These combined factors have synergistically contributed to the pervasive integration of chatbot \\ntechno logy across diverse sectors (Dashly Ltd., 2023). As a result, chatbots have emerged as versatile tools with the \\npotential to revolutionize interactions between users and automated systems.  \\nFigure 1. Google search frequency for \"cha tbot use\" keyword  \\n \\nSource: Author work with Google trends tool (Google Inc., 2023.)  \\n \\n \\n2. Theoretical grounds   \\n \\nIn today\\'s rapidly growing world of technology, the chatbot has emerged as an innovative virtual assistant that aids in \\ncommunication between humans and computers. A chatbot is computer program, which responds like a smart entity when \\nconversed with through text or voice and understands one or more human languages by Natural Language Processing \\n(NLP) (Adamopoulou, 2 020). These programs utilize artificial intelligence (AI) and natural language processing to \\nunderstand user queries and provide relevant responses. The rapid information processing and concurrent query handling \\ncapabilities of chatbots have solidified the ir significance in contemporary communication landscapes across diverse \\ndomains such as customer support, e -commerce, and banking. These versatile tools offer multifaceted benefits, enabling \\nefficient interactions between businesses and customers. Chatbots  come in several distinct types, each meticulously \\ndesigned to serve specific purposes and address varying user needs. By seamlessly integrating into various sectors, \\nchatbots enhance operational efficiency and user experiences, marking a pivotal advanceme nt in modern communication \\nparadigms.  \\nThe historical development of chatbots is traced, starting from early chatbot pioneers like ELIZA and PARRY to modern \\nexamples like Siri, Google Assistant, and ChatGPT. The evolution of chatbot technology demonstrates their \\ntransformation from basic pattern matching to sophisticated language models with potential applications in diverse fields.  \\n \\nFigure 2. Evolution of Chatbots for 70 years  \\n  \\nSource: Capacity (2023, June 15)  \\n \\n'),\n",
       " Document(metadata={'source': 'E:\\\\question_bot\\\\data\\\\Chatbot_in_business.pdf', 'page': 2}, page_content=\"Chatbot in business  \\n \\nToplica Academy of Applied Studies, Department of Business Studies Blace  221 According to Nesterchuk et al. (2021), the primary difference between gastronomic and other forms of tourism is the fact \\nthat this type of tourism is based on the concept of getting to know, research, tasting and enjoying the culture of \\ngastronomy of a cer tain country, area, region, or place. Starting precisely from the aspect of experience, Smith and Xiao \\n(2008) define this term as any journey through which the tourist enjoys and acquires knowledge about local gastronomic \\nproducts and thus experiences diff erent experiences in contact with food. Some authors point out that gastronomic tourism \\nis actually a subcategory of cultural tourism (Lin et al., 2021; Zvirbule et al., 2023), bearing in mind that Long (2004) \\nbelieves that this form of tourism allows tour ists to get to know the culture and traditions of a certain place through the \\nconsumption of food. destinations. This fact can be explained by the fact that through the consumption of food and \\ndifferent tastes, tourists learn about different cultures, accu mulate knowledge, and gain an authentic experience (Gheorghe \\net al., 2015). In accordance with the previous researches, it is evident that this form of tourism is a complex category, \\nwhich implies a combination of various aspects of the tourist experience through the consumption of food, contributing \\nto the economic revitalization of destinations and differentiating the tourist offer with the aim of achieving \\ncompetitiveness on the gastronomic tourism market.  \\n \\nOne of the key advantages of this approach is t he continuous availability to customers. The constant availability of such \\nsupport allows timely access to information regardless of the user's location or time zone. This approach often leads to \\nincreased customer satisfaction and fosters a sense of relia bility and trust in the product or company. Moreover, a chatbot \\nis capable of handling multiple user queries simultaneously without compromising the quality of responses or the ability \\nto address user inquiries. By resolving simple queries promptly, chatbo ts enable human customer support to focus on \\ncomplex issues, optimizing overall efficiency and improving the effectiveness of customer support.  \\n \\nAnother advantage of chatbot -based customer support is the consistency in response and problem -solving. Traditi onal \\ncustomer support may vary in terms of knowledge and skills of the agent providing it, whereas a chatbot follows a \\npredefined response scenario, ensuring consistent quality and scope of service. Such predefined scenarios provide reliable \\nsolutions to f requently encountered problems. Through algorithmic machine learning, chatbots can analyse all interactions \\nwith users and continuously improve their responses and problem -solving capabilities, enhancing their performance and \\nusefulness over time.   \\n \\nDespit e the significant advantages of chatbot -based customer support over traditional methods, chatbots cannot fully \\nreplace them. There are moments when emotional intelligence, de -escalation of situations, and complex problem -solving, \\nwhich only human customer support can demonstrate and provide, are necessary. Given these factors, a strategic approach \\nto optimizing customer support involves the integration of both chatbot -driven automation and human assistance, \\nculminating in a hybrid solution. Such a synergist ic framework capitalizes on the strengths of each component, leveraging \\nthe efficiency of chatbots for routine inquiries while harnessing human expertise to handle intricate and contextually \\nnuanced interactions. By fusing these capabilities, an enhanced c ustomer experience can be delivered that strikes a \\nharmonious balance between automation and personalized engagement.  \\n \\nA limitation associated with employing chatbots for customer support lies in their inherent inability to fully grasp intricat e \\ninquiries and nuanced linguistic variations specific to different counties and regions. This constraint arises from the \\ncomplexity of natural language understanding and the challenges posed by local dialects and idiomatic expressions. \\nAddressing this limit ation requires advancements in natural language processing algorithms and cross -cultural linguistic \\nmodelling to enable chatbots to effectively navigate the diverse landscape of customer interactions. Chatbots rely on \\nkeyword recognition, which can sometim es result in inaccurate or incomplete responses to user inquiries. They might \\nstruggle with local languages, idiomatic expressions, or sarcasm, resulting in repetitive responses that users may interpret \\nas a lack of accessibility and unprofessionalism. (Zu mstein, 2018.)  \\n \\n3. Different concepts of chatbot training  \\n \\nThe training of a chatbot encompasses a variety of approaches and methodologies that are tailored to its specific intended \\nfunction. These techniques are diverse, accommodating the unique requireme nts and objectives of each chatbot \\nimplementation. Here are some common ways:  \\n \\nRule based training  \\n \\nIn this approach, the chatbot is trained using a set of predefined rules. These rules are created based on anticipated user \\nqueries and corresponding responses. The chatbot matches user input with specific rules to generate appropriate replies. \\nWhile rule -based training is relatively straightforward to implement, it requires extensive manual rule creation and may \\nnot handle complex or unex pected queries effectively. (Thorat, 2020)  \\n \\n \"),\n",
       " Document(metadata={'source': 'E:\\\\question_bot\\\\data\\\\Chatbot_in_business.pdf', 'page': 3}, page_content='Milan Puva ča, Ivan Kunac   \\n1st International Scientific Conference on Economy, Management and Information Technologies – ICEMIT 2023  222 Supervised learning  \\nIn supervised learning, the chatbot is trained using labelled data. Human experts provide conversations or dialogues, with \\neach input paired with its corresponding desired output. These paire d examples serve as training data to teach the chatbot \\nhow to generate appropriate responses based on given inputs. Supervised learning requires a substantial amount of \\nlabelled data, and human experts\\' involvement is necessary to curate the training datas et. (Uprety, 2022)  \\n \\nReinforced learning  \\n \\nReinforcement learning involves training the chatbot through a trial -and-error process. The chatbot interacts with users \\nand receives feedback on its responses. Based on the feedback (reward or punishment), the chat bot learns to improve its \\nconversational abilities over time. Reinforcement learning requires careful design of reward systems and may involve \\nmore complex training algorithms. (Ricciardelli, 2019)  \\nIt\\'s important to remember that these approaches can be mi xed or adjusted depending on what\\'s needed and the resources \\navailable for training a chatbot. This flexibility allows for better training strategies to match each chatbot\\'s unique \\nrequirements.  \\n \\nIn addition to mentioned techniques or as its follow up, La rge Language Models and its usage as a “base” for Chatbots \\nbecame fascinating thing. This integration allows chatbots to provide contextually relevant and coherent answers, \\nenhancing customer engagement and satisfaction (Li, 2023). Ability of LLM to intera ct in “almost human” way provided \\nunbelievable results which are waiting to be implemented in months to come ( Ornes, 2023). Also, many programming \\nsolutions are getting prepared for own / custom LLM -Chatbot implementations (ex.  (Github, 2023)). Practical examples \\non how it should be done together with its advantages are publicly available ( Adams , 2023).  \\n \\nUsing new features of modern business as Big Data, Machine Learning, LLM together with experience having from the \\npast will undoubtably allow companies to grow, make new comparative advantage and provide fresh experiences for their \\ncustomers. Remaining que stion is, how long will it take for firms to realize this potential and what would be a client’s \\nfeedback.  \\n \\nThis paper will investigate the utilization of chatbots as customer support agents, irrespective of their training methods. \\nThe focus is on explori ng their effectiveness in customer service roles.  \\n \\n4. Case studies – practical examples  \\n \\nT.S. Nguyen (Nguyen, 2019) case study examines a software company in the software industry that provides applications \\non multiple platforms (Android, iOS, Windows) and experiences complications in the installation process and customer \\nsupport. The traditio nal customer support model involves an FAQ section on the company\\'s website and email responses. \\nThe company experiments with a chatbot during periods of increased user activity to improve response times and reduce \\nthe load on human support personnel. A qu estionnaire is designed to assess various dimensions of user experience. Case \\nstudy consist of two research questions: potential effects of the chatbot on customer Support and impact of chatbot \\nAssistance. In first research question the study analysed ten dimensions of customer experience, including information \\nquality, system quality, service quality, usefulness, and user satisfaction. The results indicated that the chatbot\\'s presenc e \\nled to improved responsiveness, reducing customer support response times . However, no significant differences were \\nobserved in information quality or system quality measures between the chatbot -enabled and traditional systems. This \\nsuggests that while the chatbot improved response time, it did not significantly enhance the qua lity of information \\nprovided to customers. In second research question the study examined cases where the chatbot was unable to fully resolve \\ncustomer issues, leading to human agent involvement. Contrary to initial expectations, the study found that unsucc essful \\nchatbot interactions did not significantly worsen the overall customer experience. While there were no significant \\ndifferences in information quality, system quality, and user satisfaction measures, the ratings in scenarios involving \\nhuman agent ass istance tended to be more consistent around the medians. This suggests that customers who experienced \\nchatbot -to-human escalation did not necessarily have a worse experience. The study suggests that the chatbot\\'s presence \\npositively influences certain aspe cts of service quality and user satisfaction. However, human involvement is important \\nwhen the chatbot can\\'t solve problems by itself, especially in maintaining information quality and certain service quality \\ndimensions.  \\n \\nThe case study acknowledges limita tions and suggests further research to explore additional dimensions and factors that \\ncould influence user experience with chatbots in customer support scenarios.  \\n \\nCase study conducted by Park et al. (Park S., 2019) aims to design a conversational sequence  for a brief motivational \\ninterview (MI) for stress management and explore its effectiveness on a Web -based text messaging application. The study \\nsought to understand users\\' perception of the conversation, its impact on coping with stress, and suggestions for improving \\nmental health support. The researchers developed a chatbot called \"Bonobot\" that utilized MI skills, including \\nquestioning, reflections, and MI -adherent statements, to engage users in a structured conversation. The study involved '),\n",
       " Document(metadata={'source': 'E:\\\\question_bot\\\\data\\\\Chatbot_in_business.pdf', 'page': 4}, page_content='Chatbot in business  \\n \\nToplica Academy of Applied Studies, Department of Business Studies Blace  223 graduate stu dents who engaged in conversations with Bonobot about their stress -related concerns. Main findings are as \\nfollows: Participants generally showed a preference for Bonobot\\'s use of thought -provoking questions, which encouraged \\nthem to reflect on themselves a nd explore potential changes. While feedback from Bonobot, including reflections and \\nsupportive statements, was well -received, certain participants found it to be repetitive or lacking contextual accuracy. The \\nnon-judgmental and empathetic approach adopted  by Bonobot was highly valued by participants, making it easier for \\nthem to open up and address their concerns. Participants expressed a desire for more personalized and context -specific \\nfeedback, along with informational assistance and specific action pla ns to better cope with stress. There was a range of \\nresponses to the problem -solving and change -oriented aspects, with some participants resistant and others finding the \\nconversation to be motivating and inspirational. The study highlights the potential of  using a chatbot to conduct MI for \\nstress management. It emphasizes the importance of combining technical and relational components in designing chatbot \\nconversations. While participants generally found the conversation helpful, there were limitations, suc h as the chatbot\\'s \\ninability to provide fully context -aware responses.  \\n \\nFuture research could explore different conversation sequences, incorporate multimedia elements, and develop \\nassessment tools to measure the effectiveness of chatbot -client interaction s in a therapeutic context.  \\n \\nA case study conducted by Miri Heo and Kyoung Jun Lee (Heo Miri, 2018) discusses the rise of chatbot -based messaging \\napplications as a potential alternative to traditional web browsers. It highlights the growth of messaging app s like \\nKakaoTalk, Tencent, Line, and Whatsapp, which are incorporating chatbots as a part of their ecosystem. The article \\nexplores the evolution of Naver TalkTalk, a card -based chatbot application developed by Naver, a major internet company \\nin Korea. Init ially, Naver\\'s attempt to engage users through direct picture uploads for offline stores did not work as \\nanticipated. Online communication between consumers and stores was better facilitated through competitors like \\nKakaoTalk. This led to the creation of N aver TalkTalk, a chatbot -based platform that allowed users to engage with offline \\nstore owners more efficiently. Naver TalkTalk\\'s success was attributed to its user -friendly cardbot interface, where users \\ncould select options from predefined categories, si mplifying the interaction process. The article also discusses Naver\\'s \\nprogression from simple chatbots to cardbots, which allowed users to choose scenarios and predefined options. The \\nintroduction of cardbots led to increased success rates and higher conve rsion rates for online purchases. The \\nimplementation of chatbots, particularly cardbots, resulted in improved user experience, efficient order placements, and \\nincreased customer satisfaction. Naver\\'s efforts to further enhance automation through robotic pr ocess automation are \\nalso highlighted. The company aimed to increase automation rates for various tasks, such as checking shipping status, \\nthrough robotic process automation, which could lead to reduced costs and improved customer satisfaction.  \\n \\nIn conclus ion, the article emphasizes the value of chatbots, particularly cardbots, in business communication and customer \\nengagement. It discusses Naver\\'s journey in developing and implementing chatbot solutions, highlighting their impact on \\ncustomer satisfaction, efficient communication, and potential benefits for small businesses and offline service providers.  \\nA case study of Siri (Lee, 2019.) begins by introducing chatbots as computer programs designed to mimic human \\nconversations. It categorizes Siri as a genera l-purpose chatbot that can handle a wide array of queries for specific task. It \\nexplains how rule -based chatbots use question -and-answer knowledge bases, while recent advancements in deep learning \\nhave significantly improved chatbot performance, allowing t hem to engage in more sophisticated conversations. \\nHowever, challenges remain, particularly in understanding multi -turn conversations. The study\\'s methodology is detailed, \\nfocusing on sentiment analysis conducted on posts from Weibo, a Chinese social netwo rking site. By categorizing \\nsentiments as positive or negative, the study sought to gauge users\\' opinions about Siri. The analysis of positive sentiments  \\nrevealed that users generally hold favourable views of Siri. Commonly associated terms included \"Apple ,\" \"voice,\" and \\n\"intelligent,\" reflecting positive discussions. On the flip side, the analysis of negative sentiments unveils a range of issu es. \\nUsers express dissatisfaction stemming from unexpected sound outputs, often leading to embarrassing or awkward \\nsituations. High user expectations also contribute to negative sentiments, as users anticipate Siri to fulfil complex request s \\nor tasks beyond its capabilities. The article subsequently draws a meaningful juxtaposition between Siri and Alime, \\nAlibaba\\'s int elligent shopping assistant. Notable distinctions between the two chatbots emerge, particularly in terms of \\ninput methods and functionalities. While Siri predominantly relies on voice interactions, Alime leans towards text -based \\ninput, although it does off er limited voice functionalities. Moreover, Siri, as a general -purpose chatbot, spans a broad \\narray of applications, whereas Alime is tailored for e -commerce, assisting customers with shopping -related inquiries and \\ntasks. An intriguing observation from the  study is the phenomenon of users \"coming on to\" chatbots, especially evident \\nwith phrases like \"I love you.\" This curiosity -driven behaviour, while unconventional, underscores users\\' desire to explore \\nthe boundaries of human -chatbot interactions. Develope rs are encouraged to consider and craft responses that handle such \\ninteractions tactfully, potentially infusing humour and creativity into the chatbot\\'s repertoire.  \\n \\nIn conclusion, the sentiment analysis provides valuable insights into users\\' perceptions of Siri. Users generally exhibit a \\npositive sentiment towards Siri, appreciating its functionalities and the engagement it fosters. The study accentuates the \\nimportance of adeptly managing interactions, humorously addressing unconventional queries, and ens uring consistent \\nuser satisfaction. It also underscores the potential for further research in sentiment analysis across diverse platforms and \\ndemographic groups, broadening our understanding of chatbot adoption and user engagement.  \\n '),\n",
       " Document(metadata={'source': 'E:\\\\question_bot\\\\data\\\\Chatbot_in_business.pdf', 'page': 5}, page_content='Milan Puva ča, Ivan Kunac   \\n1st International Scientific Conference on Economy, Management and Information Technologies – ICEMIT 2023  224 One of local examples o n how chatbot can be used is presented on digitalnakomora.hr ( Croatian Chamber of Commerce , \\n2023). The \"Digital Chamber,\" a communication platform designed for business entities, public administration, and \\ncitizens, represents an initiative led by the Croa tian Chamber of Economy. This project has received co -financing from \\nthe European Regional Development Fund through the Operational Programme Competitiveness and Cohesion. The \\nplatform encompasses various digital initiatives, including e -government authori zations, online learning, digital \\nlegislation, virtual trade fairs and promotions, electronic financing, membership management through online platforms, \\nand digital economic information dissemination. Large set of services which are provided with Digital C hamber is \\nsometimes confusing and difficult to follow, especially for new entrepreneurs. Idea of implementing a chatbot on platform \\nappeared exactly in order to simplify the onboarding process of SMEs which are main clients of this solution.  \\n \\nChatbot is always located in right bottom corner of the screen (desktop and mobile solution) which is one of the best user \\nexperience guidelines for its implementation ( Lee, 2023). Digital Chamber chatbot is trained on rule basis approach where \\nit expects specific keywords and user queries where it has prepared replies. In situations where it cannot help the user or \\nit does not understand the question it suggest typing “HELP” in order to see main categories where help can be provided. \\nThis approach as “zero  level” support is good enough, reducing unnecessary calls or emails where already written answers \\nwill be provided. However, at the moment better understanding or user guidance through the platform is missing and is \\nconsidered as chatbot update. Previousl y mentioned corelates with different conducted studies where “trust” in chatbots \\nis getting noticeably higher as they are providing wider understanding of user queries. (Wang, 2023).  \\n \\nThe process of integrating a chatbot with a learning phase is time -consu ming and often involves significant financial \\nexpenditures. Like other emerging technologies, there are strategies that prioritize the streamlining of the implementation \\nprocess, ultimately making it more accessible to a broader range of users. These appro aches aim to reduce the complexities \\nassociated with deploying a chatbot while also minimizing the financial burden. Consequently, the evolution of this \\ntechnology is marked by a effort to enhance efficiency and affordability, aligning it with the goals of  widespread adoption. \\nGreat example of this approach is FlowiseAI, an Open -source user interface visual tool to build your customized LLM \\nflow (FlowiseAI, Inc, 2023). With a lot of resources even non -technical user can understand basic concepts of this too l. \\nMainly with trial -and-error approach it is possible to prepare a custom chatbot ready to be implemented on any web site. \\nIt will be able to reply on custom queries related to client’s database, documents or even web sites by using OpenAI \\n(ChatGPT) conve rsational agents or LLM chains. Further automatization is available in cases when such chatbot cannot \\nprovide clear answer and should provide direct message to a company or connect a customer to a live support. Introduced \\nin the first quarter of 2023, Flow iseAI is a nascent tool that serves as a prominent illustration of the ongoing advancements \\nin business optimization geared towards achieving the pinnacle of customer experience. Its recent inception underscores \\nthe dynamic evolution within this field, hig hlighting the pursuit of elevated customer satisfaction and operational \\nexcellence.  \\n \\n5. Conclusion  \\n \\nChatbots offer distinct advantages that contribute to improved customer experiences. The continuous availability of \\nchatbots ensures timely access to information, enhancing customer satisfaction and building trust. The ability of chatbots \\nto handle multiple queries simultaneously, coupled with their consistent and algorithmically improving responses, \\noptimizes overall efficiency in customer support. How ever, while chatbots offer significant benefits, they are not without \\nlimitations. Their inability to fully comprehend complex queries, nuanced language variations, and emotional intelligence \\nunderscores the importance of a hybrid customer support approach  that combines chatbots with human assistance. This \\nfusion ensures a balance between efficiency and the human touch that is crucial for resolving intricate issues and \\ncultivating customer loyalty.  \\n \\nThe case studies presented highlight the real -world applic ations and impacts of chatbots in diverse business scenarios. \\nFrom improving responsiveness in customer support to facilitating motivational conversations for stress management, \\nchatbots showcase their potential across various domains. The success of these  implementations underscores the \\nimportance of thoughtful design, user -friendly interfaces, and continuous adaptation to user feedback.  \\n \\nThe integration of chatbots into modern business operations represents a significant step toward efficiency, \\nresponsiv eness, and enhanced customer experiences. Special role and new improvements are played by artificial \\nintelligence and its “variations” seen as Large Language Models. Integrating natural language capabilities into chatbot \\nresponses represents a significant step forward in minimizing miscommunication and addressing information gaps. This \\nenhancement is anticipated to significantly improve the quality of bot -client interactions by fostering a heightened sense \\nof confidence and assurance through seamless and ef fective communication. The continuous advancement of technology \\nis paving the way for the creation of interactive tools (easy to use) designed for crafting customized chatbots, thereby \\nprogressively bridging the gap towards broader acceptance and integrati on. Comparison of previously implemented \\nchatbots versus new LLM enhanced ones is a theme for next paper where authors are aiming to measure scale of \\nseriousness and real -human feeling in chatbot communication while using it in e -commerce solution. Only co mpanies \\nwhich will be able to use this potential will continue to grow and assure leading place in global markets.  \\n '),\n",
       " Document(metadata={'source': 'E:\\\\question_bot\\\\data\\\\Chatbot_in_business.pdf', 'page': 6}, page_content='Chatbot in business  \\n \\nToplica Academy of Applied Studies, Department of Business Studies Blace  225 References   \\n \\nAdamopoulou, E. M. & Moussiades , L. (2020). An Overview of Chatbot Technology. In I. Maglogiannis, L. Iliadis, & E. Pimenidis \\n(Eds.), IFIP Advances in Information and Communication Technology IFIPAICT: vol. 584 (pp. 373 -383). Springer. \\nhttps://doi.org/10.1007/978 -3-030-49186 -4_31   \\nAdams, F. (2023, July 15). Unleashing the Power of Large Language Models: Building an AI Chatbot for Private Knowledge Base \\nQueries. Medium . https://medium.com/@FrankAdams7/unleashing -the-power -of-large -language -models -building -an-ai-\\nchatbot -for-private -knowledge -base-eb8cf31c7fcc   \\nCapacity. (2023, June 15). Evolution of Chatbots. Capacity.  https://capacity.com/chatbots/evolution -of-chatbots/   \\nCroatian Chamber of Commerce. (2023, August 5). Home. Croatian Chamber of Commerce . https://digitalnakomora.hr/home   \\nDashly Ltd. (2023, June 15). Dashly blog. Chatbot statistics crucial to know in 2023. Dashly Ltd.  https://www.dashly.io/blog/chatbot -\\nstatistics/   \\nFlowiseAI, Inc. (2023, July 28). Build LLMs Apps Easily. FlowiseAI . https://flowiseai.com/   \\nGithub (2 023, June 23). GitHub - deep -diver/LLM -As-Chatbot: LLM as a Chatbot Service. Github .  https://github.com/deep -\\ndiver/LLM -As-Chatbot   \\nGoogle Inc. (2023, July 17). Google trends. Google Inc.  https://trends.google.com/trends/   \\nHeo Miri, L. K. (2018). Chatbot as a New Business Communication Tool: The Case of Naver TalkTalk. Business Comm unication \\nResearch and Practice. 1 (1), 41 -45. https://doi.org/10.22682/bcrp.2018.1.1.41   \\nIo, H.N., & Lee, C.B. (2019). Understanding the Adoption of Chatbot . In K. Arai, S . Kapoor,  & R. Bhatia  (Eds.), Advances in \\nInformation and Communication Networks Proceedings of the 2018 Future of Information and Commun ication Conference \\n(FICC), Vol. 1  (pp 632 –643). Springer. https://doi.org/10.1007/978 -3-030-03402 -3_44   \\nLee, M. (2023, July 25). Considerations for your chatbot design. UX Magazine . https://uxmag.com/articles/considerations -for-your-\\nchatbot -design -banner   \\nLi, J. e. (2023, June 22). ChatGPT: Lar ge-Scale Language Models for Conversational Agents. CDN Openai .  \\nhttps://cdn.openai.com/better -language -models/chatgpt.pdf   \\nNguyen, T. (2019). Potential effects of chatbot technology on customer support: A case study  [Master´s Thesis]. Aalto University \\nSchool of Science.  \\nOpenAI, L.L.C. (2023, July 22). ChatGPT. ChatGPT . https://chat.openai .com/   \\nOrnes, S. (2023, May 20). Quanta Magazine. The Unpredictable Abilities Emerging from Large AI Models. Quantamagazine . \\nhttps://www.quantamagazine.org/the -unpredictable -abilities -emerging -from -large -ai-models -20230316/#   \\nPark, S. H., Choi , J., Lee, S., Oh, C., Kim, C., La, S., Lee, J., Bongwon Suh , B. (2019). Designing a Chatbot for a Brief Motivational \\nInterview on Stress Management: Qualitative Case Study. Journal of Medical Internet Research , 21 (4), 1 -19. \\ndoi:10.2196/12231   \\nRicciardelli, E., & Biswas, D. (2019). Self -improving chatbots based on reinforcement learning. I n S. Singh (Ed.), 4th Multidisciplinary \\nConference on Reinforcement Learning and Decision Making  (pp. 1 -4). McGill University.  \\nSudan, P.U., & Jeong, S .R. (2022). The Impact of Semi -Supervised Learning on the Performance of Intelligent Chatbot System. \\nComputers, Materials & Continua, 71 (2), 3937 –3952.  \\nThorat, S. A. (2020). A Review on Implementation Issues of Rule -based Chatbot Systems . In Proceedings of  the International \\nConference on Innovative Computing & Communications (ICICC) 2020 . SSRN. https://dx.doi.org/10.2139/ssrn.3567047   \\nWang, X., Lin, X., & Shao, B. (2023 ). Artificial intelligence changes the way we work: A close look at innovating with chatbots. \\nJournal of the Association for Information Science and Technology, 74 (3), 339 –353. \\nZumstein, D., & Hundertmark, S. (2018.). Chatbots: an interactive technology fo r personalized communication and transaction. IADIS \\nInternational Journal on WWW/Internet, 15 (1), 96 –109.  \\n \\n  '),\n",
       " Document(metadata={'source': 'E:\\\\question_bot\\\\data\\\\Chatbot_in_business.pdf', 'page': 7}, page_content='Milan Puva ča, Ivan Kunac   \\n1st International Scientific Conference on Economy, Management and Information Technologies – ICEMIT 2023  226  \\n \\n \\n \\n \\n \\n \\n \\n \\n \\n \\n \\n \\n \\n \\n \\n \\n \\n \\n \\n ')]"
      ]
     },
     "execution_count": 7,
     "metadata": {},
     "output_type": "execute_result"
    }
   ],
   "source": [
    "extracted_data"
   ]
  },
  {
   "cell_type": "code",
   "execution_count": 8,
   "metadata": {},
   "outputs": [],
   "source": [
    "#Create text chunks\n",
    "def text_split(extracted_data):\n",
    "    text_splitter = RecursiveCharacterTextSplitter(chunk_size = 500, chunk_overlap = 20)\n",
    "    text_chunks = text_splitter.split_documents(extracted_data)\n",
    "\n",
    "    return text_chunks"
   ]
  },
  {
   "cell_type": "code",
   "execution_count": 9,
   "metadata": {},
   "outputs": [
    {
     "name": "stdout",
     "output_type": "stream",
     "text": [
      "length of my chunk: 83\n"
     ]
    }
   ],
   "source": [
    "text_chunks = text_split(extracted_data)\n",
    "print(\"length of my chunk:\", len(text_chunks))"
   ]
  },
  {
   "cell_type": "code",
   "execution_count": 10,
   "metadata": {},
   "outputs": [],
   "source": [
    "#download embedding model\n",
    "def download_hugging_face_embeddings():\n",
    "    embeddings = HuggingFaceEmbeddings(model_name=\"sentence-transformers/all-MiniLM-L6-v2\")\n",
    "    return embeddings"
   ]
  },
  {
   "cell_type": "code",
   "execution_count": 11,
   "metadata": {},
   "outputs": [],
   "source": [
    "import os\n",
    "os.environ['HF_HUB_DISABLE_SYMLINKS_WARNING'] = '1'\n"
   ]
  },
  {
   "cell_type": "code",
   "execution_count": 12,
   "metadata": {},
   "outputs": [
    {
     "name": "stderr",
     "output_type": "stream",
     "text": [
      "c:\\Users\\realme\\anaconda3\\envs\\vivek2110\\lib\\site-packages\\langchain_core\\_api\\deprecation.py:139: LangChainDeprecationWarning: The class `HuggingFaceEmbeddings` was deprecated in LangChain 0.2.2 and will be removed in 0.3.0. An updated version of the class exists in the langchain-huggingface package and should be used instead. To use it run `pip install -U langchain-huggingface` and import as `from langchain_huggingface import HuggingFaceEmbeddings`.\n",
      "  warn_deprecated(\n"
     ]
    }
   ],
   "source": [
    "embeddings = download_hugging_face_embeddings()"
   ]
  },
  {
   "cell_type": "code",
   "execution_count": 13,
   "metadata": {},
   "outputs": [
    {
     "data": {
      "text/plain": [
       "HuggingFaceEmbeddings(client=SentenceTransformer(\n",
       "  (0): Transformer({'max_seq_length': 256, 'do_lower_case': False}) with Transformer model: BertModel \n",
       "  (1): Pooling({'word_embedding_dimension': 384, 'pooling_mode_cls_token': False, 'pooling_mode_mean_tokens': True, 'pooling_mode_max_tokens': False, 'pooling_mode_mean_sqrt_len_tokens': False, 'pooling_mode_weightedmean_tokens': False, 'pooling_mode_lasttoken': False, 'include_prompt': True})\n",
       "  (2): Normalize()\n",
       "), model_name='sentence-transformers/all-MiniLM-L6-v2', cache_folder=None, model_kwargs={}, encode_kwargs={}, multi_process=False, show_progress=False)"
      ]
     },
     "execution_count": 13,
     "metadata": {},
     "output_type": "execute_result"
    }
   ],
   "source": [
    "embeddings"
   ]
  },
  {
   "cell_type": "code",
   "execution_count": 14,
   "metadata": {},
   "outputs": [
    {
     "name": "stdout",
     "output_type": "stream",
     "text": [
      "Length 384\n"
     ]
    }
   ],
   "source": [
    "query_result = embeddings.embed_query(\"Hello world\")\n",
    "print(\"Length\", len(query_result))"
   ]
  },
  {
   "cell_type": "code",
   "execution_count": 15,
   "metadata": {},
   "outputs": [
    {
     "name": "stdout",
     "output_type": "stream",
     "text": [
      "Requirement already satisfied: pinecone-client in c:\\users\\realme\\anaconda3\\envs\\vivek2110\\lib\\site-packages (5.0.0)\n",
      "Requirement already satisfied: certifi>=2019.11.17 in c:\\users\\realme\\anaconda3\\envs\\vivek2110\\lib\\site-packages (from pinecone-client) (2024.7.4)\n",
      "Requirement already satisfied: pinecone-plugin-inference==1.0.2 in c:\\users\\realme\\anaconda3\\envs\\vivek2110\\lib\\site-packages (from pinecone-client) (1.0.2)\n",
      "Requirement already satisfied: pinecone-plugin-interface<0.0.8,>=0.0.7 in c:\\users\\realme\\anaconda3\\envs\\vivek2110\\lib\\site-packages (from pinecone-client) (0.0.7)\n",
      "Requirement already satisfied: tqdm>=4.64.1 in c:\\users\\realme\\anaconda3\\envs\\vivek2110\\lib\\site-packages (from pinecone-client) (4.66.4)\n",
      "Requirement already satisfied: typing-extensions>=3.7.4 in c:\\users\\realme\\anaconda3\\envs\\vivek2110\\lib\\site-packages (from pinecone-client) (4.12.2)\n",
      "Requirement already satisfied: urllib3>=1.26.0 in c:\\users\\realme\\anaconda3\\envs\\vivek2110\\lib\\site-packages (from pinecone-client) (1.26.19)\n",
      "Requirement already satisfied: colorama in c:\\users\\realme\\anaconda3\\envs\\vivek2110\\lib\\site-packages (from tqdm>=4.64.1->pinecone-client) (0.4.6)\n"
     ]
    }
   ],
   "source": [
    "!pip install --upgrade pinecone-client\n"
   ]
  },
  {
   "cell_type": "code",
   "execution_count": 16,
   "metadata": {},
   "outputs": [],
   "source": [
    "import pinecone\n",
    "from pinecone import Pinecone,ServerlessSpec"
   ]
  },
  {
   "cell_type": "code",
   "execution_count": 17,
   "metadata": {},
   "outputs": [
    {
     "ename": "AttributeError",
     "evalue": "init is no longer a top-level attribute of the pinecone package.\n\nPlease create an instance of the Pinecone class instead.\n\nExample:\n\n    import os\n    from pinecone import Pinecone, ServerlessSpec\n\n    pc = Pinecone(\n        api_key=os.environ.get(\"PINECONE_API_KEY\")\n    )\n\n    # Now do stuff\n    if 'my_index' not in pc.list_indexes().names():\n        pc.create_index(\n            name='my_index', \n            dimension=1536, \n            metric='euclidean',\n            spec=ServerlessSpec(\n                cloud='aws',\n                region='us-west-2'\n            )\n        )\n\n",
     "output_type": "error",
     "traceback": [
      "\u001b[1;31m---------------------------------------------------------------------------\u001b[0m",
      "\u001b[1;31mAttributeError\u001b[0m                            Traceback (most recent call last)",
      "Cell \u001b[1;32mIn[17], line 2\u001b[0m\n\u001b[0;32m      1\u001b[0m \u001b[38;5;66;03m#Initializing the Pinecone\u001b[39;00m\n\u001b[1;32m----> 2\u001b[0m \u001b[43mpinecone\u001b[49m\u001b[38;5;241;43m.\u001b[39;49m\u001b[43minit\u001b[49m\u001b[43m(\u001b[49m\u001b[43mapi_key\u001b[49m\u001b[38;5;241;43m=\u001b[39;49m\u001b[43mPINECONE_API_KEY\u001b[49m\u001b[43m,\u001b[49m\n\u001b[0;32m      3\u001b[0m \u001b[43m              \u001b[49m\u001b[43menvironment\u001b[49m\u001b[38;5;241;43m=\u001b[39;49m\u001b[43mPINECONE_API_ENV\u001b[49m\u001b[43m)\u001b[49m\n\u001b[0;32m      5\u001b[0m index_name\u001b[38;5;241m=\u001b[39m\u001b[38;5;124m\"\u001b[39m\u001b[38;5;124mbusiness_bot\u001b[39m\u001b[38;5;124m\"\u001b[39m\n\u001b[0;32m      7\u001b[0m \u001b[38;5;66;03m#Creating Embeddings for Each of The Text Chunks & storing\u001b[39;00m\n",
      "File \u001b[1;32mc:\\Users\\realme\\anaconda3\\envs\\vivek2110\\lib\\site-packages\\pinecone\\deprecation_warnings.py:39\u001b[0m, in \u001b[0;36minit\u001b[1;34m(*args, **kwargs)\u001b[0m\n\u001b[0;32m     12\u001b[0m     example \u001b[38;5;241m=\u001b[39m \u001b[38;5;124m\"\"\"\u001b[39m\n\u001b[0;32m     13\u001b[0m \u001b[38;5;124m    import os\u001b[39m\n\u001b[0;32m     14\u001b[0m \u001b[38;5;124m    from pinecone import Pinecone, ServerlessSpec\u001b[39m\n\u001b[1;32m   (...)\u001b[0m\n\u001b[0;32m     30\u001b[0m \u001b[38;5;124m        )\u001b[39m\n\u001b[0;32m     31\u001b[0m \u001b[38;5;124m\"\"\"\u001b[39m\n\u001b[0;32m     32\u001b[0m     msg \u001b[38;5;241m=\u001b[39m \u001b[38;5;124mf\u001b[39m\u001b[38;5;124m\"\"\"\u001b[39m\u001b[38;5;124minit is no longer a top-level attribute of the pinecone package.\u001b[39m\n\u001b[0;32m     33\u001b[0m \n\u001b[0;32m     34\u001b[0m \u001b[38;5;124mPlease create an instance of the Pinecone class instead.\u001b[39m\n\u001b[1;32m   (...)\u001b[0m\n\u001b[0;32m     37\u001b[0m \u001b[38;5;132;01m{\u001b[39;00mexample\u001b[38;5;132;01m}\u001b[39;00m\n\u001b[0;32m     38\u001b[0m \u001b[38;5;124m\"\"\"\u001b[39m\n\u001b[1;32m---> 39\u001b[0m     \u001b[38;5;28;01mraise\u001b[39;00m \u001b[38;5;167;01mAttributeError\u001b[39;00m(msg)\n",
      "\u001b[1;31mAttributeError\u001b[0m: init is no longer a top-level attribute of the pinecone package.\n\nPlease create an instance of the Pinecone class instead.\n\nExample:\n\n    import os\n    from pinecone import Pinecone, ServerlessSpec\n\n    pc = Pinecone(\n        api_key=os.environ.get(\"PINECONE_API_KEY\")\n    )\n\n    # Now do stuff\n    if 'my_index' not in pc.list_indexes().names():\n        pc.create_index(\n            name='my_index', \n            dimension=1536, \n            metric='euclidean',\n            spec=ServerlessSpec(\n                cloud='aws',\n                region='us-west-2'\n            )\n        )\n\n"
     ]
    }
   ],
   "source": [
    "#Initializing the Pinecone\n",
    "pinecone.init(api_key=PINECONE_API_KEY,\n",
    "              environment=PINECONE_API_ENV)\n",
    "\n",
    "index_name=\"business_bot\"\n",
    "\n",
    "#Creating Embeddings for Each of The Text Chunks & storing\n",
    "docsearch=Pinecone.from_texts([t.page_content for t in text_chunks], embeddings, index_name=index_name)"
   ]
  },
  {
   "cell_type": "code",
   "execution_count": null,
   "metadata": {},
   "outputs": [],
   "source": []
  },
  {
   "cell_type": "code",
   "execution_count": 18,
   "metadata": {},
   "outputs": [
    {
     "ename": "AttributeError",
     "evalue": "type object 'Pinecone' has no attribute 'from_existing_index'",
     "output_type": "error",
     "traceback": [
      "\u001b[1;31m---------------------------------------------------------------------------\u001b[0m",
      "\u001b[1;31mAttributeError\u001b[0m                            Traceback (most recent call last)",
      "Cell \u001b[1;32mIn[18], line 2\u001b[0m\n\u001b[0;32m      1\u001b[0m \u001b[38;5;66;03m#If we already have an index we can load it like this\u001b[39;00m\n\u001b[1;32m----> 2\u001b[0m docsearch\u001b[38;5;241m=\u001b[39m\u001b[43mPinecone\u001b[49m\u001b[38;5;241;43m.\u001b[39;49m\u001b[43mfrom_existing_index\u001b[49m(index_name, embeddings)\n\u001b[0;32m      4\u001b[0m query \u001b[38;5;241m=\u001b[39m \u001b[38;5;124m\"\u001b[39m\u001b[38;5;124mWhat are Allergies\u001b[39m\u001b[38;5;124m\"\u001b[39m\n\u001b[0;32m      6\u001b[0m docs\u001b[38;5;241m=\u001b[39mdocsearch\u001b[38;5;241m.\u001b[39msimilarity_search(query, k\u001b[38;5;241m=\u001b[39m\u001b[38;5;241m3\u001b[39m)\n",
      "\u001b[1;31mAttributeError\u001b[0m: type object 'Pinecone' has no attribute 'from_existing_index'"
     ]
    }
   ],
   "source": [
    "#If we already have an index we can load it like this\n",
    "docsearch=Pinecone.from_existing_index(index_name, embeddings)\n",
    "\n",
    "query = \"What are business\"\n",
    "\n",
    "docs=docsearch.similarity_search(query, k=3)\n",
    "\n",
    "print(\"Result\", docs)"
   ]
  },
  {
   "cell_type": "code",
   "execution_count": 22,
   "metadata": {},
   "outputs": [],
   "source": [
    "prompt_template=\"\"\"\n",
    "Use the following pieces of information to answer the user's question.\n",
    "If you don't know the answer, just say that you don't know, don't try to make up an answer.\n",
    "\n",
    "Context: {context}\n",
    "Question: {question}\n",
    "\n",
    "Only return the helpful answer below and nothing else.\n",
    "Helpful answer:\n",
    "\"\"\""
   ]
  },
  {
   "cell_type": "code",
   "execution_count": 23,
   "metadata": {},
   "outputs": [],
   "source": [
    "PROMPT=PromptTemplate(template=prompt_template, input_variables=[\"context\", \"question\"])\n",
    "chain_type_kwargs={\"prompt\": PROMPT}"
   ]
  },
  {
   "cell_type": "code",
   "execution_count": 25,
   "metadata": {},
   "outputs": [
    {
     "ename": "ImportError",
     "evalue": "Could not import `ctransformers` package. Please install it with `pip install ctransformers`",
     "output_type": "error",
     "traceback": [
      "\u001b[1;31m---------------------------------------------------------------------------\u001b[0m",
      "\u001b[1;31mModuleNotFoundError\u001b[0m                       Traceback (most recent call last)",
      "File \u001b[1;32mc:\\Users\\realme\\anaconda3\\envs\\vivek2110\\lib\\site-packages\\langchain_community\\llms\\ctransformers.py:64\u001b[0m, in \u001b[0;36mCTransformers.validate_environment\u001b[1;34m(cls, values)\u001b[0m\n\u001b[0;32m     63\u001b[0m \u001b[38;5;28;01mtry\u001b[39;00m:\n\u001b[1;32m---> 64\u001b[0m     \u001b[38;5;28;01mfrom\u001b[39;00m \u001b[38;5;21;01mctransformers\u001b[39;00m \u001b[38;5;28;01mimport\u001b[39;00m AutoModelForCausalLM\n\u001b[0;32m     65\u001b[0m \u001b[38;5;28;01mexcept\u001b[39;00m \u001b[38;5;167;01mImportError\u001b[39;00m:\n",
      "\u001b[1;31mModuleNotFoundError\u001b[0m: No module named 'ctransformers'",
      "\nDuring handling of the above exception, another exception occurred:\n",
      "\u001b[1;31mImportError\u001b[0m                               Traceback (most recent call last)",
      "Cell \u001b[1;32mIn[25], line 3\u001b[0m\n\u001b[0;32m      1\u001b[0m PROMPT\u001b[38;5;241m=\u001b[39mPromptTemplate(template\u001b[38;5;241m=\u001b[39mprompt_template, input_variables\u001b[38;5;241m=\u001b[39m[\u001b[38;5;124m\"\u001b[39m\u001b[38;5;124mcontext\u001b[39m\u001b[38;5;124m\"\u001b[39m, \u001b[38;5;124m\"\u001b[39m\u001b[38;5;124mquestion\u001b[39m\u001b[38;5;124m\"\u001b[39m])\n\u001b[0;32m      2\u001b[0m chain_type_kwargs\u001b[38;5;241m=\u001b[39m{\u001b[38;5;124m\"\u001b[39m\u001b[38;5;124mprompt\u001b[39m\u001b[38;5;124m\"\u001b[39m: PROMPT}\n\u001b[1;32m----> 3\u001b[0m llm\u001b[38;5;241m=\u001b[39m\u001b[43mCTransformers\u001b[49m\u001b[43m(\u001b[49m\u001b[43mmodel\u001b[49m\u001b[38;5;241;43m=\u001b[39;49m\u001b[38;5;124;43m\"\u001b[39;49m\u001b[38;5;124;43mmodel/llama-2-7b-chat.ggmlv3.q4_0.bin\u001b[39;49m\u001b[38;5;124;43m\"\u001b[39;49m\u001b[43m,\u001b[49m\n\u001b[0;32m      4\u001b[0m \u001b[43m                  \u001b[49m\u001b[43mmodel_type\u001b[49m\u001b[38;5;241;43m=\u001b[39;49m\u001b[38;5;124;43m\"\u001b[39;49m\u001b[38;5;124;43mllama\u001b[39;49m\u001b[38;5;124;43m\"\u001b[39;49m\u001b[43m,\u001b[49m\n\u001b[0;32m      5\u001b[0m \u001b[43m                  \u001b[49m\u001b[43mconfig\u001b[49m\u001b[38;5;241;43m=\u001b[39;49m\u001b[43m{\u001b[49m\u001b[38;5;124;43m'\u001b[39;49m\u001b[38;5;124;43mmax_new_tokens\u001b[39;49m\u001b[38;5;124;43m'\u001b[39;49m\u001b[43m:\u001b[49m\u001b[38;5;241;43m512\u001b[39;49m\u001b[43m,\u001b[49m\n\u001b[0;32m      6\u001b[0m \u001b[43m                          \u001b[49m\u001b[38;5;124;43m'\u001b[39;49m\u001b[38;5;124;43mtemperature\u001b[39;49m\u001b[38;5;124;43m'\u001b[39;49m\u001b[43m:\u001b[49m\u001b[38;5;241;43m0.8\u001b[39;49m\u001b[43m}\u001b[49m\u001b[43m)\u001b[49m\n",
      "File \u001b[1;32mc:\\Users\\realme\\anaconda3\\envs\\vivek2110\\lib\\site-packages\\pydantic\\v1\\main.py:339\u001b[0m, in \u001b[0;36mBaseModel.__init__\u001b[1;34m(__pydantic_self__, **data)\u001b[0m\n\u001b[0;32m    333\u001b[0m \u001b[38;5;250m\u001b[39m\u001b[38;5;124;03m\"\"\"\u001b[39;00m\n\u001b[0;32m    334\u001b[0m \u001b[38;5;124;03mCreate a new model by parsing and validating input data from keyword arguments.\u001b[39;00m\n\u001b[0;32m    335\u001b[0m \n\u001b[0;32m    336\u001b[0m \u001b[38;5;124;03mRaises ValidationError if the input data cannot be parsed to form a valid model.\u001b[39;00m\n\u001b[0;32m    337\u001b[0m \u001b[38;5;124;03m\"\"\"\u001b[39;00m\n\u001b[0;32m    338\u001b[0m \u001b[38;5;66;03m# Uses something other than `self` the first arg to allow \"self\" as a settable attribute\u001b[39;00m\n\u001b[1;32m--> 339\u001b[0m values, fields_set, validation_error \u001b[38;5;241m=\u001b[39m \u001b[43mvalidate_model\u001b[49m\u001b[43m(\u001b[49m\u001b[43m__pydantic_self__\u001b[49m\u001b[38;5;241;43m.\u001b[39;49m\u001b[38;5;18;43m__class__\u001b[39;49m\u001b[43m,\u001b[49m\u001b[43m \u001b[49m\u001b[43mdata\u001b[49m\u001b[43m)\u001b[49m\n\u001b[0;32m    340\u001b[0m \u001b[38;5;28;01mif\u001b[39;00m validation_error:\n\u001b[0;32m    341\u001b[0m     \u001b[38;5;28;01mraise\u001b[39;00m validation_error\n",
      "File \u001b[1;32mc:\\Users\\realme\\anaconda3\\envs\\vivek2110\\lib\\site-packages\\pydantic\\v1\\main.py:1048\u001b[0m, in \u001b[0;36mvalidate_model\u001b[1;34m(model, input_data, cls)\u001b[0m\n\u001b[0;32m   1046\u001b[0m \u001b[38;5;28;01mfor\u001b[39;00m validator \u001b[38;5;129;01min\u001b[39;00m model\u001b[38;5;241m.\u001b[39m__pre_root_validators__:\n\u001b[0;32m   1047\u001b[0m     \u001b[38;5;28;01mtry\u001b[39;00m:\n\u001b[1;32m-> 1048\u001b[0m         input_data \u001b[38;5;241m=\u001b[39m \u001b[43mvalidator\u001b[49m\u001b[43m(\u001b[49m\u001b[43mcls_\u001b[49m\u001b[43m,\u001b[49m\u001b[43m \u001b[49m\u001b[43minput_data\u001b[49m\u001b[43m)\u001b[49m\n\u001b[0;32m   1049\u001b[0m     \u001b[38;5;28;01mexcept\u001b[39;00m (\u001b[38;5;167;01mValueError\u001b[39;00m, \u001b[38;5;167;01mTypeError\u001b[39;00m, \u001b[38;5;167;01mAssertionError\u001b[39;00m) \u001b[38;5;28;01mas\u001b[39;00m exc:\n\u001b[0;32m   1050\u001b[0m         \u001b[38;5;28;01mreturn\u001b[39;00m {}, \u001b[38;5;28mset\u001b[39m(), ValidationError([ErrorWrapper(exc, loc\u001b[38;5;241m=\u001b[39mROOT_KEY)], cls_)\n",
      "File \u001b[1;32mc:\\Users\\realme\\anaconda3\\envs\\vivek2110\\lib\\site-packages\\langchain_core\\utils\\pydantic.py:149\u001b[0m, in \u001b[0;36mpre_init.<locals>.wrapper\u001b[1;34m(cls, values)\u001b[0m\n\u001b[0;32m    146\u001b[0m                 values[name] \u001b[38;5;241m=\u001b[39m field_info\u001b[38;5;241m.\u001b[39mdefault\n\u001b[0;32m    148\u001b[0m \u001b[38;5;66;03m# Call the decorated function\u001b[39;00m\n\u001b[1;32m--> 149\u001b[0m \u001b[38;5;28;01mreturn\u001b[39;00m \u001b[43mfunc\u001b[49m\u001b[43m(\u001b[49m\u001b[38;5;28;43mcls\u001b[39;49m\u001b[43m,\u001b[49m\u001b[43m \u001b[49m\u001b[43mvalues\u001b[49m\u001b[43m)\u001b[49m\n",
      "File \u001b[1;32mc:\\Users\\realme\\anaconda3\\envs\\vivek2110\\lib\\site-packages\\langchain_community\\llms\\ctransformers.py:66\u001b[0m, in \u001b[0;36mCTransformers.validate_environment\u001b[1;34m(cls, values)\u001b[0m\n\u001b[0;32m     64\u001b[0m     \u001b[38;5;28;01mfrom\u001b[39;00m \u001b[38;5;21;01mctransformers\u001b[39;00m \u001b[38;5;28;01mimport\u001b[39;00m AutoModelForCausalLM\n\u001b[0;32m     65\u001b[0m \u001b[38;5;28;01mexcept\u001b[39;00m \u001b[38;5;167;01mImportError\u001b[39;00m:\n\u001b[1;32m---> 66\u001b[0m     \u001b[38;5;28;01mraise\u001b[39;00m \u001b[38;5;167;01mImportError\u001b[39;00m(\n\u001b[0;32m     67\u001b[0m         \u001b[38;5;124m\"\u001b[39m\u001b[38;5;124mCould not import `ctransformers` package. \u001b[39m\u001b[38;5;124m\"\u001b[39m\n\u001b[0;32m     68\u001b[0m         \u001b[38;5;124m\"\u001b[39m\u001b[38;5;124mPlease install it with `pip install ctransformers`\u001b[39m\u001b[38;5;124m\"\u001b[39m\n\u001b[0;32m     69\u001b[0m     )\n\u001b[0;32m     71\u001b[0m config \u001b[38;5;241m=\u001b[39m values[\u001b[38;5;124m\"\u001b[39m\u001b[38;5;124mconfig\u001b[39m\u001b[38;5;124m\"\u001b[39m] \u001b[38;5;129;01mor\u001b[39;00m {}\n\u001b[0;32m     72\u001b[0m values[\u001b[38;5;124m\"\u001b[39m\u001b[38;5;124mclient\u001b[39m\u001b[38;5;124m\"\u001b[39m] \u001b[38;5;241m=\u001b[39m AutoModelForCausalLM\u001b[38;5;241m.\u001b[39mfrom_pretrained(\n\u001b[0;32m     73\u001b[0m     values[\u001b[38;5;124m\"\u001b[39m\u001b[38;5;124mmodel\u001b[39m\u001b[38;5;124m\"\u001b[39m],\n\u001b[0;32m     74\u001b[0m     model_type\u001b[38;5;241m=\u001b[39mvalues[\u001b[38;5;124m\"\u001b[39m\u001b[38;5;124mmodel_type\u001b[39m\u001b[38;5;124m\"\u001b[39m],\n\u001b[1;32m   (...)\u001b[0m\n\u001b[0;32m     77\u001b[0m     \u001b[38;5;241m*\u001b[39m\u001b[38;5;241m*\u001b[39mconfig,\n\u001b[0;32m     78\u001b[0m )\n",
      "\u001b[1;31mImportError\u001b[0m: Could not import `ctransformers` package. Please install it with `pip install ctransformers`"
     ]
    }
   ],
   "source": [
    "PROMPT=PromptTemplate(template=prompt_template, input_variables=[\"context\", \"question\"])\n",
    "chain_type_kwargs={\"prompt\": PROMPT}\n",
    "llm=CTransformers(model=\"model/llama-2-7b-chat.ggmlv3.q4_0.bin\",\n",
    "                  model_type=\"llama\",\n",
    "                  config={'max_new_tokens':512,\n",
    "                          'temperature':0.8})"
   ]
  },
  {
   "cell_type": "code",
   "execution_count": null,
   "metadata": {},
   "outputs": [
    {
     "ename": "AttributeError",
     "evalue": "init is no longer a top-level attribute of the pinecone package.\n\nPlease create an instance of the Pinecone class instead.\n\nExample:\n\n    import os\n    from pinecone import Pinecone, ServerlessSpec\n\n    pc = Pinecone(\n        api_key=os.environ.get(\"PINECONE_API_KEY\")\n    )\n\n    # Now do stuff\n    if 'my_index' not in pc.list_indexes().names():\n        pc.create_index(\n            name='my_index', \n            dimension=1536, \n            metric='euclidean',\n            spec=ServerlessSpec(\n                cloud='aws',\n                region='us-west-2'\n            )\n        )\n\n",
     "output_type": "error",
     "traceback": [
      "\u001b[1;31m---------------------------------------------------------------------------\u001b[0m\n",
      "\u001b[1;31mAttributeError\u001b[0m                            Traceback (most recent call last)\n",
      "Cell \u001b[1;32mIn[28], line 4\u001b[0m\n",
      "\u001b[0;32m      1\u001b[0m \u001b[38;5;28;01mimport\u001b[39;00m \u001b[38;5;21;01mpinecone\u001b[39;00m\n",
      "\u001b[0;32m      3\u001b[0m \u001b[38;5;66;03m# Initialize Pinecone with API key and environment\u001b[39;00m\n",
      "\u001b[1;32m----> 4\u001b[0m \u001b[43mpinecone\u001b[49m\u001b[38;5;241;43m.\u001b[39;49m\u001b[43minit\u001b[49m\u001b[43m(\u001b[49m\u001b[43mapi_key\u001b[49m\u001b[38;5;241;43m=\u001b[39;49m\u001b[43mPINECONE_API_KEY\u001b[49m\u001b[43m,\u001b[49m\u001b[43m \u001b[49m\u001b[43menvironment\u001b[49m\u001b[38;5;241;43m=\u001b[39;49m\u001b[43mPINECONE_API_ENV\u001b[49m\u001b[43m)\u001b[49m\n",
      "\n",
      "File \u001b[1;32mc:\\Users\\realme\\anaconda3\\envs\\vivek2110\\lib\\site-packages\\pinecone\\deprecation_warnings.py:39\u001b[0m, in \u001b[0;36minit\u001b[1;34m(*args, **kwargs)\u001b[0m\n",
      "\u001b[0;32m     12\u001b[0m     example \u001b[38;5;241m=\u001b[39m \u001b[38;5;124m\"\"\"\u001b[39m\n",
      "\u001b[0;32m     13\u001b[0m \u001b[38;5;124m    import os\u001b[39m\n",
      "\u001b[0;32m     14\u001b[0m \u001b[38;5;124m    from pinecone import Pinecone, ServerlessSpec\u001b[39m\n",
      "\u001b[1;32m   (...)\u001b[0m\n",
      "\u001b[0;32m     30\u001b[0m \u001b[38;5;124m        )\u001b[39m\n",
      "\u001b[0;32m     31\u001b[0m \u001b[38;5;124m\"\"\"\u001b[39m\n",
      "\u001b[0;32m     32\u001b[0m     msg \u001b[38;5;241m=\u001b[39m \u001b[38;5;124mf\u001b[39m\u001b[38;5;124m\"\"\"\u001b[39m\u001b[38;5;124minit is no longer a top-level attribute of the pinecone package.\u001b[39m\n",
      "\u001b[0;32m     33\u001b[0m \n",
      "\u001b[0;32m     34\u001b[0m \u001b[38;5;124mPlease create an instance of the Pinecone class instead.\u001b[39m\n",
      "\u001b[1;32m   (...)\u001b[0m\n",
      "\u001b[0;32m     37\u001b[0m \u001b[38;5;132;01m{\u001b[39;00mexample\u001b[38;5;132;01m}\u001b[39;00m\n",
      "\u001b[0;32m     38\u001b[0m \u001b[38;5;124m\"\"\"\u001b[39m\n",
      "\u001b[1;32m---> 39\u001b[0m     \u001b[38;5;28;01mraise\u001b[39;00m \u001b[38;5;167;01mAttributeError\u001b[39;00m(msg)\n",
      "\n",
      "\u001b[1;31mAttributeError\u001b[0m: init is no longer a top-level attribute of the pinecone package.\n",
      "\n",
      "Please create an instance of the Pinecone class instead.\n",
      "\n",
      "Example:\n",
      "\n",
      "    import os\n",
      "    from pinecone import Pinecone, ServerlessSpec\n",
      "\n",
      "    pc = Pinecone(\n",
      "        api_key=os.environ.get(\"PINECONE_API_KEY\")\n",
      "    )\n",
      "\n",
      "    # Now do stuff\n",
      "    if 'my_index' not in pc.list_indexes().names():\n",
      "        pc.create_index(\n",
      "            name='my_index', \n",
      "            dimension=1536, \n",
      "            metric='euclidean',\n",
      "            spec=ServerlessSpec(\n",
      "                cloud='aws',\n",
      "                region='us-west-2'\n",
      "            )\n",
      "        )\n",
      "\n"
     ]
    }
   ],
   "source": [
    "import pinecone\n",
    "\n",
    "# Initialize Pinecone with API key and environment\n",
    "pinecone.init(api_key=PINECONE_API_KEY, environment=PINECONE_API_ENV)\n"
   ]
  },
  {
   "cell_type": "code",
   "execution_count": 28,
   "metadata": {},
   "outputs": [
    {
     "ename": "RepositoryNotFoundError",
     "evalue": "401 Client Error. (Request ID: Root=1-66a1d2ad-58042cef72d14de212c8ddf2;aaf06416-d84a-4e93-a56d-4dd191438db4)\n\nRepository Not Found for url: https://huggingface.co/api/models/model/llama-2-7b-chat.ggmlv3.q4_0.bin/revision/main.\nPlease make sure you specified the correct `repo_id` and `repo_type`.\nIf you are trying to access a private or gated repo, make sure you are authenticated.\nInvalid username or password.",
     "output_type": "error",
     "traceback": [
      "\u001b[1;31m---------------------------------------------------------------------------\u001b[0m",
      "\u001b[1;31mHTTPError\u001b[0m                                 Traceback (most recent call last)",
      "File \u001b[1;32mc:\\Users\\realme\\anaconda3\\envs\\vivek2110\\lib\\site-packages\\huggingface_hub\\utils\\_errors.py:304\u001b[0m, in \u001b[0;36mhf_raise_for_status\u001b[1;34m(response, endpoint_name)\u001b[0m\n\u001b[0;32m    303\u001b[0m \u001b[38;5;28;01mtry\u001b[39;00m:\n\u001b[1;32m--> 304\u001b[0m     \u001b[43mresponse\u001b[49m\u001b[38;5;241;43m.\u001b[39;49m\u001b[43mraise_for_status\u001b[49m\u001b[43m(\u001b[49m\u001b[43m)\u001b[49m\n\u001b[0;32m    305\u001b[0m \u001b[38;5;28;01mexcept\u001b[39;00m HTTPError \u001b[38;5;28;01mas\u001b[39;00m e:\n",
      "File \u001b[1;32mc:\\Users\\realme\\anaconda3\\envs\\vivek2110\\lib\\site-packages\\requests\\models.py:1024\u001b[0m, in \u001b[0;36mResponse.raise_for_status\u001b[1;34m(self)\u001b[0m\n\u001b[0;32m   1023\u001b[0m \u001b[38;5;28;01mif\u001b[39;00m http_error_msg:\n\u001b[1;32m-> 1024\u001b[0m     \u001b[38;5;28;01mraise\u001b[39;00m HTTPError(http_error_msg, response\u001b[38;5;241m=\u001b[39m\u001b[38;5;28mself\u001b[39m)\n",
      "\u001b[1;31mHTTPError\u001b[0m: 401 Client Error: Unauthorized for url: https://huggingface.co/api/models/model/llama-2-7b-chat.ggmlv3.q4_0.bin/revision/main",
      "\nThe above exception was the direct cause of the following exception:\n",
      "\u001b[1;31mRepositoryNotFoundError\u001b[0m                   Traceback (most recent call last)",
      "Cell \u001b[1;32mIn[28], line 1\u001b[0m\n\u001b[1;32m----> 1\u001b[0m llm\u001b[38;5;241m=\u001b[39m\u001b[43mCTransformers\u001b[49m\u001b[43m(\u001b[49m\u001b[43mmodel\u001b[49m\u001b[38;5;241;43m=\u001b[39;49m\u001b[38;5;124;43m\"\u001b[39;49m\u001b[38;5;124;43mmodel/llama-2-7b-chat.ggmlv3.q4_0.bin\u001b[39;49m\u001b[38;5;124;43m\"\u001b[39;49m\u001b[43m,\u001b[49m\n\u001b[0;32m      2\u001b[0m \u001b[43m                  \u001b[49m\u001b[43mmodel_type\u001b[49m\u001b[38;5;241;43m=\u001b[39;49m\u001b[38;5;124;43m\"\u001b[39;49m\u001b[38;5;124;43mllama\u001b[39;49m\u001b[38;5;124;43m\"\u001b[39;49m\u001b[43m,\u001b[49m\n\u001b[0;32m      3\u001b[0m \u001b[43m                  \u001b[49m\u001b[43mconfig\u001b[49m\u001b[38;5;241;43m=\u001b[39;49m\u001b[43m{\u001b[49m\u001b[38;5;124;43m'\u001b[39;49m\u001b[38;5;124;43mmax_new_tokens\u001b[39;49m\u001b[38;5;124;43m'\u001b[39;49m\u001b[43m:\u001b[49m\u001b[38;5;241;43m512\u001b[39;49m\u001b[43m,\u001b[49m\n\u001b[0;32m      4\u001b[0m \u001b[43m                          \u001b[49m\u001b[38;5;124;43m'\u001b[39;49m\u001b[38;5;124;43mtemperature\u001b[39;49m\u001b[38;5;124;43m'\u001b[39;49m\u001b[43m:\u001b[49m\u001b[38;5;241;43m0.8\u001b[39;49m\u001b[43m}\u001b[49m\u001b[43m)\u001b[49m\n",
      "File \u001b[1;32mc:\\Users\\realme\\anaconda3\\envs\\vivek2110\\lib\\site-packages\\pydantic\\v1\\main.py:339\u001b[0m, in \u001b[0;36mBaseModel.__init__\u001b[1;34m(__pydantic_self__, **data)\u001b[0m\n\u001b[0;32m    333\u001b[0m \u001b[38;5;250m\u001b[39m\u001b[38;5;124;03m\"\"\"\u001b[39;00m\n\u001b[0;32m    334\u001b[0m \u001b[38;5;124;03mCreate a new model by parsing and validating input data from keyword arguments.\u001b[39;00m\n\u001b[0;32m    335\u001b[0m \n\u001b[0;32m    336\u001b[0m \u001b[38;5;124;03mRaises ValidationError if the input data cannot be parsed to form a valid model.\u001b[39;00m\n\u001b[0;32m    337\u001b[0m \u001b[38;5;124;03m\"\"\"\u001b[39;00m\n\u001b[0;32m    338\u001b[0m \u001b[38;5;66;03m# Uses something other than `self` the first arg to allow \"self\" as a settable attribute\u001b[39;00m\n\u001b[1;32m--> 339\u001b[0m values, fields_set, validation_error \u001b[38;5;241m=\u001b[39m \u001b[43mvalidate_model\u001b[49m\u001b[43m(\u001b[49m\u001b[43m__pydantic_self__\u001b[49m\u001b[38;5;241;43m.\u001b[39;49m\u001b[38;5;18;43m__class__\u001b[39;49m\u001b[43m,\u001b[49m\u001b[43m \u001b[49m\u001b[43mdata\u001b[49m\u001b[43m)\u001b[49m\n\u001b[0;32m    340\u001b[0m \u001b[38;5;28;01mif\u001b[39;00m validation_error:\n\u001b[0;32m    341\u001b[0m     \u001b[38;5;28;01mraise\u001b[39;00m validation_error\n",
      "File \u001b[1;32mc:\\Users\\realme\\anaconda3\\envs\\vivek2110\\lib\\site-packages\\pydantic\\v1\\main.py:1048\u001b[0m, in \u001b[0;36mvalidate_model\u001b[1;34m(model, input_data, cls)\u001b[0m\n\u001b[0;32m   1046\u001b[0m \u001b[38;5;28;01mfor\u001b[39;00m validator \u001b[38;5;129;01min\u001b[39;00m model\u001b[38;5;241m.\u001b[39m__pre_root_validators__:\n\u001b[0;32m   1047\u001b[0m     \u001b[38;5;28;01mtry\u001b[39;00m:\n\u001b[1;32m-> 1048\u001b[0m         input_data \u001b[38;5;241m=\u001b[39m \u001b[43mvalidator\u001b[49m\u001b[43m(\u001b[49m\u001b[43mcls_\u001b[49m\u001b[43m,\u001b[49m\u001b[43m \u001b[49m\u001b[43minput_data\u001b[49m\u001b[43m)\u001b[49m\n\u001b[0;32m   1049\u001b[0m     \u001b[38;5;28;01mexcept\u001b[39;00m (\u001b[38;5;167;01mValueError\u001b[39;00m, \u001b[38;5;167;01mTypeError\u001b[39;00m, \u001b[38;5;167;01mAssertionError\u001b[39;00m) \u001b[38;5;28;01mas\u001b[39;00m exc:\n\u001b[0;32m   1050\u001b[0m         \u001b[38;5;28;01mreturn\u001b[39;00m {}, \u001b[38;5;28mset\u001b[39m(), ValidationError([ErrorWrapper(exc, loc\u001b[38;5;241m=\u001b[39mROOT_KEY)], cls_)\n",
      "File \u001b[1;32mc:\\Users\\realme\\anaconda3\\envs\\vivek2110\\lib\\site-packages\\langchain_core\\utils\\pydantic.py:149\u001b[0m, in \u001b[0;36mpre_init.<locals>.wrapper\u001b[1;34m(cls, values)\u001b[0m\n\u001b[0;32m    146\u001b[0m                 values[name] \u001b[38;5;241m=\u001b[39m field_info\u001b[38;5;241m.\u001b[39mdefault\n\u001b[0;32m    148\u001b[0m \u001b[38;5;66;03m# Call the decorated function\u001b[39;00m\n\u001b[1;32m--> 149\u001b[0m \u001b[38;5;28;01mreturn\u001b[39;00m \u001b[43mfunc\u001b[49m\u001b[43m(\u001b[49m\u001b[38;5;28;43mcls\u001b[39;49m\u001b[43m,\u001b[49m\u001b[43m \u001b[49m\u001b[43mvalues\u001b[49m\u001b[43m)\u001b[49m\n",
      "File \u001b[1;32mc:\\Users\\realme\\anaconda3\\envs\\vivek2110\\lib\\site-packages\\langchain_community\\llms\\ctransformers.py:72\u001b[0m, in \u001b[0;36mCTransformers.validate_environment\u001b[1;34m(cls, values)\u001b[0m\n\u001b[0;32m     66\u001b[0m     \u001b[38;5;28;01mraise\u001b[39;00m \u001b[38;5;167;01mImportError\u001b[39;00m(\n\u001b[0;32m     67\u001b[0m         \u001b[38;5;124m\"\u001b[39m\u001b[38;5;124mCould not import `ctransformers` package. \u001b[39m\u001b[38;5;124m\"\u001b[39m\n\u001b[0;32m     68\u001b[0m         \u001b[38;5;124m\"\u001b[39m\u001b[38;5;124mPlease install it with `pip install ctransformers`\u001b[39m\u001b[38;5;124m\"\u001b[39m\n\u001b[0;32m     69\u001b[0m     )\n\u001b[0;32m     71\u001b[0m config \u001b[38;5;241m=\u001b[39m values[\u001b[38;5;124m\"\u001b[39m\u001b[38;5;124mconfig\u001b[39m\u001b[38;5;124m\"\u001b[39m] \u001b[38;5;129;01mor\u001b[39;00m {}\n\u001b[1;32m---> 72\u001b[0m values[\u001b[38;5;124m\"\u001b[39m\u001b[38;5;124mclient\u001b[39m\u001b[38;5;124m\"\u001b[39m] \u001b[38;5;241m=\u001b[39m \u001b[43mAutoModelForCausalLM\u001b[49m\u001b[38;5;241;43m.\u001b[39;49m\u001b[43mfrom_pretrained\u001b[49m\u001b[43m(\u001b[49m\n\u001b[0;32m     73\u001b[0m \u001b[43m    \u001b[49m\u001b[43mvalues\u001b[49m\u001b[43m[\u001b[49m\u001b[38;5;124;43m\"\u001b[39;49m\u001b[38;5;124;43mmodel\u001b[39;49m\u001b[38;5;124;43m\"\u001b[39;49m\u001b[43m]\u001b[49m\u001b[43m,\u001b[49m\n\u001b[0;32m     74\u001b[0m \u001b[43m    \u001b[49m\u001b[43mmodel_type\u001b[49m\u001b[38;5;241;43m=\u001b[39;49m\u001b[43mvalues\u001b[49m\u001b[43m[\u001b[49m\u001b[38;5;124;43m\"\u001b[39;49m\u001b[38;5;124;43mmodel_type\u001b[39;49m\u001b[38;5;124;43m\"\u001b[39;49m\u001b[43m]\u001b[49m\u001b[43m,\u001b[49m\n\u001b[0;32m     75\u001b[0m \u001b[43m    \u001b[49m\u001b[43mmodel_file\u001b[49m\u001b[38;5;241;43m=\u001b[39;49m\u001b[43mvalues\u001b[49m\u001b[43m[\u001b[49m\u001b[38;5;124;43m\"\u001b[39;49m\u001b[38;5;124;43mmodel_file\u001b[39;49m\u001b[38;5;124;43m\"\u001b[39;49m\u001b[43m]\u001b[49m\u001b[43m,\u001b[49m\n\u001b[0;32m     76\u001b[0m \u001b[43m    \u001b[49m\u001b[43mlib\u001b[49m\u001b[38;5;241;43m=\u001b[39;49m\u001b[43mvalues\u001b[49m\u001b[43m[\u001b[49m\u001b[38;5;124;43m\"\u001b[39;49m\u001b[38;5;124;43mlib\u001b[39;49m\u001b[38;5;124;43m\"\u001b[39;49m\u001b[43m]\u001b[49m\u001b[43m,\u001b[49m\n\u001b[0;32m     77\u001b[0m \u001b[43m    \u001b[49m\u001b[38;5;241;43m*\u001b[39;49m\u001b[38;5;241;43m*\u001b[39;49m\u001b[43mconfig\u001b[49m\u001b[43m,\u001b[49m\n\u001b[0;32m     78\u001b[0m \u001b[43m\u001b[49m\u001b[43m)\u001b[49m\n\u001b[0;32m     79\u001b[0m \u001b[38;5;28;01mreturn\u001b[39;00m values\n",
      "File \u001b[1;32mc:\\Users\\realme\\anaconda3\\envs\\vivek2110\\lib\\site-packages\\ctransformers\\hub.py:151\u001b[0m, in \u001b[0;36mAutoModelForCausalLM.from_pretrained\u001b[1;34m(cls, model_path_or_repo_id, model_type, model_file, config, lib, local_files_only, revision, hf, **kwargs)\u001b[0m\n\u001b[0;32m    142\u001b[0m     \u001b[38;5;28;01mfrom\u001b[39;00m \u001b[38;5;21;01m.\u001b[39;00m \u001b[38;5;28;01mimport\u001b[39;00m gptq\n\u001b[0;32m    144\u001b[0m     \u001b[38;5;28;01mreturn\u001b[39;00m gptq\u001b[38;5;241m.\u001b[39mAutoModelForCausalLM\u001b[38;5;241m.\u001b[39mfrom_pretrained(\n\u001b[0;32m    145\u001b[0m         model_path_or_repo_id,\n\u001b[0;32m    146\u001b[0m         local_files_only\u001b[38;5;241m=\u001b[39mlocal_files_only,\n\u001b[0;32m    147\u001b[0m         revision\u001b[38;5;241m=\u001b[39mrevision,\n\u001b[0;32m    148\u001b[0m         \u001b[38;5;241m*\u001b[39m\u001b[38;5;241m*\u001b[39mkwargs,\n\u001b[0;32m    149\u001b[0m     )\n\u001b[1;32m--> 151\u001b[0m config \u001b[38;5;241m=\u001b[39m config \u001b[38;5;129;01mor\u001b[39;00m \u001b[43mAutoConfig\u001b[49m\u001b[38;5;241;43m.\u001b[39;49m\u001b[43mfrom_pretrained\u001b[49m\u001b[43m(\u001b[49m\n\u001b[0;32m    152\u001b[0m \u001b[43m    \u001b[49m\u001b[43mmodel_path_or_repo_id\u001b[49m\u001b[43m,\u001b[49m\n\u001b[0;32m    153\u001b[0m \u001b[43m    \u001b[49m\u001b[43mlocal_files_only\u001b[49m\u001b[38;5;241;43m=\u001b[39;49m\u001b[43mlocal_files_only\u001b[49m\u001b[43m,\u001b[49m\n\u001b[0;32m    154\u001b[0m \u001b[43m    \u001b[49m\u001b[43mrevision\u001b[49m\u001b[38;5;241;43m=\u001b[39;49m\u001b[43mrevision\u001b[49m\u001b[43m,\u001b[49m\n\u001b[0;32m    155\u001b[0m \u001b[43m    \u001b[49m\u001b[38;5;241;43m*\u001b[39;49m\u001b[38;5;241;43m*\u001b[39;49m\u001b[43mkwargs\u001b[49m\u001b[43m,\u001b[49m\n\u001b[0;32m    156\u001b[0m \u001b[43m\u001b[49m\u001b[43m)\u001b[49m\n\u001b[0;32m    157\u001b[0m model_type \u001b[38;5;241m=\u001b[39m model_type \u001b[38;5;129;01mor\u001b[39;00m config\u001b[38;5;241m.\u001b[39mmodel_type\n\u001b[0;32m    159\u001b[0m path_type \u001b[38;5;241m=\u001b[39m get_path_type(model_path_or_repo_id)\n",
      "File \u001b[1;32mc:\\Users\\realme\\anaconda3\\envs\\vivek2110\\lib\\site-packages\\ctransformers\\hub.py:48\u001b[0m, in \u001b[0;36mAutoConfig.from_pretrained\u001b[1;34m(cls, model_path_or_repo_id, local_files_only, revision, **kwargs)\u001b[0m\n\u001b[0;32m     46\u001b[0m     \u001b[38;5;28mcls\u001b[39m\u001b[38;5;241m.\u001b[39m_update_from_dir(model_path_or_repo_id, auto_config)\n\u001b[0;32m     47\u001b[0m \u001b[38;5;28;01melif\u001b[39;00m path_type \u001b[38;5;241m==\u001b[39m \u001b[38;5;124m\"\u001b[39m\u001b[38;5;124mrepo\u001b[39m\u001b[38;5;124m\"\u001b[39m:\n\u001b[1;32m---> 48\u001b[0m     \u001b[38;5;28;43mcls\u001b[39;49m\u001b[38;5;241;43m.\u001b[39;49m\u001b[43m_update_from_repo\u001b[49m\u001b[43m(\u001b[49m\n\u001b[0;32m     49\u001b[0m \u001b[43m        \u001b[49m\u001b[43mmodel_path_or_repo_id\u001b[49m\u001b[43m,\u001b[49m\n\u001b[0;32m     50\u001b[0m \u001b[43m        \u001b[49m\u001b[43mauto_config\u001b[49m\u001b[43m,\u001b[49m\n\u001b[0;32m     51\u001b[0m \u001b[43m        \u001b[49m\u001b[43mlocal_files_only\u001b[49m\u001b[38;5;241;43m=\u001b[39;49m\u001b[43mlocal_files_only\u001b[49m\u001b[43m,\u001b[49m\n\u001b[0;32m     52\u001b[0m \u001b[43m        \u001b[49m\u001b[43mrevision\u001b[49m\u001b[38;5;241;43m=\u001b[39;49m\u001b[43mrevision\u001b[49m\u001b[43m,\u001b[49m\n\u001b[0;32m     53\u001b[0m \u001b[43m    \u001b[49m\u001b[43m)\u001b[49m\n\u001b[0;32m     55\u001b[0m \u001b[38;5;28;01mfor\u001b[39;00m k, v \u001b[38;5;129;01min\u001b[39;00m kwargs\u001b[38;5;241m.\u001b[39mitems():\n\u001b[0;32m     56\u001b[0m     \u001b[38;5;28;01mif\u001b[39;00m \u001b[38;5;129;01mnot\u001b[39;00m \u001b[38;5;28mhasattr\u001b[39m(config, k):\n",
      "File \u001b[1;32mc:\\Users\\realme\\anaconda3\\envs\\vivek2110\\lib\\site-packages\\ctransformers\\hub.py:72\u001b[0m, in \u001b[0;36mAutoConfig._update_from_repo\u001b[1;34m(cls, repo_id, auto_config, local_files_only, revision)\u001b[0m\n\u001b[0;32m     64\u001b[0m \u001b[38;5;129m@classmethod\u001b[39m\n\u001b[0;32m     65\u001b[0m \u001b[38;5;28;01mdef\u001b[39;00m \u001b[38;5;21m_update_from_repo\u001b[39m(\n\u001b[0;32m     66\u001b[0m     \u001b[38;5;28mcls\u001b[39m,\n\u001b[1;32m   (...)\u001b[0m\n\u001b[0;32m     70\u001b[0m     revision: Optional[\u001b[38;5;28mstr\u001b[39m] \u001b[38;5;241m=\u001b[39m \u001b[38;5;28;01mNone\u001b[39;00m,\n\u001b[0;32m     71\u001b[0m ) \u001b[38;5;241m-\u001b[39m\u001b[38;5;241m>\u001b[39m \u001b[38;5;28;01mNone\u001b[39;00m:\n\u001b[1;32m---> 72\u001b[0m     path \u001b[38;5;241m=\u001b[39m \u001b[43msnapshot_download\u001b[49m\u001b[43m(\u001b[49m\n\u001b[0;32m     73\u001b[0m \u001b[43m        \u001b[49m\u001b[43mrepo_id\u001b[49m\u001b[38;5;241;43m=\u001b[39;49m\u001b[43mrepo_id\u001b[49m\u001b[43m,\u001b[49m\n\u001b[0;32m     74\u001b[0m \u001b[43m        \u001b[49m\u001b[43mallow_patterns\u001b[49m\u001b[38;5;241;43m=\u001b[39;49m\u001b[38;5;124;43m\"\u001b[39;49m\u001b[38;5;124;43mconfig.json\u001b[39;49m\u001b[38;5;124;43m\"\u001b[39;49m\u001b[43m,\u001b[49m\n\u001b[0;32m     75\u001b[0m \u001b[43m        \u001b[49m\u001b[43mlocal_files_only\u001b[49m\u001b[38;5;241;43m=\u001b[39;49m\u001b[43mlocal_files_only\u001b[49m\u001b[43m,\u001b[49m\n\u001b[0;32m     76\u001b[0m \u001b[43m        \u001b[49m\u001b[43mrevision\u001b[49m\u001b[38;5;241;43m=\u001b[39;49m\u001b[43mrevision\u001b[49m\u001b[43m,\u001b[49m\n\u001b[0;32m     77\u001b[0m \u001b[43m    \u001b[49m\u001b[43m)\u001b[49m\n\u001b[0;32m     78\u001b[0m     \u001b[38;5;28mcls\u001b[39m\u001b[38;5;241m.\u001b[39m_update_from_dir(path, auto_config)\n",
      "File \u001b[1;32mc:\\Users\\realme\\anaconda3\\envs\\vivek2110\\lib\\site-packages\\huggingface_hub\\utils\\_validators.py:114\u001b[0m, in \u001b[0;36mvalidate_hf_hub_args.<locals>._inner_fn\u001b[1;34m(*args, **kwargs)\u001b[0m\n\u001b[0;32m    111\u001b[0m \u001b[38;5;28;01mif\u001b[39;00m check_use_auth_token:\n\u001b[0;32m    112\u001b[0m     kwargs \u001b[38;5;241m=\u001b[39m smoothly_deprecate_use_auth_token(fn_name\u001b[38;5;241m=\u001b[39mfn\u001b[38;5;241m.\u001b[39m\u001b[38;5;18m__name__\u001b[39m, has_token\u001b[38;5;241m=\u001b[39mhas_token, kwargs\u001b[38;5;241m=\u001b[39mkwargs)\n\u001b[1;32m--> 114\u001b[0m \u001b[38;5;28;01mreturn\u001b[39;00m \u001b[43mfn\u001b[49m\u001b[43m(\u001b[49m\u001b[38;5;241;43m*\u001b[39;49m\u001b[43margs\u001b[49m\u001b[43m,\u001b[49m\u001b[43m \u001b[49m\u001b[38;5;241;43m*\u001b[39;49m\u001b[38;5;241;43m*\u001b[39;49m\u001b[43mkwargs\u001b[49m\u001b[43m)\u001b[49m\n",
      "File \u001b[1;32mc:\\Users\\realme\\anaconda3\\envs\\vivek2110\\lib\\site-packages\\huggingface_hub\\_snapshot_download.py:238\u001b[0m, in \u001b[0;36msnapshot_download\u001b[1;34m(repo_id, repo_type, revision, cache_dir, local_dir, library_name, library_version, user_agent, proxies, etag_timeout, force_download, token, local_files_only, allow_patterns, ignore_patterns, max_workers, tqdm_class, headers, endpoint, local_dir_use_symlinks, resume_download)\u001b[0m\n\u001b[0;32m    231\u001b[0m     \u001b[38;5;28;01mraise\u001b[39;00m LocalEntryNotFoundError(\n\u001b[0;32m    232\u001b[0m         \u001b[38;5;124m\"\u001b[39m\u001b[38;5;124mCannot find an appropriate cached snapshot folder for the specified revision on the local disk and \u001b[39m\u001b[38;5;124m\"\u001b[39m\n\u001b[0;32m    233\u001b[0m         \u001b[38;5;124m\"\u001b[39m\u001b[38;5;124moutgoing traffic has been disabled. To enable repo look-ups and downloads online, set \u001b[39m\u001b[38;5;124m\"\u001b[39m\n\u001b[0;32m    234\u001b[0m         \u001b[38;5;124m\"\u001b[39m\u001b[38;5;124m'\u001b[39m\u001b[38;5;124mHF_HUB_OFFLINE=0\u001b[39m\u001b[38;5;124m'\u001b[39m\u001b[38;5;124m as environment variable.\u001b[39m\u001b[38;5;124m\"\u001b[39m\n\u001b[0;32m    235\u001b[0m     ) \u001b[38;5;28;01mfrom\u001b[39;00m \u001b[38;5;21;01mapi_call_error\u001b[39;00m\n\u001b[0;32m    236\u001b[0m \u001b[38;5;28;01melif\u001b[39;00m \u001b[38;5;28misinstance\u001b[39m(api_call_error, RepositoryNotFoundError) \u001b[38;5;129;01mor\u001b[39;00m \u001b[38;5;28misinstance\u001b[39m(api_call_error, GatedRepoError):\n\u001b[0;32m    237\u001b[0m     \u001b[38;5;66;03m# Repo not found => let's raise the actual error\u001b[39;00m\n\u001b[1;32m--> 238\u001b[0m     \u001b[38;5;28;01mraise\u001b[39;00m api_call_error\n\u001b[0;32m    239\u001b[0m \u001b[38;5;28;01melse\u001b[39;00m:\n\u001b[0;32m    240\u001b[0m     \u001b[38;5;66;03m# Otherwise: most likely a connection issue or Hub downtime => let's warn the user\u001b[39;00m\n\u001b[0;32m    241\u001b[0m     \u001b[38;5;28;01mraise\u001b[39;00m LocalEntryNotFoundError(\n\u001b[0;32m    242\u001b[0m         \u001b[38;5;124m\"\u001b[39m\u001b[38;5;124mAn error happened while trying to locate the files on the Hub and we cannot find the appropriate\u001b[39m\u001b[38;5;124m\"\u001b[39m\n\u001b[0;32m    243\u001b[0m         \u001b[38;5;124m\"\u001b[39m\u001b[38;5;124m snapshot folder for the specified revision on the local disk. Please check your internet connection\u001b[39m\u001b[38;5;124m\"\u001b[39m\n\u001b[0;32m    244\u001b[0m         \u001b[38;5;124m\"\u001b[39m\u001b[38;5;124m and try again.\u001b[39m\u001b[38;5;124m\"\u001b[39m\n\u001b[0;32m    245\u001b[0m     ) \u001b[38;5;28;01mfrom\u001b[39;00m \u001b[38;5;21;01mapi_call_error\u001b[39;00m\n",
      "File \u001b[1;32mc:\\Users\\realme\\anaconda3\\envs\\vivek2110\\lib\\site-packages\\huggingface_hub\\_snapshot_download.py:169\u001b[0m, in \u001b[0;36msnapshot_download\u001b[1;34m(repo_id, repo_type, revision, cache_dir, local_dir, library_name, library_version, user_agent, proxies, etag_timeout, force_download, token, local_files_only, allow_patterns, ignore_patterns, max_workers, tqdm_class, headers, endpoint, local_dir_use_symlinks, resume_download)\u001b[0m\n\u001b[0;32m    160\u001b[0m \u001b[38;5;28;01mtry\u001b[39;00m:\n\u001b[0;32m    161\u001b[0m     \u001b[38;5;66;03m# if we have internet connection we want to list files to download\u001b[39;00m\n\u001b[0;32m    162\u001b[0m     api \u001b[38;5;241m=\u001b[39m HfApi(\n\u001b[0;32m    163\u001b[0m         library_name\u001b[38;5;241m=\u001b[39mlibrary_name,\n\u001b[0;32m    164\u001b[0m         library_version\u001b[38;5;241m=\u001b[39mlibrary_version,\n\u001b[1;32m   (...)\u001b[0m\n\u001b[0;32m    167\u001b[0m         headers\u001b[38;5;241m=\u001b[39mheaders,\n\u001b[0;32m    168\u001b[0m     )\n\u001b[1;32m--> 169\u001b[0m     repo_info \u001b[38;5;241m=\u001b[39m \u001b[43mapi\u001b[49m\u001b[38;5;241;43m.\u001b[39;49m\u001b[43mrepo_info\u001b[49m\u001b[43m(\u001b[49m\u001b[43mrepo_id\u001b[49m\u001b[38;5;241;43m=\u001b[39;49m\u001b[43mrepo_id\u001b[49m\u001b[43m,\u001b[49m\u001b[43m \u001b[49m\u001b[43mrepo_type\u001b[49m\u001b[38;5;241;43m=\u001b[39;49m\u001b[43mrepo_type\u001b[49m\u001b[43m,\u001b[49m\u001b[43m \u001b[49m\u001b[43mrevision\u001b[49m\u001b[38;5;241;43m=\u001b[39;49m\u001b[43mrevision\u001b[49m\u001b[43m,\u001b[49m\u001b[43m \u001b[49m\u001b[43mtoken\u001b[49m\u001b[38;5;241;43m=\u001b[39;49m\u001b[43mtoken\u001b[49m\u001b[43m)\u001b[49m\n\u001b[0;32m    170\u001b[0m \u001b[38;5;28;01mexcept\u001b[39;00m (requests\u001b[38;5;241m.\u001b[39mexceptions\u001b[38;5;241m.\u001b[39mSSLError, requests\u001b[38;5;241m.\u001b[39mexceptions\u001b[38;5;241m.\u001b[39mProxyError):\n\u001b[0;32m    171\u001b[0m     \u001b[38;5;66;03m# Actually raise for those subclasses of ConnectionError\u001b[39;00m\n\u001b[0;32m    172\u001b[0m     \u001b[38;5;28;01mraise\u001b[39;00m\n",
      "File \u001b[1;32mc:\\Users\\realme\\anaconda3\\envs\\vivek2110\\lib\\site-packages\\huggingface_hub\\utils\\_validators.py:114\u001b[0m, in \u001b[0;36mvalidate_hf_hub_args.<locals>._inner_fn\u001b[1;34m(*args, **kwargs)\u001b[0m\n\u001b[0;32m    111\u001b[0m \u001b[38;5;28;01mif\u001b[39;00m check_use_auth_token:\n\u001b[0;32m    112\u001b[0m     kwargs \u001b[38;5;241m=\u001b[39m smoothly_deprecate_use_auth_token(fn_name\u001b[38;5;241m=\u001b[39mfn\u001b[38;5;241m.\u001b[39m\u001b[38;5;18m__name__\u001b[39m, has_token\u001b[38;5;241m=\u001b[39mhas_token, kwargs\u001b[38;5;241m=\u001b[39mkwargs)\n\u001b[1;32m--> 114\u001b[0m \u001b[38;5;28;01mreturn\u001b[39;00m \u001b[43mfn\u001b[49m\u001b[43m(\u001b[49m\u001b[38;5;241;43m*\u001b[39;49m\u001b[43margs\u001b[49m\u001b[43m,\u001b[49m\u001b[43m \u001b[49m\u001b[38;5;241;43m*\u001b[39;49m\u001b[38;5;241;43m*\u001b[39;49m\u001b[43mkwargs\u001b[49m\u001b[43m)\u001b[49m\n",
      "File \u001b[1;32mc:\\Users\\realme\\anaconda3\\envs\\vivek2110\\lib\\site-packages\\huggingface_hub\\hf_api.py:2588\u001b[0m, in \u001b[0;36mHfApi.repo_info\u001b[1;34m(self, repo_id, revision, repo_type, timeout, files_metadata, expand, token)\u001b[0m\n\u001b[0;32m   2586\u001b[0m \u001b[38;5;28;01melse\u001b[39;00m:\n\u001b[0;32m   2587\u001b[0m     \u001b[38;5;28;01mraise\u001b[39;00m \u001b[38;5;167;01mValueError\u001b[39;00m(\u001b[38;5;124m\"\u001b[39m\u001b[38;5;124mUnsupported repo type.\u001b[39m\u001b[38;5;124m\"\u001b[39m)\n\u001b[1;32m-> 2588\u001b[0m \u001b[38;5;28;01mreturn\u001b[39;00m \u001b[43mmethod\u001b[49m\u001b[43m(\u001b[49m\n\u001b[0;32m   2589\u001b[0m \u001b[43m    \u001b[49m\u001b[43mrepo_id\u001b[49m\u001b[43m,\u001b[49m\n\u001b[0;32m   2590\u001b[0m \u001b[43m    \u001b[49m\u001b[43mrevision\u001b[49m\u001b[38;5;241;43m=\u001b[39;49m\u001b[43mrevision\u001b[49m\u001b[43m,\u001b[49m\n\u001b[0;32m   2591\u001b[0m \u001b[43m    \u001b[49m\u001b[43mtoken\u001b[49m\u001b[38;5;241;43m=\u001b[39;49m\u001b[43mtoken\u001b[49m\u001b[43m,\u001b[49m\n\u001b[0;32m   2592\u001b[0m \u001b[43m    \u001b[49m\u001b[43mtimeout\u001b[49m\u001b[38;5;241;43m=\u001b[39;49m\u001b[43mtimeout\u001b[49m\u001b[43m,\u001b[49m\n\u001b[0;32m   2593\u001b[0m \u001b[43m    \u001b[49m\u001b[43mexpand\u001b[49m\u001b[38;5;241;43m=\u001b[39;49m\u001b[43mexpand\u001b[49m\u001b[43m,\u001b[49m\u001b[43m  \u001b[49m\u001b[38;5;66;43;03m# type: ignore[arg-type]\u001b[39;49;00m\n\u001b[0;32m   2594\u001b[0m \u001b[43m    \u001b[49m\u001b[43mfiles_metadata\u001b[49m\u001b[38;5;241;43m=\u001b[39;49m\u001b[43mfiles_metadata\u001b[49m\u001b[43m,\u001b[49m\n\u001b[0;32m   2595\u001b[0m \u001b[43m\u001b[49m\u001b[43m)\u001b[49m\n",
      "File \u001b[1;32mc:\\Users\\realme\\anaconda3\\envs\\vivek2110\\lib\\site-packages\\huggingface_hub\\utils\\_validators.py:114\u001b[0m, in \u001b[0;36mvalidate_hf_hub_args.<locals>._inner_fn\u001b[1;34m(*args, **kwargs)\u001b[0m\n\u001b[0;32m    111\u001b[0m \u001b[38;5;28;01mif\u001b[39;00m check_use_auth_token:\n\u001b[0;32m    112\u001b[0m     kwargs \u001b[38;5;241m=\u001b[39m smoothly_deprecate_use_auth_token(fn_name\u001b[38;5;241m=\u001b[39mfn\u001b[38;5;241m.\u001b[39m\u001b[38;5;18m__name__\u001b[39m, has_token\u001b[38;5;241m=\u001b[39mhas_token, kwargs\u001b[38;5;241m=\u001b[39mkwargs)\n\u001b[1;32m--> 114\u001b[0m \u001b[38;5;28;01mreturn\u001b[39;00m \u001b[43mfn\u001b[49m\u001b[43m(\u001b[49m\u001b[38;5;241;43m*\u001b[39;49m\u001b[43margs\u001b[49m\u001b[43m,\u001b[49m\u001b[43m \u001b[49m\u001b[38;5;241;43m*\u001b[39;49m\u001b[38;5;241;43m*\u001b[39;49m\u001b[43mkwargs\u001b[49m\u001b[43m)\u001b[49m\n",
      "File \u001b[1;32mc:\\Users\\realme\\anaconda3\\envs\\vivek2110\\lib\\site-packages\\huggingface_hub\\hf_api.py:2373\u001b[0m, in \u001b[0;36mHfApi.model_info\u001b[1;34m(self, repo_id, revision, timeout, securityStatus, files_metadata, expand, token)\u001b[0m\n\u001b[0;32m   2371\u001b[0m     params[\u001b[38;5;124m\"\u001b[39m\u001b[38;5;124mexpand\u001b[39m\u001b[38;5;124m\"\u001b[39m] \u001b[38;5;241m=\u001b[39m expand\n\u001b[0;32m   2372\u001b[0m r \u001b[38;5;241m=\u001b[39m get_session()\u001b[38;5;241m.\u001b[39mget(path, headers\u001b[38;5;241m=\u001b[39mheaders, timeout\u001b[38;5;241m=\u001b[39mtimeout, params\u001b[38;5;241m=\u001b[39mparams)\n\u001b[1;32m-> 2373\u001b[0m \u001b[43mhf_raise_for_status\u001b[49m\u001b[43m(\u001b[49m\u001b[43mr\u001b[49m\u001b[43m)\u001b[49m\n\u001b[0;32m   2374\u001b[0m data \u001b[38;5;241m=\u001b[39m r\u001b[38;5;241m.\u001b[39mjson()\n\u001b[0;32m   2375\u001b[0m \u001b[38;5;28;01mreturn\u001b[39;00m ModelInfo(\u001b[38;5;241m*\u001b[39m\u001b[38;5;241m*\u001b[39mdata)\n",
      "File \u001b[1;32mc:\\Users\\realme\\anaconda3\\envs\\vivek2110\\lib\\site-packages\\huggingface_hub\\utils\\_errors.py:352\u001b[0m, in \u001b[0;36mhf_raise_for_status\u001b[1;34m(response, endpoint_name)\u001b[0m\n\u001b[0;32m    333\u001b[0m \u001b[38;5;28;01melif\u001b[39;00m error_code \u001b[38;5;241m==\u001b[39m \u001b[38;5;124m\"\u001b[39m\u001b[38;5;124mRepoNotFound\u001b[39m\u001b[38;5;124m\"\u001b[39m \u001b[38;5;129;01mor\u001b[39;00m (\n\u001b[0;32m    334\u001b[0m     response\u001b[38;5;241m.\u001b[39mstatus_code \u001b[38;5;241m==\u001b[39m \u001b[38;5;241m401\u001b[39m\n\u001b[0;32m    335\u001b[0m     \u001b[38;5;129;01mand\u001b[39;00m response\u001b[38;5;241m.\u001b[39mrequest \u001b[38;5;129;01mis\u001b[39;00m \u001b[38;5;129;01mnot\u001b[39;00m \u001b[38;5;28;01mNone\u001b[39;00m\n\u001b[1;32m   (...)\u001b[0m\n\u001b[0;32m    342\u001b[0m     \u001b[38;5;66;03m# => for now, we process them as `RepoNotFound` anyway.\u001b[39;00m\n\u001b[0;32m    343\u001b[0m     \u001b[38;5;66;03m# See https://gist.github.com/Wauplin/46c27ad266b15998ce56a6603796f0b9\u001b[39;00m\n\u001b[0;32m    344\u001b[0m     message \u001b[38;5;241m=\u001b[39m (\n\u001b[0;32m    345\u001b[0m         \u001b[38;5;124mf\u001b[39m\u001b[38;5;124m\"\u001b[39m\u001b[38;5;132;01m{\u001b[39;00mresponse\u001b[38;5;241m.\u001b[39mstatus_code\u001b[38;5;132;01m}\u001b[39;00m\u001b[38;5;124m Client Error.\u001b[39m\u001b[38;5;124m\"\u001b[39m\n\u001b[0;32m    346\u001b[0m         \u001b[38;5;241m+\u001b[39m \u001b[38;5;124m\"\u001b[39m\u001b[38;5;130;01m\\n\u001b[39;00m\u001b[38;5;130;01m\\n\u001b[39;00m\u001b[38;5;124m\"\u001b[39m\n\u001b[1;32m   (...)\u001b[0m\n\u001b[0;32m    350\u001b[0m         \u001b[38;5;124m\"\u001b[39m\u001b[38;5;124m make sure you are authenticated.\u001b[39m\u001b[38;5;124m\"\u001b[39m\n\u001b[0;32m    351\u001b[0m     )\n\u001b[1;32m--> 352\u001b[0m     \u001b[38;5;28;01mraise\u001b[39;00m RepositoryNotFoundError(message, response) \u001b[38;5;28;01mfrom\u001b[39;00m \u001b[38;5;21;01me\u001b[39;00m\n\u001b[0;32m    354\u001b[0m \u001b[38;5;28;01melif\u001b[39;00m response\u001b[38;5;241m.\u001b[39mstatus_code \u001b[38;5;241m==\u001b[39m \u001b[38;5;241m400\u001b[39m:\n\u001b[0;32m    355\u001b[0m     message \u001b[38;5;241m=\u001b[39m (\n\u001b[0;32m    356\u001b[0m         \u001b[38;5;124mf\u001b[39m\u001b[38;5;124m\"\u001b[39m\u001b[38;5;130;01m\\n\u001b[39;00m\u001b[38;5;130;01m\\n\u001b[39;00m\u001b[38;5;124mBad request for \u001b[39m\u001b[38;5;132;01m{\u001b[39;00mendpoint_name\u001b[38;5;132;01m}\u001b[39;00m\u001b[38;5;124m endpoint:\u001b[39m\u001b[38;5;124m\"\u001b[39m \u001b[38;5;28;01mif\u001b[39;00m endpoint_name \u001b[38;5;129;01mis\u001b[39;00m \u001b[38;5;129;01mnot\u001b[39;00m \u001b[38;5;28;01mNone\u001b[39;00m \u001b[38;5;28;01melse\u001b[39;00m \u001b[38;5;124m\"\u001b[39m\u001b[38;5;130;01m\\n\u001b[39;00m\u001b[38;5;130;01m\\n\u001b[39;00m\u001b[38;5;124mBad request:\u001b[39m\u001b[38;5;124m\"\u001b[39m\n\u001b[0;32m    357\u001b[0m     )\n",
      "\u001b[1;31mRepositoryNotFoundError\u001b[0m: 401 Client Error. (Request ID: Root=1-66a1d2ad-58042cef72d14de212c8ddf2;aaf06416-d84a-4e93-a56d-4dd191438db4)\n\nRepository Not Found for url: https://huggingface.co/api/models/model/llama-2-7b-chat.ggmlv3.q4_0.bin/revision/main.\nPlease make sure you specified the correct `repo_id` and `repo_type`.\nIf you are trying to access a private or gated repo, make sure you are authenticated.\nInvalid username or password."
     ]
    }
   ],
   "source": [
    "llm=CTransformers(model=\"model/llama-2-7b-chat.ggmlv3.q4_0.bin\",\n",
    "                  model_type=\"llama\",\n",
    "                  config={'max_new_tokens':512,\n",
    "                          'temperature':0.8})"
   ]
  },
  {
   "cell_type": "code",
   "execution_count": 26,
   "metadata": {},
   "outputs": [],
   "source": [
    "import ctransformers\n"
   ]
  },
  {
   "cell_type": "code",
   "execution_count": 27,
   "metadata": {},
   "outputs": [
    {
     "ename": "NameError",
     "evalue": "name 'llm' is not defined",
     "output_type": "error",
     "traceback": [
      "\u001b[1;31m---------------------------------------------------------------------------\u001b[0m",
      "\u001b[1;31mNameError\u001b[0m                                 Traceback (most recent call last)",
      "Cell \u001b[1;32mIn[27], line 2\u001b[0m\n\u001b[0;32m      1\u001b[0m qa\u001b[38;5;241m=\u001b[39mRetrievalQA\u001b[38;5;241m.\u001b[39mfrom_chain_type(\n\u001b[1;32m----> 2\u001b[0m     llm\u001b[38;5;241m=\u001b[39m\u001b[43mllm\u001b[49m, \n\u001b[0;32m      3\u001b[0m     chain_type\u001b[38;5;241m=\u001b[39m\u001b[38;5;124m\"\u001b[39m\u001b[38;5;124mstuff\u001b[39m\u001b[38;5;124m\"\u001b[39m, \n\u001b[0;32m      4\u001b[0m     retriever\u001b[38;5;241m=\u001b[39mdocsearch\u001b[38;5;241m.\u001b[39mas_retriever(search_kwargs\u001b[38;5;241m=\u001b[39m{\u001b[38;5;124m'\u001b[39m\u001b[38;5;124mk\u001b[39m\u001b[38;5;124m'\u001b[39m: \u001b[38;5;241m2\u001b[39m}),\n\u001b[0;32m      5\u001b[0m     return_source_documents\u001b[38;5;241m=\u001b[39m\u001b[38;5;28;01mTrue\u001b[39;00m, \n\u001b[0;32m      6\u001b[0m     chain_type_kwargs\u001b[38;5;241m=\u001b[39mchain_type_kwargs)\n",
      "\u001b[1;31mNameError\u001b[0m: name 'llm' is not defined"
     ]
    }
   ],
   "source": [
    "qa=RetrievalQA.from_chain_type(\n",
    "    llm=llm, \n",
    "    chain_type=\"stuff\", \n",
    "    retriever=docsearch.as_retriever(search_kwargs={'k': 2}),\n",
    "    return_source_documents=True, \n",
    "    chain_type_kwargs=chain_type_kwargs)"
   ]
  },
  {
   "cell_type": "code",
   "execution_count": null,
   "metadata": {},
   "outputs": [],
   "source": []
  }
 ],
 "metadata": {
  "kernelspec": {
   "display_name": "vivek2110",
   "language": "python",
   "name": "python3"
  },
  "language_info": {
   "codemirror_mode": {
    "name": "ipython",
    "version": 3
   },
   "file_extension": ".py",
   "mimetype": "text/x-python",
   "name": "python",
   "nbconvert_exporter": "python",
   "pygments_lexer": "ipython3",
   "version": "3.8.19"
  }
 },
 "nbformat": 4,
 "nbformat_minor": 2
}
