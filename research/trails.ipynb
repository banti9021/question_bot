{
 "cells": [
  {
   "cell_type": "code",
   "execution_count": 41,
   "metadata": {},
   "outputs": [],
   "source": [
    "import pinecone"
   ]
  },
  {
   "cell_type": "code",
   "execution_count": 42,
   "metadata": {},
   "outputs": [],
   "source": [
    "from langchain import PromptTemplate\n",
    "from langchain.chains import RetrievalQA\n",
    "from langchain.embeddings import HuggingFaceEmbeddings\n",
    "from langchain.vectorstores import Pinecone\n",
    "import pinecone\n",
    "from langchain.document_loaders import PyPDFLoader, DirectoryLoader\n",
    "from langchain.text_splitter import RecursiveCharacterTextSplitter\n",
    "from langchain.prompts import PromptTemplate\n",
    "from langchain.llms import CTransformers"
   ]
  },
  {
   "cell_type": "code",
   "execution_count": 43,
   "metadata": {},
   "outputs": [],
   "source": [
    "PINECONE_API_KEY = \"316c44ff-646d-4332-8db6-5ea2d25ce8dc\"\n",
    "PINECONE_API_ENV =\"us-east-1\""
   ]
  },
  {
   "cell_type": "code",
   "execution_count": 44,
   "metadata": {},
   "outputs": [],
   "source": [
    "#Extract data from the PDF\n",
    "def load_pdf(data):\n",
    "    loader = DirectoryLoader(data,\n",
    "                    glob=\"*.pdf\",\n",
    "                    loader_cls=PyPDFLoader)\n",
    "    \n",
    "    documents = loader.load()\n",
    "\n",
    "    return documents"
   ]
  },
  {
   "cell_type": "code",
   "execution_count": 45,
   "metadata": {},
   "outputs": [
    {
     "name": "stderr",
     "output_type": "stream",
     "text": [
      "Multiple definitions in dictionary at byte 0x7a for key /Subtype\n",
      "Multiple definitions in dictionary at byte 0x247 for key /Subtype\n"
     ]
    },
    {
     "name": "stderr",
     "output_type": "stream",
     "text": [
      "Multiple definitions in dictionary at byte 0x8acf for key /Subtype\n",
      "Multiple definitions in dictionary at byte 0x7a for key /Subtype\n",
      "Multiple definitions in dictionary at byte 0x3a6 for key /Subtype\n",
      "Multiple definitions in dictionary at byte 0x7a for key /Subtype\n",
      "Multiple definitions in dictionary at byte 0x342 for key /Subtype\n",
      "Multiple definitions in dictionary at byte 0x7a for key /Subtype\n",
      "Multiple definitions in dictionary at byte 0x3a6 for key /Subtype\n",
      "Multiple definitions in dictionary at byte 0x7a for key /Subtype\n",
      "Multiple definitions in dictionary at byte 0x342 for key /Subtype\n",
      "Multiple definitions in dictionary at byte 0x7a for key /Subtype\n",
      "Multiple definitions in dictionary at byte 0x3a6 for key /Subtype\n",
      "Multiple definitions in dictionary at byte 0x7a for key /Subtype\n",
      "Multiple definitions in dictionary at byte 0x342 for key /Subtype\n",
      "Multiple definitions in dictionary at byte 0x7a for key /Subtype\n",
      "Multiple definitions in dictionary at byte 0x3a6 for key /Subtype\n"
     ]
    }
   ],
   "source": [
    "extracted_data = load_pdf(\"E:\\question_bot\\data/\")"
   ]
  },
  {
   "cell_type": "code",
   "execution_count": 46,
   "metadata": {},
   "outputs": [
    {
     "data": {
      "text/plain": [
       "[Document(metadata={'source': 'E:\\\\question_bot\\\\data\\\\Chatbot_in_business.pdf', 'page': 0}, page_content=' \\n \\nThis is an open access paper under the license  \\n \\n I C E M I T  \\n1st International Scientific Conference on Economy, Management \\nand Informa tion Technologies – ICEMIT 2023  \\n \\n \\nChatbot in business  \\n \\nMilan Puvačaa\\uf02a, Ivan Kunacb \\n \\na Ofir d.o.o., Osijek, Croatia  \\nb A. G. Matoš Elementary School, Tovarnik, Croatia  \\n \\nA r t i c l e   i n f o   A b s t r a c t  \\n \\nReview paper  \\n \\nDOI:  \\nhttps://doi.org/10.46793/ICEMIT23.219P       \\n \\nUDC/ UDK:  \\n070.3 :004.8    \\nThe cost of today\\'s employee education is ex tensive, but also dynamic due to the global \\nchallenges of business that encompasses each activity. The special expression of the \\naforementioned is outlined in the elements of customer support provided to visitors or \\npotential clients through the websites o f companies or other institutions. In order to \\nsomewhat bridge the gap of new training and training of customer support, companies \\nare forced to seek new models of communication with users and resolve their inquiries \\nas soon as possible. As a solution, the  implementation of chatbots in websites is imposed \\nas the first phase of communication with users and the resolution of simple queries by \\nusers.  Full business automation is a constant focus of corporations precisely because \\nof the global market and increasingly demanding clients. The last year has been marked \\nby the increasing availability of artificial intelligence, advanced computing, or big data \\nprocessing. The orientation of this technology towards customer satisfaction, and \\nthrough the use of ad vantages of chatbot as a \"first line\" of conversation with visitors \\nenables unprecedented functionality.  Through research of available literature and \\npublicly available examples of good practice, the advantages, and disadvantages of \\nimplementing chatbots a s a substitute for customer support will be observed.  \\nKeywords : modern business, chatbot, information and communication technology, \\ndigitization  \\n \\n1. Introduction   \\n \\nIn the current landscape of the global market, rapid and swift transformations are reshaping both corporate and personal \\nspheres. This dynamic environment  leaves minimal margin for errors or lack of readiness in responding to the fluid and \\nevolving conditions. As a result, the imperative to adapt to these changes swiftly and adeptly is paramount for success. \\nCompanies across all sectors are facing the impac t of global crises and challenges (post -Covid, inflation, war situation in \\nUkraine), necessitating strategic responses to maintain resilience and competitiveness. Cost optimization and efficient \\nresource allocation, particularly concerning human capital, h ave become imperative to ensure sustained operations and \\ngrowth. Moreover, the recruitment and retention of skilled employees present additional complexities in this dynamic \\nlandscape.   \\n \\nAmidst these challenges, enterprises must continuously innovate, embr ace digital transformation, and cultivate a \\ncorporate culture that fosters adaptability and agility. Utilizing technology, data -driven insights, and market intelligence \\nis essential to predict customer needs, react to emerging trends, and stay competitive.  Embracing sustainability practices \\nand incorporating ESG (Environmental, Social and Governance) considerations can also enhance a company\\'s reputation \\nand attractiveness to investors and consumers in an increasingly conscious market.   \\n \\nIn this ever -changi ng global market, strategic decision -making, proactive risk management, and a relentless commitment \\nto excellence are essential for organizations to navigate uncertainties and thrive in the face of multifaceted challenges.  \\nMentioned digital approach is definitely here to stay and with new AI (artificial intelligence) benefits is getting more and \\nmore available to any company. Special care is considered in terms of human related work and switching repetitive tasks \\nto information technology. Gl obal popularity of Chat GPT (OpenAI, L.L.C., 2023.) pushed such technology even faster \\nand made thinking about practical implementations on highest rank in numerous businesses.  \\n \\n\\uf02aCorresponding author  \\nE-mail address:  milan@ofir.hr  \\n'),\n",
       " Document(metadata={'source': 'E:\\\\question_bot\\\\data\\\\Chatbot_in_business.pdf', 'page': 1}, page_content='Milan Puva ča, Ivan Kunac   \\n1st International Scientific Conference on Economy, Management and Information Technologies – ICEMIT 2023  220 An exemplary IT solution, widely recognized for its potential to enhance employee productivity, is the implementation \\nof a chatbot. By automating routine tasks and providing efficient customer support, chatbots can liberate valuable time \\nfor employees, enabling them to focus on more strategic and value -added activities.  It is quite noticeable how chatbot \\npopularity is growing in previous years as shown in Figure 1. The increased availability and utilization of chatbots can \\nbe primarily attributed to their heightened adaptability and simplified implementation processes. F urthermore, a \\nsignificant reduction in the costs associated with their development and deployment has played a pivotal role in their \\nwidespread adoption. These combined factors have synergistically contributed to the pervasive integration of chatbot \\ntechno logy across diverse sectors (Dashly Ltd., 2023). As a result, chatbots have emerged as versatile tools with the \\npotential to revolutionize interactions between users and automated systems.  \\nFigure 1. Google search frequency for \"cha tbot use\" keyword  \\n \\nSource: Author work with Google trends tool (Google Inc., 2023.)  \\n \\n \\n2. Theoretical grounds   \\n \\nIn today\\'s rapidly growing world of technology, the chatbot has emerged as an innovative virtual assistant that aids in \\ncommunication between humans and computers. A chatbot is computer program, which responds like a smart entity when \\nconversed with through text or voice and understands one or more human languages by Natural Language Processing \\n(NLP) (Adamopoulou, 2 020). These programs utilize artificial intelligence (AI) and natural language processing to \\nunderstand user queries and provide relevant responses. The rapid information processing and concurrent query handling \\ncapabilities of chatbots have solidified the ir significance in contemporary communication landscapes across diverse \\ndomains such as customer support, e -commerce, and banking. These versatile tools offer multifaceted benefits, enabling \\nefficient interactions between businesses and customers. Chatbots  come in several distinct types, each meticulously \\ndesigned to serve specific purposes and address varying user needs. By seamlessly integrating into various sectors, \\nchatbots enhance operational efficiency and user experiences, marking a pivotal advanceme nt in modern communication \\nparadigms.  \\nThe historical development of chatbots is traced, starting from early chatbot pioneers like ELIZA and PARRY to modern \\nexamples like Siri, Google Assistant, and ChatGPT. The evolution of chatbot technology demonstrates their \\ntransformation from basic pattern matching to sophisticated language models with potential applications in diverse fields.  \\n \\nFigure 2. Evolution of Chatbots for 70 years  \\n  \\nSource: Capacity (2023, June 15)  \\n \\n'),\n",
       " Document(metadata={'source': 'E:\\\\question_bot\\\\data\\\\Chatbot_in_business.pdf', 'page': 2}, page_content=\"Chatbot in business  \\n \\nToplica Academy of Applied Studies, Department of Business Studies Blace  221 According to Nesterchuk et al. (2021), the primary difference between gastronomic and other forms of tourism is the fact \\nthat this type of tourism is based on the concept of getting to know, research, tasting and enjoying the culture of \\ngastronomy of a cer tain country, area, region, or place. Starting precisely from the aspect of experience, Smith and Xiao \\n(2008) define this term as any journey through which the tourist enjoys and acquires knowledge about local gastronomic \\nproducts and thus experiences diff erent experiences in contact with food. Some authors point out that gastronomic tourism \\nis actually a subcategory of cultural tourism (Lin et al., 2021; Zvirbule et al., 2023), bearing in mind that Long (2004) \\nbelieves that this form of tourism allows tour ists to get to know the culture and traditions of a certain place through the \\nconsumption of food. destinations. This fact can be explained by the fact that through the consumption of food and \\ndifferent tastes, tourists learn about different cultures, accu mulate knowledge, and gain an authentic experience (Gheorghe \\net al., 2015). In accordance with the previous researches, it is evident that this form of tourism is a complex category, \\nwhich implies a combination of various aspects of the tourist experience through the consumption of food, contributing \\nto the economic revitalization of destinations and differentiating the tourist offer with the aim of achieving \\ncompetitiveness on the gastronomic tourism market.  \\n \\nOne of the key advantages of this approach is t he continuous availability to customers. The constant availability of such \\nsupport allows timely access to information regardless of the user's location or time zone. This approach often leads to \\nincreased customer satisfaction and fosters a sense of relia bility and trust in the product or company. Moreover, a chatbot \\nis capable of handling multiple user queries simultaneously without compromising the quality of responses or the ability \\nto address user inquiries. By resolving simple queries promptly, chatbo ts enable human customer support to focus on \\ncomplex issues, optimizing overall efficiency and improving the effectiveness of customer support.  \\n \\nAnother advantage of chatbot -based customer support is the consistency in response and problem -solving. Traditi onal \\ncustomer support may vary in terms of knowledge and skills of the agent providing it, whereas a chatbot follows a \\npredefined response scenario, ensuring consistent quality and scope of service. Such predefined scenarios provide reliable \\nsolutions to f requently encountered problems. Through algorithmic machine learning, chatbots can analyse all interactions \\nwith users and continuously improve their responses and problem -solving capabilities, enhancing their performance and \\nusefulness over time.   \\n \\nDespit e the significant advantages of chatbot -based customer support over traditional methods, chatbots cannot fully \\nreplace them. There are moments when emotional intelligence, de -escalation of situations, and complex problem -solving, \\nwhich only human customer support can demonstrate and provide, are necessary. Given these factors, a strategic approach \\nto optimizing customer support involves the integration of both chatbot -driven automation and human assistance, \\nculminating in a hybrid solution. Such a synergist ic framework capitalizes on the strengths of each component, leveraging \\nthe efficiency of chatbots for routine inquiries while harnessing human expertise to handle intricate and contextually \\nnuanced interactions. By fusing these capabilities, an enhanced c ustomer experience can be delivered that strikes a \\nharmonious balance between automation and personalized engagement.  \\n \\nA limitation associated with employing chatbots for customer support lies in their inherent inability to fully grasp intricat e \\ninquiries and nuanced linguistic variations specific to different counties and regions. This constraint arises from the \\ncomplexity of natural language understanding and the challenges posed by local dialects and idiomatic expressions. \\nAddressing this limit ation requires advancements in natural language processing algorithms and cross -cultural linguistic \\nmodelling to enable chatbots to effectively navigate the diverse landscape of customer interactions. Chatbots rely on \\nkeyword recognition, which can sometim es result in inaccurate or incomplete responses to user inquiries. They might \\nstruggle with local languages, idiomatic expressions, or sarcasm, resulting in repetitive responses that users may interpret \\nas a lack of accessibility and unprofessionalism. (Zu mstein, 2018.)  \\n \\n3. Different concepts of chatbot training  \\n \\nThe training of a chatbot encompasses a variety of approaches and methodologies that are tailored to its specific intended \\nfunction. These techniques are diverse, accommodating the unique requireme nts and objectives of each chatbot \\nimplementation. Here are some common ways:  \\n \\nRule based training  \\n \\nIn this approach, the chatbot is trained using a set of predefined rules. These rules are created based on anticipated user \\nqueries and corresponding responses. The chatbot matches user input with specific rules to generate appropriate replies. \\nWhile rule -based training is relatively straightforward to implement, it requires extensive manual rule creation and may \\nnot handle complex or unex pected queries effectively. (Thorat, 2020)  \\n \\n \"),\n",
       " Document(metadata={'source': 'E:\\\\question_bot\\\\data\\\\Chatbot_in_business.pdf', 'page': 3}, page_content='Milan Puva ča, Ivan Kunac   \\n1st International Scientific Conference on Economy, Management and Information Technologies – ICEMIT 2023  222 Supervised learning  \\nIn supervised learning, the chatbot is trained using labelled data. Human experts provide conversations or dialogues, with \\neach input paired with its corresponding desired output. These paire d examples serve as training data to teach the chatbot \\nhow to generate appropriate responses based on given inputs. Supervised learning requires a substantial amount of \\nlabelled data, and human experts\\' involvement is necessary to curate the training datas et. (Uprety, 2022)  \\n \\nReinforced learning  \\n \\nReinforcement learning involves training the chatbot through a trial -and-error process. The chatbot interacts with users \\nand receives feedback on its responses. Based on the feedback (reward or punishment), the chat bot learns to improve its \\nconversational abilities over time. Reinforcement learning requires careful design of reward systems and may involve \\nmore complex training algorithms. (Ricciardelli, 2019)  \\nIt\\'s important to remember that these approaches can be mi xed or adjusted depending on what\\'s needed and the resources \\navailable for training a chatbot. This flexibility allows for better training strategies to match each chatbot\\'s unique \\nrequirements.  \\n \\nIn addition to mentioned techniques or as its follow up, La rge Language Models and its usage as a “base” for Chatbots \\nbecame fascinating thing. This integration allows chatbots to provide contextually relevant and coherent answers, \\nenhancing customer engagement and satisfaction (Li, 2023). Ability of LLM to intera ct in “almost human” way provided \\nunbelievable results which are waiting to be implemented in months to come ( Ornes, 2023). Also, many programming \\nsolutions are getting prepared for own / custom LLM -Chatbot implementations (ex.  (Github, 2023)). Practical examples \\non how it should be done together with its advantages are publicly available ( Adams , 2023).  \\n \\nUsing new features of modern business as Big Data, Machine Learning, LLM together with experience having from the \\npast will undoubtably allow companies to grow, make new comparative advantage and provide fresh experiences for their \\ncustomers. Remaining que stion is, how long will it take for firms to realize this potential and what would be a client’s \\nfeedback.  \\n \\nThis paper will investigate the utilization of chatbots as customer support agents, irrespective of their training methods. \\nThe focus is on explori ng their effectiveness in customer service roles.  \\n \\n4. Case studies – practical examples  \\n \\nT.S. Nguyen (Nguyen, 2019) case study examines a software company in the software industry that provides applications \\non multiple platforms (Android, iOS, Windows) and experiences complications in the installation process and customer \\nsupport. The traditio nal customer support model involves an FAQ section on the company\\'s website and email responses. \\nThe company experiments with a chatbot during periods of increased user activity to improve response times and reduce \\nthe load on human support personnel. A qu estionnaire is designed to assess various dimensions of user experience. Case \\nstudy consist of two research questions: potential effects of the chatbot on customer Support and impact of chatbot \\nAssistance. In first research question the study analysed ten dimensions of customer experience, including information \\nquality, system quality, service quality, usefulness, and user satisfaction. The results indicated that the chatbot\\'s presenc e \\nled to improved responsiveness, reducing customer support response times . However, no significant differences were \\nobserved in information quality or system quality measures between the chatbot -enabled and traditional systems. This \\nsuggests that while the chatbot improved response time, it did not significantly enhance the qua lity of information \\nprovided to customers. In second research question the study examined cases where the chatbot was unable to fully resolve \\ncustomer issues, leading to human agent involvement. Contrary to initial expectations, the study found that unsucc essful \\nchatbot interactions did not significantly worsen the overall customer experience. While there were no significant \\ndifferences in information quality, system quality, and user satisfaction measures, the ratings in scenarios involving \\nhuman agent ass istance tended to be more consistent around the medians. This suggests that customers who experienced \\nchatbot -to-human escalation did not necessarily have a worse experience. The study suggests that the chatbot\\'s presence \\npositively influences certain aspe cts of service quality and user satisfaction. However, human involvement is important \\nwhen the chatbot can\\'t solve problems by itself, especially in maintaining information quality and certain service quality \\ndimensions.  \\n \\nThe case study acknowledges limita tions and suggests further research to explore additional dimensions and factors that \\ncould influence user experience with chatbots in customer support scenarios.  \\n \\nCase study conducted by Park et al. (Park S., 2019) aims to design a conversational sequence  for a brief motivational \\ninterview (MI) for stress management and explore its effectiveness on a Web -based text messaging application. The study \\nsought to understand users\\' perception of the conversation, its impact on coping with stress, and suggestions for improving \\nmental health support. The researchers developed a chatbot called \"Bonobot\" that utilized MI skills, including \\nquestioning, reflections, and MI -adherent statements, to engage users in a structured conversation. The study involved '),\n",
       " Document(metadata={'source': 'E:\\\\question_bot\\\\data\\\\Chatbot_in_business.pdf', 'page': 4}, page_content='Chatbot in business  \\n \\nToplica Academy of Applied Studies, Department of Business Studies Blace  223 graduate stu dents who engaged in conversations with Bonobot about their stress -related concerns. Main findings are as \\nfollows: Participants generally showed a preference for Bonobot\\'s use of thought -provoking questions, which encouraged \\nthem to reflect on themselves a nd explore potential changes. While feedback from Bonobot, including reflections and \\nsupportive statements, was well -received, certain participants found it to be repetitive or lacking contextual accuracy. The \\nnon-judgmental and empathetic approach adopted  by Bonobot was highly valued by participants, making it easier for \\nthem to open up and address their concerns. Participants expressed a desire for more personalized and context -specific \\nfeedback, along with informational assistance and specific action pla ns to better cope with stress. There was a range of \\nresponses to the problem -solving and change -oriented aspects, with some participants resistant and others finding the \\nconversation to be motivating and inspirational. The study highlights the potential of  using a chatbot to conduct MI for \\nstress management. It emphasizes the importance of combining technical and relational components in designing chatbot \\nconversations. While participants generally found the conversation helpful, there were limitations, suc h as the chatbot\\'s \\ninability to provide fully context -aware responses.  \\n \\nFuture research could explore different conversation sequences, incorporate multimedia elements, and develop \\nassessment tools to measure the effectiveness of chatbot -client interaction s in a therapeutic context.  \\n \\nA case study conducted by Miri Heo and Kyoung Jun Lee (Heo Miri, 2018) discusses the rise of chatbot -based messaging \\napplications as a potential alternative to traditional web browsers. It highlights the growth of messaging app s like \\nKakaoTalk, Tencent, Line, and Whatsapp, which are incorporating chatbots as a part of their ecosystem. The article \\nexplores the evolution of Naver TalkTalk, a card -based chatbot application developed by Naver, a major internet company \\nin Korea. Init ially, Naver\\'s attempt to engage users through direct picture uploads for offline stores did not work as \\nanticipated. Online communication between consumers and stores was better facilitated through competitors like \\nKakaoTalk. This led to the creation of N aver TalkTalk, a chatbot -based platform that allowed users to engage with offline \\nstore owners more efficiently. Naver TalkTalk\\'s success was attributed to its user -friendly cardbot interface, where users \\ncould select options from predefined categories, si mplifying the interaction process. The article also discusses Naver\\'s \\nprogression from simple chatbots to cardbots, which allowed users to choose scenarios and predefined options. The \\nintroduction of cardbots led to increased success rates and higher conve rsion rates for online purchases. The \\nimplementation of chatbots, particularly cardbots, resulted in improved user experience, efficient order placements, and \\nincreased customer satisfaction. Naver\\'s efforts to further enhance automation through robotic pr ocess automation are \\nalso highlighted. The company aimed to increase automation rates for various tasks, such as checking shipping status, \\nthrough robotic process automation, which could lead to reduced costs and improved customer satisfaction.  \\n \\nIn conclus ion, the article emphasizes the value of chatbots, particularly cardbots, in business communication and customer \\nengagement. It discusses Naver\\'s journey in developing and implementing chatbot solutions, highlighting their impact on \\ncustomer satisfaction, efficient communication, and potential benefits for small businesses and offline service providers.  \\nA case study of Siri (Lee, 2019.) begins by introducing chatbots as computer programs designed to mimic human \\nconversations. It categorizes Siri as a genera l-purpose chatbot that can handle a wide array of queries for specific task. It \\nexplains how rule -based chatbots use question -and-answer knowledge bases, while recent advancements in deep learning \\nhave significantly improved chatbot performance, allowing t hem to engage in more sophisticated conversations. \\nHowever, challenges remain, particularly in understanding multi -turn conversations. The study\\'s methodology is detailed, \\nfocusing on sentiment analysis conducted on posts from Weibo, a Chinese social netwo rking site. By categorizing \\nsentiments as positive or negative, the study sought to gauge users\\' opinions about Siri. The analysis of positive sentiments  \\nrevealed that users generally hold favourable views of Siri. Commonly associated terms included \"Apple ,\" \"voice,\" and \\n\"intelligent,\" reflecting positive discussions. On the flip side, the analysis of negative sentiments unveils a range of issu es. \\nUsers express dissatisfaction stemming from unexpected sound outputs, often leading to embarrassing or awkward \\nsituations. High user expectations also contribute to negative sentiments, as users anticipate Siri to fulfil complex request s \\nor tasks beyond its capabilities. The article subsequently draws a meaningful juxtaposition between Siri and Alime, \\nAlibaba\\'s int elligent shopping assistant. Notable distinctions between the two chatbots emerge, particularly in terms of \\ninput methods and functionalities. While Siri predominantly relies on voice interactions, Alime leans towards text -based \\ninput, although it does off er limited voice functionalities. Moreover, Siri, as a general -purpose chatbot, spans a broad \\narray of applications, whereas Alime is tailored for e -commerce, assisting customers with shopping -related inquiries and \\ntasks. An intriguing observation from the  study is the phenomenon of users \"coming on to\" chatbots, especially evident \\nwith phrases like \"I love you.\" This curiosity -driven behaviour, while unconventional, underscores users\\' desire to explore \\nthe boundaries of human -chatbot interactions. Develope rs are encouraged to consider and craft responses that handle such \\ninteractions tactfully, potentially infusing humour and creativity into the chatbot\\'s repertoire.  \\n \\nIn conclusion, the sentiment analysis provides valuable insights into users\\' perceptions of Siri. Users generally exhibit a \\npositive sentiment towards Siri, appreciating its functionalities and the engagement it fosters. The study accentuates the \\nimportance of adeptly managing interactions, humorously addressing unconventional queries, and ens uring consistent \\nuser satisfaction. It also underscores the potential for further research in sentiment analysis across diverse platforms and \\ndemographic groups, broadening our understanding of chatbot adoption and user engagement.  \\n '),\n",
       " Document(metadata={'source': 'E:\\\\question_bot\\\\data\\\\Chatbot_in_business.pdf', 'page': 5}, page_content='Milan Puva ča, Ivan Kunac   \\n1st International Scientific Conference on Economy, Management and Information Technologies – ICEMIT 2023  224 One of local examples o n how chatbot can be used is presented on digitalnakomora.hr ( Croatian Chamber of Commerce , \\n2023). The \"Digital Chamber,\" a communication platform designed for business entities, public administration, and \\ncitizens, represents an initiative led by the Croa tian Chamber of Economy. This project has received co -financing from \\nthe European Regional Development Fund through the Operational Programme Competitiveness and Cohesion. The \\nplatform encompasses various digital initiatives, including e -government authori zations, online learning, digital \\nlegislation, virtual trade fairs and promotions, electronic financing, membership management through online platforms, \\nand digital economic information dissemination. Large set of services which are provided with Digital C hamber is \\nsometimes confusing and difficult to follow, especially for new entrepreneurs. Idea of implementing a chatbot on platform \\nappeared exactly in order to simplify the onboarding process of SMEs which are main clients of this solution.  \\n \\nChatbot is always located in right bottom corner of the screen (desktop and mobile solution) which is one of the best user \\nexperience guidelines for its implementation ( Lee, 2023). Digital Chamber chatbot is trained on rule basis approach where \\nit expects specific keywords and user queries where it has prepared replies. In situations where it cannot help the user or \\nit does not understand the question it suggest typing “HELP” in order to see main categories where help can be provided. \\nThis approach as “zero  level” support is good enough, reducing unnecessary calls or emails where already written answers \\nwill be provided. However, at the moment better understanding or user guidance through the platform is missing and is \\nconsidered as chatbot update. Previousl y mentioned corelates with different conducted studies where “trust” in chatbots \\nis getting noticeably higher as they are providing wider understanding of user queries. (Wang, 2023).  \\n \\nThe process of integrating a chatbot with a learning phase is time -consu ming and often involves significant financial \\nexpenditures. Like other emerging technologies, there are strategies that prioritize the streamlining of the implementation \\nprocess, ultimately making it more accessible to a broader range of users. These appro aches aim to reduce the complexities \\nassociated with deploying a chatbot while also minimizing the financial burden. Consequently, the evolution of this \\ntechnology is marked by a effort to enhance efficiency and affordability, aligning it with the goals of  widespread adoption. \\nGreat example of this approach is FlowiseAI, an Open -source user interface visual tool to build your customized LLM \\nflow (FlowiseAI, Inc, 2023). With a lot of resources even non -technical user can understand basic concepts of this too l. \\nMainly with trial -and-error approach it is possible to prepare a custom chatbot ready to be implemented on any web site. \\nIt will be able to reply on custom queries related to client’s database, documents or even web sites by using OpenAI \\n(ChatGPT) conve rsational agents or LLM chains. Further automatization is available in cases when such chatbot cannot \\nprovide clear answer and should provide direct message to a company or connect a customer to a live support. Introduced \\nin the first quarter of 2023, Flow iseAI is a nascent tool that serves as a prominent illustration of the ongoing advancements \\nin business optimization geared towards achieving the pinnacle of customer experience. Its recent inception underscores \\nthe dynamic evolution within this field, hig hlighting the pursuit of elevated customer satisfaction and operational \\nexcellence.  \\n \\n5. Conclusion  \\n \\nChatbots offer distinct advantages that contribute to improved customer experiences. The continuous availability of \\nchatbots ensures timely access to information, enhancing customer satisfaction and building trust. The ability of chatbots \\nto handle multiple queries simultaneously, coupled with their consistent and algorithmically improving responses, \\noptimizes overall efficiency in customer support. How ever, while chatbots offer significant benefits, they are not without \\nlimitations. Their inability to fully comprehend complex queries, nuanced language variations, and emotional intelligence \\nunderscores the importance of a hybrid customer support approach  that combines chatbots with human assistance. This \\nfusion ensures a balance between efficiency and the human touch that is crucial for resolving intricate issues and \\ncultivating customer loyalty.  \\n \\nThe case studies presented highlight the real -world applic ations and impacts of chatbots in diverse business scenarios. \\nFrom improving responsiveness in customer support to facilitating motivational conversations for stress management, \\nchatbots showcase their potential across various domains. The success of these  implementations underscores the \\nimportance of thoughtful design, user -friendly interfaces, and continuous adaptation to user feedback.  \\n \\nThe integration of chatbots into modern business operations represents a significant step toward efficiency, \\nresponsiv eness, and enhanced customer experiences. Special role and new improvements are played by artificial \\nintelligence and its “variations” seen as Large Language Models. Integrating natural language capabilities into chatbot \\nresponses represents a significant step forward in minimizing miscommunication and addressing information gaps. This \\nenhancement is anticipated to significantly improve the quality of bot -client interactions by fostering a heightened sense \\nof confidence and assurance through seamless and ef fective communication. The continuous advancement of technology \\nis paving the way for the creation of interactive tools (easy to use) designed for crafting customized chatbots, thereby \\nprogressively bridging the gap towards broader acceptance and integrati on. Comparison of previously implemented \\nchatbots versus new LLM enhanced ones is a theme for next paper where authors are aiming to measure scale of \\nseriousness and real -human feeling in chatbot communication while using it in e -commerce solution. Only co mpanies \\nwhich will be able to use this potential will continue to grow and assure leading place in global markets.  \\n '),\n",
       " Document(metadata={'source': 'E:\\\\question_bot\\\\data\\\\Chatbot_in_business.pdf', 'page': 6}, page_content='Chatbot in business  \\n \\nToplica Academy of Applied Studies, Department of Business Studies Blace  225 References   \\n \\nAdamopoulou, E. M. & Moussiades , L. (2020). An Overview of Chatbot Technology. In I. Maglogiannis, L. Iliadis, & E. Pimenidis \\n(Eds.), IFIP Advances in Information and Communication Technology IFIPAICT: vol. 584 (pp. 373 -383). Springer. \\nhttps://doi.org/10.1007/978 -3-030-49186 -4_31   \\nAdams, F. (2023, July 15). Unleashing the Power of Large Language Models: Building an AI Chatbot for Private Knowledge Base \\nQueries. Medium . https://medium.com/@FrankAdams7/unleashing -the-power -of-large -language -models -building -an-ai-\\nchatbot -for-private -knowledge -base-eb8cf31c7fcc   \\nCapacity. (2023, June 15). Evolution of Chatbots. Capacity.  https://capacity.com/chatbots/evolution -of-chatbots/   \\nCroatian Chamber of Commerce. (2023, August 5). Home. Croatian Chamber of Commerce . https://digitalnakomora.hr/home   \\nDashly Ltd. (2023, June 15). Dashly blog. Chatbot statistics crucial to know in 2023. Dashly Ltd.  https://www.dashly.io/blog/chatbot -\\nstatistics/   \\nFlowiseAI, Inc. (2023, July 28). Build LLMs Apps Easily. FlowiseAI . https://flowiseai.com/   \\nGithub (2 023, June 23). GitHub - deep -diver/LLM -As-Chatbot: LLM as a Chatbot Service. Github .  https://github.com/deep -\\ndiver/LLM -As-Chatbot   \\nGoogle Inc. (2023, July 17). Google trends. Google Inc.  https://trends.google.com/trends/   \\nHeo Miri, L. K. (2018). Chatbot as a New Business Communication Tool: The Case of Naver TalkTalk. Business Comm unication \\nResearch and Practice. 1 (1), 41 -45. https://doi.org/10.22682/bcrp.2018.1.1.41   \\nIo, H.N., & Lee, C.B. (2019). Understanding the Adoption of Chatbot . In K. Arai, S . Kapoor,  & R. Bhatia  (Eds.), Advances in \\nInformation and Communication Networks Proceedings of the 2018 Future of Information and Commun ication Conference \\n(FICC), Vol. 1  (pp 632 –643). Springer. https://doi.org/10.1007/978 -3-030-03402 -3_44   \\nLee, M. (2023, July 25). Considerations for your chatbot design. UX Magazine . https://uxmag.com/articles/considerations -for-your-\\nchatbot -design -banner   \\nLi, J. e. (2023, June 22). ChatGPT: Lar ge-Scale Language Models for Conversational Agents. CDN Openai .  \\nhttps://cdn.openai.com/better -language -models/chatgpt.pdf   \\nNguyen, T. (2019). Potential effects of chatbot technology on customer support: A case study  [Master´s Thesis]. Aalto University \\nSchool of Science.  \\nOpenAI, L.L.C. (2023, July 22). ChatGPT. ChatGPT . https://chat.openai .com/   \\nOrnes, S. (2023, May 20). Quanta Magazine. The Unpredictable Abilities Emerging from Large AI Models. Quantamagazine . \\nhttps://www.quantamagazine.org/the -unpredictable -abilities -emerging -from -large -ai-models -20230316/#   \\nPark, S. H., Choi , J., Lee, S., Oh, C., Kim, C., La, S., Lee, J., Bongwon Suh , B. (2019). Designing a Chatbot for a Brief Motivational \\nInterview on Stress Management: Qualitative Case Study. Journal of Medical Internet Research , 21 (4), 1 -19. \\ndoi:10.2196/12231   \\nRicciardelli, E., & Biswas, D. (2019). Self -improving chatbots based on reinforcement learning. I n S. Singh (Ed.), 4th Multidisciplinary \\nConference on Reinforcement Learning and Decision Making  (pp. 1 -4). McGill University.  \\nSudan, P.U., & Jeong, S .R. (2022). The Impact of Semi -Supervised Learning on the Performance of Intelligent Chatbot System. \\nComputers, Materials & Continua, 71 (2), 3937 –3952.  \\nThorat, S. A. (2020). A Review on Implementation Issues of Rule -based Chatbot Systems . In Proceedings of  the International \\nConference on Innovative Computing & Communications (ICICC) 2020 . SSRN. https://dx.doi.org/10.2139/ssrn.3567047   \\nWang, X., Lin, X., & Shao, B. (2023 ). Artificial intelligence changes the way we work: A close look at innovating with chatbots. \\nJournal of the Association for Information Science and Technology, 74 (3), 339 –353. \\nZumstein, D., & Hundertmark, S. (2018.). Chatbots: an interactive technology fo r personalized communication and transaction. IADIS \\nInternational Journal on WWW/Internet, 15 (1), 96 –109.  \\n \\n  '),\n",
       " Document(metadata={'source': 'E:\\\\question_bot\\\\data\\\\Chatbot_in_business.pdf', 'page': 7}, page_content='Milan Puva ča, Ivan Kunac   \\n1st International Scientific Conference on Economy, Management and Information Technologies – ICEMIT 2023  226  \\n \\n \\n \\n \\n \\n \\n \\n \\n \\n \\n \\n \\n \\n \\n \\n \\n \\n \\n \\n ')]"
      ]
     },
     "execution_count": 46,
     "metadata": {},
     "output_type": "execute_result"
    }
   ],
   "source": [
    "extracted_data"
   ]
  },
  {
   "cell_type": "code",
   "execution_count": 47,
   "metadata": {},
   "outputs": [],
   "source": [
    "#Create text chunks\n",
    "def text_split(extracted_data):\n",
    "    text_splitter = RecursiveCharacterTextSplitter(chunk_size = 500, chunk_overlap = 20)\n",
    "    text_chunks = text_splitter.split_documents(extracted_data)\n",
    "\n",
    "    return text_chunks"
   ]
  },
  {
   "cell_type": "code",
   "execution_count": 48,
   "metadata": {},
   "outputs": [
    {
     "name": "stdout",
     "output_type": "stream",
     "text": [
      "length of my chunk: 83\n"
     ]
    }
   ],
   "source": [
    "text_chunks = text_split(extracted_data)\n",
    "print(\"length of my chunk:\", len(text_chunks))"
   ]
  },
  {
   "cell_type": "code",
   "execution_count": 49,
   "metadata": {},
   "outputs": [],
   "source": [
    "#download embedding model\n",
    "def download_hugging_face_embeddings():\n",
    "    embeddings = HuggingFaceEmbeddings(model_name=\"sentence-transformers/all-MiniLM-L6-v2\")\n",
    "    return embeddings"
   ]
  },
  {
   "cell_type": "code",
   "execution_count": 50,
   "metadata": {},
   "outputs": [],
   "source": [
    "import os\n",
    "os.environ['HF_HUB_DISABLE_SYMLINKS_WARNING'] = '1'\n"
   ]
  },
  {
   "cell_type": "code",
   "execution_count": 51,
   "metadata": {},
   "outputs": [],
   "source": [
    "embeddings = download_hugging_face_embeddings()"
   ]
  },
  {
   "cell_type": "code",
   "execution_count": 52,
   "metadata": {},
   "outputs": [
    {
     "data": {
      "text/plain": [
       "HuggingFaceEmbeddings(client=SentenceTransformer(\n",
       "  (0): Transformer({'max_seq_length': 256, 'do_lower_case': False}) with Transformer model: BertModel \n",
       "  (1): Pooling({'word_embedding_dimension': 384, 'pooling_mode_cls_token': False, 'pooling_mode_mean_tokens': True, 'pooling_mode_max_tokens': False, 'pooling_mode_mean_sqrt_len_tokens': False, 'pooling_mode_weightedmean_tokens': False, 'pooling_mode_lasttoken': False, 'include_prompt': True})\n",
       "  (2): Normalize()\n",
       "), model_name='sentence-transformers/all-MiniLM-L6-v2', cache_folder=None, model_kwargs={}, encode_kwargs={}, multi_process=False, show_progress=False)"
      ]
     },
     "execution_count": 52,
     "metadata": {},
     "output_type": "execute_result"
    }
   ],
   "source": [
    "embeddings"
   ]
  },
  {
   "cell_type": "code",
   "execution_count": 53,
   "metadata": {},
   "outputs": [
    {
     "name": "stdout",
     "output_type": "stream",
     "text": [
      "Length 384\n"
     ]
    }
   ],
   "source": [
    "query_result = embeddings.embed_query(\"Hello world\")\n",
    "print(\"Length\", len(query_result))"
   ]
  },
  {
   "cell_type": "code",
   "execution_count": 54,
   "metadata": {},
   "outputs": [],
   "source": [
    "import pinecone\n",
    "from pinecone import Pinecone,ServerlessSpec"
   ]
  },
  {
   "cell_type": "code",
   "execution_count": 55,
   "metadata": {},
   "outputs": [],
   "source": [
    "from pinecone import Pinecone\n",
    "\n",
    "# Initialize Pinecone with your API key and environment\n",
    "pinecone = Pinecone(api_key=PINECONE_API_KEY, environment=PINECONE_API_ENV)\n"
   ]
  },
  {
   "cell_type": "code",
   "execution_count": 56,
   "metadata": {},
   "outputs": [
    {
     "data": {
      "text/plain": [
       "<pinecone.control.pinecone.Pinecone at 0x25ad6af5ac0>"
      ]
     },
     "execution_count": 56,
     "metadata": {},
     "output_type": "execute_result"
    }
   ],
   "source": [
    "pinecone"
   ]
  },
  {
   "cell_type": "code",
   "execution_count": 57,
   "metadata": {},
   "outputs": [],
   "source": [
    "index_name = \"question-bot\"\n",
    "# Your other operations with Pinecone\n"
   ]
  },
  {
   "cell_type": "code",
   "execution_count": 60,
   "metadata": {},
   "outputs": [
    {
     "ename": "AttributeError",
     "evalue": "init is no longer a top-level attribute of the pinecone package.\n\nPlease create an instance of the Pinecone class instead.\n\nExample:\n\n    import os\n    from pinecone import Pinecone, ServerlessSpec\n\n    pc = Pinecone(\n        api_key=os.environ.get(\"PINECONE_API_KEY\")\n    )\n\n    # Now do stuff\n    if 'my_index' not in pc.list_indexes().names():\n        pc.create_index(\n            name='my_index', \n            dimension=1536, \n            metric='euclidean',\n            spec=ServerlessSpec(\n                cloud='aws',\n                region='us-west-2'\n            )\n        )\n\n",
     "output_type": "error",
     "traceback": [
      "\u001b[1;31m---------------------------------------------------------------------------\u001b[0m",
      "\u001b[1;31mAttributeError\u001b[0m                            Traceback (most recent call last)",
      "Cell \u001b[1;32mIn[60], line 2\u001b[0m\n\u001b[0;32m      1\u001b[0m \u001b[38;5;66;03m#Initializing the Pinecone\u001b[39;00m\n\u001b[1;32m----> 2\u001b[0m \u001b[43mpinecone\u001b[49m\u001b[38;5;241;43m.\u001b[39;49m\u001b[43minit\u001b[49m\u001b[43m(\u001b[49m\u001b[43mapi_key\u001b[49m\u001b[38;5;241;43m=\u001b[39;49m\u001b[43mPINECONE_API_KEY\u001b[49m\u001b[43m,\u001b[49m\n\u001b[0;32m      3\u001b[0m \u001b[43m              \u001b[49m\u001b[43menvironment\u001b[49m\u001b[38;5;241;43m=\u001b[39;49m\u001b[43mPINECONE_API_ENV\u001b[49m\u001b[43m)\u001b[49m\n\u001b[0;32m      5\u001b[0m index_name\u001b[38;5;241m=\u001b[39m\u001b[38;5;124m\"\u001b[39m\u001b[38;5;124mquestion-bot\u001b[39m\u001b[38;5;124m\"\u001b[39m\n\u001b[0;32m      7\u001b[0m \u001b[38;5;66;03m#Creating Embeddings for Each of The Text Chunks & storing\u001b[39;00m\n",
      "File \u001b[1;32mc:\\Users\\realme\\anaconda3\\envs\\vivek2110\\lib\\site-packages\\pinecone\\deprecation_warnings.py:39\u001b[0m, in \u001b[0;36minit\u001b[1;34m(*args, **kwargs)\u001b[0m\n\u001b[0;32m     12\u001b[0m     example \u001b[38;5;241m=\u001b[39m \u001b[38;5;124m\"\"\"\u001b[39m\n\u001b[0;32m     13\u001b[0m \u001b[38;5;124m    import os\u001b[39m\n\u001b[0;32m     14\u001b[0m \u001b[38;5;124m    from pinecone import Pinecone, ServerlessSpec\u001b[39m\n\u001b[1;32m   (...)\u001b[0m\n\u001b[0;32m     30\u001b[0m \u001b[38;5;124m        )\u001b[39m\n\u001b[0;32m     31\u001b[0m \u001b[38;5;124m\"\"\"\u001b[39m\n\u001b[0;32m     32\u001b[0m     msg \u001b[38;5;241m=\u001b[39m \u001b[38;5;124mf\u001b[39m\u001b[38;5;124m\"\"\"\u001b[39m\u001b[38;5;124minit is no longer a top-level attribute of the pinecone package.\u001b[39m\n\u001b[0;32m     33\u001b[0m \n\u001b[0;32m     34\u001b[0m \u001b[38;5;124mPlease create an instance of the Pinecone class instead.\u001b[39m\n\u001b[1;32m   (...)\u001b[0m\n\u001b[0;32m     37\u001b[0m \u001b[38;5;132;01m{\u001b[39;00mexample\u001b[38;5;132;01m}\u001b[39;00m\n\u001b[0;32m     38\u001b[0m \u001b[38;5;124m\"\"\"\u001b[39m\n\u001b[1;32m---> 39\u001b[0m     \u001b[38;5;28;01mraise\u001b[39;00m \u001b[38;5;167;01mAttributeError\u001b[39;00m(msg)\n",
      "\u001b[1;31mAttributeError\u001b[0m: init is no longer a top-level attribute of the pinecone package.\n\nPlease create an instance of the Pinecone class instead.\n\nExample:\n\n    import os\n    from pinecone import Pinecone, ServerlessSpec\n\n    pc = Pinecone(\n        api_key=os.environ.get(\"PINECONE_API_KEY\")\n    )\n\n    # Now do stuff\n    if 'my_index' not in pc.list_indexes().names():\n        pc.create_index(\n            name='my_index', \n            dimension=1536, \n            metric='euclidean',\n            spec=ServerlessSpec(\n                cloud='aws',\n                region='us-west-2'\n            )\n        )\n\n"
     ]
    }
   ],
   "source": [
    "\n",
    "#Initializing the Pinecone\n",
    "pinecone.init(api_key=PINECONE_API_KEY,\n",
    "              environment=PINECONE_API_ENV)\n",
    "\n",
    "index_name=\"question-bot\"\n",
    "\n",
    "#Creating Embeddings for Each of The Text Chunks & storing\n",
    "docsearch=Pinecone.from_texts([t.page_content for t in text_chunks], embeddings, index_name=index_name)"
   ]
  },
  {
   "cell_type": "code",
   "execution_count": 59,
   "metadata": {},
   "outputs": [
    {
     "ename": "AttributeError",
     "evalue": "init is no longer a top-level attribute of the pinecone package.\n\nPlease create an instance of the Pinecone class instead.\n\nExample:\n\n    import os\n    from pinecone import Pinecone, ServerlessSpec\n\n    pc = Pinecone(\n        api_key=os.environ.get(\"PINECONE_API_KEY\")\n    )\n\n    # Now do stuff\n    if 'my_index' not in pc.list_indexes().names():\n        pc.create_index(\n            name='my_index', \n            dimension=1536, \n            metric='euclidean',\n            spec=ServerlessSpec(\n                cloud='aws',\n                region='us-west-2'\n            )\n        )\n\n",
     "output_type": "error",
     "traceback": [
      "\u001b[1;31m---------------------------------------------------------------------------\u001b[0m",
      "\u001b[1;31mAttributeError\u001b[0m                            Traceback (most recent call last)",
      "Cell \u001b[1;32mIn[59], line 4\u001b[0m\n\u001b[0;32m      1\u001b[0m \u001b[38;5;28;01mimport\u001b[39;00m \u001b[38;5;21;01mpinecone\u001b[39;00m\n\u001b[0;32m      3\u001b[0m \u001b[38;5;66;03m# Initialize Pinecone with environment and API key\u001b[39;00m\n\u001b[1;32m----> 4\u001b[0m \u001b[43mpinecone\u001b[49m\u001b[38;5;241;43m.\u001b[39;49m\u001b[43minit\u001b[49m\u001b[43m(\u001b[49m\u001b[43mapi_key\u001b[49m\u001b[38;5;241;43m=\u001b[39;49m\u001b[43mPINECONE_API_KEY\u001b[49m\u001b[43m,\u001b[49m\u001b[43m \u001b[49m\u001b[43menvironment\u001b[49m\u001b[38;5;241;43m=\u001b[39;49m\u001b[43mPINECONE_API_ENV\u001b[49m\u001b[43m)\u001b[49m\n\u001b[0;32m      6\u001b[0m \u001b[38;5;66;03m# Create a client instance\u001b[39;00m\n\u001b[0;32m      7\u001b[0m client \u001b[38;5;241m=\u001b[39m pinecone\u001b[38;5;241m.\u001b[39mClient()\n",
      "File \u001b[1;32mc:\\Users\\realme\\anaconda3\\envs\\vivek2110\\lib\\site-packages\\pinecone\\deprecation_warnings.py:39\u001b[0m, in \u001b[0;36minit\u001b[1;34m(*args, **kwargs)\u001b[0m\n\u001b[0;32m     12\u001b[0m     example \u001b[38;5;241m=\u001b[39m \u001b[38;5;124m\"\"\"\u001b[39m\n\u001b[0;32m     13\u001b[0m \u001b[38;5;124m    import os\u001b[39m\n\u001b[0;32m     14\u001b[0m \u001b[38;5;124m    from pinecone import Pinecone, ServerlessSpec\u001b[39m\n\u001b[1;32m   (...)\u001b[0m\n\u001b[0;32m     30\u001b[0m \u001b[38;5;124m        )\u001b[39m\n\u001b[0;32m     31\u001b[0m \u001b[38;5;124m\"\"\"\u001b[39m\n\u001b[0;32m     32\u001b[0m     msg \u001b[38;5;241m=\u001b[39m \u001b[38;5;124mf\u001b[39m\u001b[38;5;124m\"\"\"\u001b[39m\u001b[38;5;124minit is no longer a top-level attribute of the pinecone package.\u001b[39m\n\u001b[0;32m     33\u001b[0m \n\u001b[0;32m     34\u001b[0m \u001b[38;5;124mPlease create an instance of the Pinecone class instead.\u001b[39m\n\u001b[1;32m   (...)\u001b[0m\n\u001b[0;32m     37\u001b[0m \u001b[38;5;132;01m{\u001b[39;00mexample\u001b[38;5;132;01m}\u001b[39;00m\n\u001b[0;32m     38\u001b[0m \u001b[38;5;124m\"\"\"\u001b[39m\n\u001b[1;32m---> 39\u001b[0m     \u001b[38;5;28;01mraise\u001b[39;00m \u001b[38;5;167;01mAttributeError\u001b[39;00m(msg)\n",
      "\u001b[1;31mAttributeError\u001b[0m: init is no longer a top-level attribute of the pinecone package.\n\nPlease create an instance of the Pinecone class instead.\n\nExample:\n\n    import os\n    from pinecone import Pinecone, ServerlessSpec\n\n    pc = Pinecone(\n        api_key=os.environ.get(\"PINECONE_API_KEY\")\n    )\n\n    # Now do stuff\n    if 'my_index' not in pc.list_indexes().names():\n        pc.create_index(\n            name='my_index', \n            dimension=1536, \n            metric='euclidean',\n            spec=ServerlessSpec(\n                cloud='aws',\n                region='us-west-2'\n            )\n        )\n\n"
     ]
    }
   ],
   "source": [
    "import pinecone\n",
    "\n",
    "# Initialize Pinecone with environment and API key\n",
    "pinecone.init(api_key=PINECONE_API_KEY, environment=PINECONE_API_ENV)\n",
    "\n",
    "# Create a client instance\n",
    "client = pinecone.Client()\n",
    "\n",
    "# Load the existing index\n",
    "index_name = \"question-bot\"\n",
    "index = client.Index(index_name)\n"
   ]
  },
  {
   "cell_type": "code",
   "execution_count": null,
   "metadata": {},
   "outputs": [],
   "source": []
  },
  {
   "cell_type": "code",
   "execution_count": 1,
   "metadata": {},
   "outputs": [
    {
     "ename": "NameError",
     "evalue": "name 'Pinecone' is not defined",
     "output_type": "error",
     "traceback": [
      "\u001b[1;31m---------------------------------------------------------------------------\u001b[0m",
      "\u001b[1;31mNameError\u001b[0m                                 Traceback (most recent call last)",
      "Cell \u001b[1;32mIn[1], line 2\u001b[0m\n\u001b[0;32m      1\u001b[0m \u001b[38;5;66;03m#If we already have an index we can load it like this\u001b[39;00m\n\u001b[1;32m----> 2\u001b[0m docsearch\u001b[38;5;241m=\u001b[39m\u001b[43mPinecone\u001b[49m\u001b[38;5;241m.\u001b[39mfrom_existing_index(index_name, embeddings)\n\u001b[0;32m      4\u001b[0m query \u001b[38;5;241m=\u001b[39m \u001b[38;5;124m\"\u001b[39m\u001b[38;5;124mWhat are business\u001b[39m\u001b[38;5;124m\"\u001b[39m\n\u001b[0;32m      6\u001b[0m docs\u001b[38;5;241m=\u001b[39mdocsearch\u001b[38;5;241m.\u001b[39msimilarity_search(query, k\u001b[38;5;241m=\u001b[39m\u001b[38;5;241m3\u001b[39m)\n",
      "\u001b[1;31mNameError\u001b[0m: name 'Pinecone' is not defined"
     ]
    }
   ],
   "source": [
    "#If we already have an index we can load it like this\n",
    "docsearch=Pinecone.from_existing_index(index_name, embeddings)\n",
    "\n",
    "query = \"What are business\"\n",
    "\n",
    "docs=docsearch.similarity_search(query, k=3)\n",
    "\n",
    "print(\"Result\", docs)"
   ]
  },
  {
   "cell_type": "code",
   "execution_count": 4,
   "metadata": {},
   "outputs": [],
   "source": [
    "prompt_template=\"\"\"\n",
    "Use the following pieces of information to answer the user's question.\n",
    "If you don't know the answer, just say that you don't know, don't try to make up an answer.\n",
    "\n",
    "Context: {context}\n",
    "Question: {question}\n",
    "\n",
    "Only return the helpful answer below and nothing else.\n",
    "Helpful answer:\n",
    "\"\"\""
   ]
  },
  {
   "cell_type": "code",
   "execution_count": 5,
   "metadata": {},
   "outputs": [
    {
     "ename": "NameError",
     "evalue": "name 'PromptTemplate' is not defined",
     "output_type": "error",
     "traceback": [
      "\u001b[1;31m---------------------------------------------------------------------------\u001b[0m",
      "\u001b[1;31mNameError\u001b[0m                                 Traceback (most recent call last)",
      "Cell \u001b[1;32mIn[5], line 1\u001b[0m\n\u001b[1;32m----> 1\u001b[0m PROMPT\u001b[38;5;241m=\u001b[39m\u001b[43mPromptTemplate\u001b[49m(template\u001b[38;5;241m=\u001b[39mprompt_template, input_variables\u001b[38;5;241m=\u001b[39m[\u001b[38;5;124m\"\u001b[39m\u001b[38;5;124mcontext\u001b[39m\u001b[38;5;124m\"\u001b[39m, \u001b[38;5;124m\"\u001b[39m\u001b[38;5;124mquestion\u001b[39m\u001b[38;5;124m\"\u001b[39m])\n\u001b[0;32m      2\u001b[0m chain_type_kwargs\u001b[38;5;241m=\u001b[39m{\u001b[38;5;124m\"\u001b[39m\u001b[38;5;124mprompt\u001b[39m\u001b[38;5;124m\"\u001b[39m: PROMPT}\n",
      "\u001b[1;31mNameError\u001b[0m: name 'PromptTemplate' is not defined"
     ]
    }
   ],
   "source": [
    "PROMPT=PromptTemplate(template=prompt_template, input_variables=[\"context\", \"question\"])\n",
    "chain_type_kwargs={\"prompt\": PROMPT}"
   ]
  },
  {
   "cell_type": "code",
   "execution_count": 9,
   "metadata": {},
   "outputs": [
    {
     "name": "stdout",
     "output_type": "stream",
     "text": [
      "Requirement already satisfied: ctransformers in c:\\users\\realme\\anaconda3\\envs\\vivek2110\\lib\\site-packages (0.2.27)\n",
      "Requirement already satisfied: huggingface-hub in c:\\users\\realme\\anaconda3\\envs\\vivek2110\\lib\\site-packages (from ctransformers) (0.24.2)\n",
      "Requirement already satisfied: py-cpuinfo<10.0.0,>=9.0.0 in c:\\users\\realme\\anaconda3\\envs\\vivek2110\\lib\\site-packages (from ctransformers) (9.0.0)\n",
      "Requirement already satisfied: filelock in c:\\users\\realme\\anaconda3\\envs\\vivek2110\\lib\\site-packages (from huggingface-hub->ctransformers) (3.15.4)\n",
      "Requirement already satisfied: fsspec>=2023.5.0 in c:\\users\\realme\\anaconda3\\envs\\vivek2110\\lib\\site-packages (from huggingface-hub->ctransformers) (2024.6.1)\n",
      "Requirement already satisfied: packaging>=20.9 in c:\\users\\realme\\anaconda3\\envs\\vivek2110\\lib\\site-packages (from huggingface-hub->ctransformers) (24.1)\n",
      "Requirement already satisfied: pyyaml>=5.1 in c:\\users\\realme\\anaconda3\\envs\\vivek2110\\lib\\site-packages (from huggingface-hub->ctransformers) (6.0.1)\n",
      "Requirement already satisfied: requests in c:\\users\\realme\\anaconda3\\envs\\vivek2110\\lib\\site-packages (from huggingface-hub->ctransformers) (2.32.3)\n",
      "Requirement already satisfied: tqdm>=4.42.1 in c:\\users\\realme\\anaconda3\\envs\\vivek2110\\lib\\site-packages (from huggingface-hub->ctransformers) (4.66.4)\n",
      "Requirement already satisfied: typing-extensions>=3.7.4.3 in c:\\users\\realme\\anaconda3\\envs\\vivek2110\\lib\\site-packages (from huggingface-hub->ctransformers) (4.12.2)\n",
      "Requirement already satisfied: colorama in c:\\users\\realme\\anaconda3\\envs\\vivek2110\\lib\\site-packages (from tqdm>=4.42.1->huggingface-hub->ctransformers) (0.4.6)\n",
      "Requirement already satisfied: charset-normalizer<4,>=2 in c:\\users\\realme\\anaconda3\\envs\\vivek2110\\lib\\site-packages (from requests->huggingface-hub->ctransformers) (3.3.2)\n",
      "Requirement already satisfied: idna<4,>=2.5 in c:\\users\\realme\\anaconda3\\envs\\vivek2110\\lib\\site-packages (from requests->huggingface-hub->ctransformers) (3.7)\n",
      "Requirement already satisfied: urllib3<3,>=1.21.1 in c:\\users\\realme\\anaconda3\\envs\\vivek2110\\lib\\site-packages (from requests->huggingface-hub->ctransformers) (1.26.19)\n",
      "Requirement already satisfied: certifi>=2017.4.17 in c:\\users\\realme\\anaconda3\\envs\\vivek2110\\lib\\site-packages (from requests->huggingface-hub->ctransformers) (2024.7.4)\n"
     ]
    }
   ],
   "source": [
    "!pip install ctransformers\n"
   ]
  },
  {
   "cell_type": "code",
   "execution_count": 13,
   "metadata": {},
   "outputs": [
    {
     "name": "stdout",
     "output_type": "stream",
     "text": [
      "['AutoConfig', 'AutoModelForCausalLM', 'AutoTokenizer', 'Config', 'LLM', '__builtins__', '__cached__', '__doc__', '__file__', '__loader__', '__name__', '__package__', '__path__', '__spec__', 'hub', 'lib', 'llm', 'logger', 'utils']\n",
      "Requirement already satisfied: ctransformers in c:\\users\\realme\\anaconda3\\envs\\vivek2110\\lib\\site-packages (0.2.27)\n",
      "Requirement already satisfied: huggingface-hub in c:\\users\\realme\\anaconda3\\envs\\vivek2110\\lib\\site-packages (from ctransformers) (0.24.2)\n",
      "Requirement already satisfied: py-cpuinfo<10.0.0,>=9.0.0 in c:\\users\\realme\\anaconda3\\envs\\vivek2110\\lib\\site-packages (from ctransformers) (9.0.0)\n",
      "Requirement already satisfied: filelock in c:\\users\\realme\\anaconda3\\envs\\vivek2110\\lib\\site-packages (from huggingface-hub->ctransformers) (3.15.4)\n",
      "Requirement already satisfied: fsspec>=2023.5.0 in c:\\users\\realme\\anaconda3\\envs\\vivek2110\\lib\\site-packages (from huggingface-hub->ctransformers) (2024.6.1)\n",
      "Requirement already satisfied: packaging>=20.9 in c:\\users\\realme\\anaconda3\\envs\\vivek2110\\lib\\site-packages (from huggingface-hub->ctransformers) (24.1)\n",
      "Requirement already satisfied: pyyaml>=5.1 in c:\\users\\realme\\anaconda3\\envs\\vivek2110\\lib\\site-packages (from huggingface-hub->ctransformers) (6.0.1)\n",
      "Requirement already satisfied: requests in c:\\users\\realme\\anaconda3\\envs\\vivek2110\\lib\\site-packages (from huggingface-hub->ctransformers) (2.32.3)\n",
      "Requirement already satisfied: tqdm>=4.42.1 in c:\\users\\realme\\anaconda3\\envs\\vivek2110\\lib\\site-packages (from huggingface-hub->ctransformers) (4.66.4)\n",
      "Requirement already satisfied: typing-extensions>=3.7.4.3 in c:\\users\\realme\\anaconda3\\envs\\vivek2110\\lib\\site-packages (from huggingface-hub->ctransformers) (4.12.2)\n",
      "Requirement already satisfied: colorama in c:\\users\\realme\\anaconda3\\envs\\vivek2110\\lib\\site-packages (from tqdm>=4.42.1->huggingface-hub->ctransformers) (0.4.6)\n",
      "Requirement already satisfied: charset-normalizer<4,>=2 in c:\\users\\realme\\anaconda3\\envs\\vivek2110\\lib\\site-packages (from requests->huggingface-hub->ctransformers) (3.3.2)\n",
      "Requirement already satisfied: idna<4,>=2.5 in c:\\users\\realme\\anaconda3\\envs\\vivek2110\\lib\\site-packages (from requests->huggingface-hub->ctransformers) (3.7)\n",
      "Requirement already satisfied: urllib3<3,>=1.21.1 in c:\\users\\realme\\anaconda3\\envs\\vivek2110\\lib\\site-packages (from requests->huggingface-hub->ctransformers) (1.26.19)\n",
      "Requirement already satisfied: certifi>=2017.4.17 in c:\\users\\realme\\anaconda3\\envs\\vivek2110\\lib\\site-packages (from requests->huggingface-hub->ctransformers) (2024.7.4)\n"
     ]
    }
   ],
   "source": [
    "import ctransformers\n",
    "print(dir(ctransformers))\n",
    "!pip install --upgrade ctransformers\n"
   ]
  },
  {
   "cell_type": "code",
   "execution_count": 14,
   "metadata": {},
   "outputs": [
    {
     "ename": "ImportError",
     "evalue": "cannot import name 'CTransformers' from 'ctransformers' (c:\\Users\\realme\\anaconda3\\envs\\vivek2110\\lib\\site-packages\\ctransformers\\__init__.py)",
     "output_type": "error",
     "traceback": [
      "\u001b[1;31m---------------------------------------------------------------------------\u001b[0m",
      "\u001b[1;31mImportError\u001b[0m                               Traceback (most recent call last)",
      "Cell \u001b[1;32mIn[14], line 1\u001b[0m\n\u001b[1;32m----> 1\u001b[0m \u001b[38;5;28;01mfrom\u001b[39;00m \u001b[38;5;21;01mctransformers\u001b[39;00m \u001b[38;5;28;01mimport\u001b[39;00m CTransformers\n\u001b[0;32m      3\u001b[0m llm \u001b[38;5;241m=\u001b[39m CTransformers(\n\u001b[0;32m      4\u001b[0m     model\u001b[38;5;241m=\u001b[39m\u001b[38;5;124m\"\u001b[39m\u001b[38;5;124mmodel/llama-2-7b-chat.ggmlv3.q4_0.bin\u001b[39m\u001b[38;5;124m\"\u001b[39m,\n\u001b[0;32m      5\u001b[0m     model_type\u001b[38;5;241m=\u001b[39m\u001b[38;5;124m\"\u001b[39m\u001b[38;5;124mllama\u001b[39m\u001b[38;5;124m\"\u001b[39m,\n\u001b[1;32m   (...)\u001b[0m\n\u001b[0;32m      9\u001b[0m     }\n\u001b[0;32m     10\u001b[0m )\n",
      "\u001b[1;31mImportError\u001b[0m: cannot import name 'CTransformers' from 'ctransformers' (c:\\Users\\realme\\anaconda3\\envs\\vivek2110\\lib\\site-packages\\ctransformers\\__init__.py)"
     ]
    }
   ],
   "source": [
    "from ctransformers import CTransformers\n",
    "\n",
    "llm = CTransformers(\n",
    "    model=\"model/llama-2-7b-chat.ggmlv3.q4_0.bin\",\n",
    "    model_type=\"llama\",\n",
    "    config={\n",
    "        'max_new_tokens': 512,\n",
    "        'temperature': 0.8\n",
    "    }\n",
    ")\n"
   ]
  },
  {
   "cell_type": "code",
   "execution_count": 6,
   "metadata": {},
   "outputs": [
    {
     "ename": "NameError",
     "evalue": "name 'CTransformers' is not defined",
     "output_type": "error",
     "traceback": [
      "\u001b[1;31m---------------------------------------------------------------------------\u001b[0m",
      "\u001b[1;31mNameError\u001b[0m                                 Traceback (most recent call last)",
      "Cell \u001b[1;32mIn[6], line 1\u001b[0m\n\u001b[1;32m----> 1\u001b[0m llm\u001b[38;5;241m=\u001b[39m\u001b[43mCTransformers\u001b[49m(model\u001b[38;5;241m=\u001b[39m\u001b[38;5;124m\"\u001b[39m\u001b[38;5;124mmodel/llama-2-7b-chat.ggmlv3.q4_0.bin\u001b[39m\u001b[38;5;124m\"\u001b[39m,\n\u001b[0;32m      2\u001b[0m                   model_type\u001b[38;5;241m=\u001b[39m\u001b[38;5;124m\"\u001b[39m\u001b[38;5;124mllama\u001b[39m\u001b[38;5;124m\"\u001b[39m,\n\u001b[0;32m      3\u001b[0m                   config\u001b[38;5;241m=\u001b[39m{\u001b[38;5;124m'\u001b[39m\u001b[38;5;124mmax_new_tokens\u001b[39m\u001b[38;5;124m'\u001b[39m:\u001b[38;5;241m512\u001b[39m,\n\u001b[0;32m      4\u001b[0m                           \u001b[38;5;124m'\u001b[39m\u001b[38;5;124mtemperature\u001b[39m\u001b[38;5;124m'\u001b[39m:\u001b[38;5;241m0.8\u001b[39m})\n",
      "\u001b[1;31mNameError\u001b[0m: name 'CTransformers' is not defined"
     ]
    }
   ],
   "source": [
    "llm=CTransformers(model=\"model/llama-2-7b-chat.ggmlv3.q4_0.bin\",\n",
    "                  model_type=\"llama\",\n",
    "                  config={'max_new_tokens':512,\n",
    "                          'temperature':0.8})"
   ]
  },
  {
   "cell_type": "code",
   "execution_count": 7,
   "metadata": {},
   "outputs": [
    {
     "ename": "NameError",
     "evalue": "name 'RetrievalQA' is not defined",
     "output_type": "error",
     "traceback": [
      "\u001b[1;31m---------------------------------------------------------------------------\u001b[0m",
      "\u001b[1;31mNameError\u001b[0m                                 Traceback (most recent call last)",
      "Cell \u001b[1;32mIn[7], line 1\u001b[0m\n\u001b[1;32m----> 1\u001b[0m qa\u001b[38;5;241m=\u001b[39m\u001b[43mRetrievalQA\u001b[49m\u001b[38;5;241m.\u001b[39mfrom_chain_type(\n\u001b[0;32m      2\u001b[0m     llm\u001b[38;5;241m=\u001b[39mllm, \n\u001b[0;32m      3\u001b[0m     chain_type\u001b[38;5;241m=\u001b[39m\u001b[38;5;124m\"\u001b[39m\u001b[38;5;124mstuff\u001b[39m\u001b[38;5;124m\"\u001b[39m, \n\u001b[0;32m      4\u001b[0m     retriever\u001b[38;5;241m=\u001b[39mdocsearch\u001b[38;5;241m.\u001b[39mas_retriever(search_kwargs\u001b[38;5;241m=\u001b[39m{\u001b[38;5;124m'\u001b[39m\u001b[38;5;124mk\u001b[39m\u001b[38;5;124m'\u001b[39m: \u001b[38;5;241m2\u001b[39m}),\n\u001b[0;32m      5\u001b[0m     return_source_documents\u001b[38;5;241m=\u001b[39m\u001b[38;5;28;01mTrue\u001b[39;00m, \n\u001b[0;32m      6\u001b[0m     chain_type_kwargs\u001b[38;5;241m=\u001b[39mchain_type_kwargs)\n",
      "\u001b[1;31mNameError\u001b[0m: name 'RetrievalQA' is not defined"
     ]
    }
   ],
   "source": [
    "qa=RetrievalQA.from_chain_type(\n",
    "    llm=llm, \n",
    "    chain_type=\"stuff\", \n",
    "    retriever=docsearch.as_retriever(search_kwargs={'k': 2}),\n",
    "    return_source_documents=True, \n",
    "    chain_type_kwargs=chain_type_kwargs)"
   ]
  },
  {
   "cell_type": "code",
   "execution_count": null,
   "metadata": {},
   "outputs": [],
   "source": []
  }
 ],
 "metadata": {
  "kernelspec": {
   "display_name": "vivek2110",
   "language": "python",
   "name": "python3"
  },
  "language_info": {
   "codemirror_mode": {
    "name": "ipython",
    "version": 3
   },
   "file_extension": ".py",
   "mimetype": "text/x-python",
   "name": "python",
   "nbconvert_exporter": "python",
   "pygments_lexer": "ipython3",
   "version": "3.8.19"
  }
 },
 "nbformat": 4,
 "nbformat_minor": 2
}
